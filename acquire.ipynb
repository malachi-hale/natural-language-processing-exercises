{
 "cells": [
  {
   "cell_type": "markdown",
   "id": "020f6d81",
   "metadata": {},
   "source": [
    "# Acquire Functions"
   ]
  },
  {
   "cell_type": "markdown",
   "id": "4ccf9d88",
   "metadata": {},
   "source": [
    "## Import Libraries"
   ]
  },
  {
   "cell_type": "code",
   "execution_count": 2,
   "id": "d0fb2e0d",
   "metadata": {},
   "outputs": [],
   "source": [
    "import requests\n",
    "from bs4 import BeautifulSoup \n",
    "import pandas as pd"
   ]
  },
  {
   "cell_type": "markdown",
   "id": "cef58412",
   "metadata": {},
   "source": [
    "## Web Scraping"
   ]
  },
  {
   "cell_type": "markdown",
   "id": "495f0e5b",
   "metadata": {},
   "source": [
    "### Career Accelarator is Here"
   ]
  },
  {
   "cell_type": "markdown",
   "id": "0d1757f3",
   "metadata": {},
   "source": [
    "https://codeup.com/data-science/codeups-data-science-career-accelerator-is-here/"
   ]
  },
  {
   "cell_type": "code",
   "execution_count": 276,
   "id": "ba59000c",
   "metadata": {},
   "outputs": [],
   "source": [
    "url = 'https://codeup.com/data-science/codeups-data-science-career-accelerator-is-here/'\n",
    "headers = {'User-Agent': 'malachi-hale'}\n",
    "response = requests.get(url, headers=headers)\n",
    "html = response.text"
   ]
  },
  {
   "cell_type": "code",
   "execution_count": 277,
   "id": "1c0ce5d8",
   "metadata": {
    "scrolled": true
   },
   "outputs": [],
   "source": [
    "soup = BeautifulSoup(html)"
   ]
  },
  {
   "cell_type": "code",
   "execution_count": 19,
   "id": "e64fb3ee",
   "metadata": {},
   "outputs": [],
   "source": [
    "body = soup.select(\".et_pb_module.et_pb_post_content.et_pb_post_content_0_tb_body\")"
   ]
  },
  {
   "cell_type": "code",
   "execution_count": 20,
   "id": "3d499a41",
   "metadata": {
    "scrolled": true
   },
   "outputs": [
    {
     "data": {
      "text/plain": [
       "[<div class=\"et_pb_module et_pb_post_content et_pb_post_content_0_tb_body\">\n",
       " <p>The rumors are true! The time has arrived. Codeup has officially opened applications to our new Data Science career accelerator, with only 25 seats available! This immersive program is one of a kind in San Antonio, and will help you land a job in <strong><a href=\"https://www.glassdoor.com/List/Best-Jobs-in-America-LST_KQ0,20.htm\">Glassdoor’s #1 Best Job in America</a></strong>.</p>\n",
       " <p><a href=\"https://tribucodeup.wpengine.com/what-is-data-science/\"><strong>Data Science is a method of providing actionable intelligence from data.</strong></a> The data revolution has hit San Antonio, <strong><a href=\"https://www.indeed.com/jobs?q=Data+Scientist&amp;l=San+Antonio%2C+TX\">resulting in an explosion in Data Scientist positions</a> </strong>across companies like USAA, Accenture, Booz Allen Hamilton, and HEB. We’ve even seen <strong><a href=\"https://therivardreport.com/utsa-lands-70m-for-cybersecurity-center-school-of-data-science/\">UTSA invest $70 M for a Cybersecurity Center and School of Data Science.</a> </strong>We built a program to specifically meet the growing demands of this industry.</p>\n",
       " <p>Our program will be 18 weeks long, full-time, hands-on, and project-based. Our curriculum development and instruction is led by Senior Data Scientist, Maggie Giust, who has worked at HEB, Capital Group, and Rackspace, along with input from dozens of practitioners and hiring partners. Students will work with real data sets, realistic problems, and the entire data science pipeline from collection to deployment. They will receive professional development training in resume writing, interviewing, and continuing education to prepare for a smooth transition to the workforce.</p>\n",
       " <p>We focus on applied data science for immediate impact and ROI in a business, which is how we can back it all up with a 6 month tuition refund guarantee – just like our existing Web Dev program. We’re focusing on Data Science with Python, SQL, and ML, covered in <strong>14 modules</strong>: 1) Fundamentals; 2) Applied statistics; 3) SQL; 4) Python; 5) Supervised machine learning – regression; 6) Supervised machine learning – classification; 7) Unsupervised machine learning – clustering; 8) Time series analysis; 9) Anomaly detection; 10) Natural language processing; 11) Distributed machine learning; 12) Advanced topics (deep learning, NoSQL, cloud deployment, etc.); 13) Storytelling with data; and 14) Domain expertise development.</p>\n",
       " <p><strong>Applications are now open</strong> for Codeup’s first Data Science cohort, which will start class on February 4, 2019. Hurry – there are only 25 seats available! To further our mission of cultivating inclusive growth, scholarships will be available to women, minorities, LGBTQIA+ individuals, veterans, first responders, and people relocating to San Antonio.</p>\n",
       " <p>If you want to learn about <a href=\"https://codeup.com/apply\">joining our program</a> or <a href=\"https://alumni.codeup.com/\">hiring our graduates</a>, email datascience@codeup.com!</p>\n",
       " </div>]"
      ]
     },
     "execution_count": 20,
     "metadata": {},
     "output_type": "execute_result"
    }
   ],
   "source": [
    "body"
   ]
  },
  {
   "cell_type": "code",
   "execution_count": 21,
   "id": "609e3a27",
   "metadata": {
    "scrolled": true
   },
   "outputs": [
    {
     "data": {
      "text/plain": [
       "[<p>The rumors are true! The time has arrived. Codeup has officially opened applications to our new Data Science career accelerator, with only 25 seats available! This immersive program is one of a kind in San Antonio, and will help you land a job in <strong><a href=\"https://www.glassdoor.com/List/Best-Jobs-in-America-LST_KQ0,20.htm\">Glassdoor’s #1 Best Job in America</a></strong>.</p>,\n",
       " <p><a href=\"https://tribucodeup.wpengine.com/what-is-data-science/\"><strong>Data Science is a method of providing actionable intelligence from data.</strong></a> The data revolution has hit San Antonio, <strong><a href=\"https://www.indeed.com/jobs?q=Data+Scientist&amp;l=San+Antonio%2C+TX\">resulting in an explosion in Data Scientist positions</a> </strong>across companies like USAA, Accenture, Booz Allen Hamilton, and HEB. We’ve even seen <strong><a href=\"https://therivardreport.com/utsa-lands-70m-for-cybersecurity-center-school-of-data-science/\">UTSA invest $70 M for a Cybersecurity Center and School of Data Science.</a> </strong>We built a program to specifically meet the growing demands of this industry.</p>,\n",
       " <p>Our program will be 18 weeks long, full-time, hands-on, and project-based. Our curriculum development and instruction is led by Senior Data Scientist, Maggie Giust, who has worked at HEB, Capital Group, and Rackspace, along with input from dozens of practitioners and hiring partners. Students will work with real data sets, realistic problems, and the entire data science pipeline from collection to deployment. They will receive professional development training in resume writing, interviewing, and continuing education to prepare for a smooth transition to the workforce.</p>,\n",
       " <p>We focus on applied data science for immediate impact and ROI in a business, which is how we can back it all up with a 6 month tuition refund guarantee – just like our existing Web Dev program. We’re focusing on Data Science with Python, SQL, and ML, covered in <strong>14 modules</strong>: 1) Fundamentals; 2) Applied statistics; 3) SQL; 4) Python; 5) Supervised machine learning – regression; 6) Supervised machine learning – classification; 7) Unsupervised machine learning – clustering; 8) Time series analysis; 9) Anomaly detection; 10) Natural language processing; 11) Distributed machine learning; 12) Advanced topics (deep learning, NoSQL, cloud deployment, etc.); 13) Storytelling with data; and 14) Domain expertise development.</p>,\n",
       " <p><strong>Applications are now open</strong> for Codeup’s first Data Science cohort, which will start class on February 4, 2019. Hurry – there are only 25 seats available! To further our mission of cultivating inclusive growth, scholarships will be available to women, minorities, LGBTQIA+ individuals, veterans, first responders, and people relocating to San Antonio.</p>,\n",
       " <p>If you want to learn about <a href=\"https://codeup.com/apply\">joining our program</a> or <a href=\"https://alumni.codeup.com/\">hiring our graduates</a>, email datascience@codeup.com!</p>]"
      ]
     },
     "execution_count": 21,
     "metadata": {},
     "output_type": "execute_result"
    }
   ],
   "source": [
    "content = body[0].select('p')\n",
    "content"
   ]
  },
  {
   "cell_type": "code",
   "execution_count": 25,
   "id": "1081ae02",
   "metadata": {},
   "outputs": [],
   "source": [
    "def process_body(content):\n",
    "    for paragraph in content: \n",
    "        paragraph = paragraph.text.strip()\n",
    "        print(paragraph, \"\\n\")"
   ]
  },
  {
   "cell_type": "code",
   "execution_count": 26,
   "id": "7287ef2a",
   "metadata": {},
   "outputs": [
    {
     "name": "stdout",
     "output_type": "stream",
     "text": [
      "The rumors are true! The time has arrived. Codeup has officially opened applications to our new Data Science career accelerator, with only 25 seats available! This immersive program is one of a kind in San Antonio, and will help you land a job in Glassdoor’s #1 Best Job in America. \n",
      "\n",
      "Data Science is a method of providing actionable intelligence from data. The data revolution has hit San Antonio, resulting in an explosion in Data Scientist positions across companies like USAA, Accenture, Booz Allen Hamilton, and HEB. We’ve even seen UTSA invest $70 M for a Cybersecurity Center and School of Data Science. We built a program to specifically meet the growing demands of this industry. \n",
      "\n",
      "Our program will be 18 weeks long, full-time, hands-on, and project-based. Our curriculum development and instruction is led by Senior Data Scientist, Maggie Giust, who has worked at HEB, Capital Group, and Rackspace, along with input from dozens of practitioners and hiring partners. Students will work with real data sets, realistic problems, and the entire data science pipeline from collection to deployment. They will receive professional development training in resume writing, interviewing, and continuing education to prepare for a smooth transition to the workforce. \n",
      "\n",
      "We focus on applied data science for immediate impact and ROI in a business, which is how we can back it all up with a 6 month tuition refund guarantee – just like our existing Web Dev program. We’re focusing on Data Science with Python, SQL, and ML, covered in 14 modules: 1) Fundamentals; 2) Applied statistics; 3) SQL; 4) Python; 5) Supervised machine learning – regression; 6) Supervised machine learning – classification; 7) Unsupervised machine learning – clustering; 8) Time series analysis; 9) Anomaly detection; 10) Natural language processing; 11) Distributed machine learning; 12) Advanced topics (deep learning, NoSQL, cloud deployment, etc.); 13) Storytelling with data; and 14) Domain expertise development. \n",
      "\n",
      "Applications are now open for Codeup’s first Data Science cohort, which will start class on February 4, 2019. Hurry – there are only 25 seats available! To further our mission of cultivating inclusive growth, scholarships will be available to women, minorities, LGBTQIA+ individuals, veterans, first responders, and people relocating to San Antonio. \n",
      "\n",
      "If you want to learn about joining our program or hiring our graduates, email datascience@codeup.com! \n",
      "\n"
     ]
    }
   ],
   "source": [
    "process_body(content)"
   ]
  },
  {
   "cell_type": "markdown",
   "id": "c4c86d9b",
   "metadata": {},
   "source": [
    "### Data Science Myths"
   ]
  },
  {
   "cell_type": "markdown",
   "id": "f22e5271",
   "metadata": {},
   "source": [
    "https://codeup.com/data-science/data-science-myths/"
   ]
  },
  {
   "cell_type": "code",
   "execution_count": 27,
   "id": "2916a5be",
   "metadata": {},
   "outputs": [],
   "source": [
    "url = 'https://codeup.com/data-science/data-science-myths/'\n",
    "headers = {'User-Agent': 'malachi-hale'}\n",
    "response = requests.get(url, headers=headers)\n",
    "html = response.text"
   ]
  },
  {
   "cell_type": "code",
   "execution_count": 28,
   "id": "848e6d1f",
   "metadata": {
    "scrolled": true
   },
   "outputs": [],
   "source": [
    "soup = BeautifulSoup(html)"
   ]
  },
  {
   "cell_type": "code",
   "execution_count": 29,
   "id": "82c8a8b4",
   "metadata": {},
   "outputs": [],
   "source": [
    "body = soup.select(\".et_pb_module.et_pb_post_content.et_pb_post_content_0_tb_body\")"
   ]
  },
  {
   "cell_type": "code",
   "execution_count": 30,
   "id": "2da512e2",
   "metadata": {
    "scrolled": true
   },
   "outputs": [
    {
     "data": {
      "text/plain": [
       "[<div class=\"et_pb_module et_pb_post_content et_pb_post_content_0_tb_body\">\n",
       " <p><span style=\"font-weight: 400;\">By Dimitri Antoniou and Maggie Giust</span></p>\n",
       " <p><span style=\"font-weight: 400;\">Data Science, Big Data, Machine Learning, NLP, Neural Networks…these buzzwords have rapidly spread into mainstream use over the last few years. Unfortunately, definitions are varied and sources of truth are limited. Data Scientists are in fact </span><b><i>not</i></b><span style=\"font-weight: 400;\"> magical unicorn wizards who can snap their fingers and turn a business around! </span><i><span style=\"font-weight: 400;\">Today, we’ll take a cue from our favorite Mythbusters to tackle some common myths and misconceptions in the field of Data Science.</span></i></p>\n",
       " <p> </p>\n",
       " <p><b>Myth #1: Data Science = Statistics</b></p>\n",
       " <p><span style=\"font-weight: 400;\">At first glance, this one doesn’t sound unreasonable. Statistics is defined as, “A branch of mathematics dealing with the collection, analysis, interpretation, and presentation of masses of numerical data.” That sounds a lot like </span><a href=\"https://codeup.com/what-is-data-science/\"><span style=\"font-weight: 400;\">our definition of Data Science</span></a><span style=\"font-weight: 400;\">: a method of drawing actionable intelligence from data. </span></p>\n",
       " <p><span style=\"font-weight: 400;\">In truth, statistics is actually one small piece of Data Science. As our Senior Data Scientist puts it, “Statistics forces us to make assumptions about the nature of the relationship between variables, the distribution of the data, etc.” </span><a href=\"https://codeup.com/what-is-data-science/\"><span style=\"font-weight: 400;\">In the traditional Data Science venn diagram</span></a><span style=\"font-weight: 400;\">, you’ll see that math/stats make up ⅓ of a working professional. These are tools and skills to leverage, but data science itself is about drawing intelligence from data.</span></p>\n",
       " <p><b>BUSTED<br/>\n",
       " <iframe class=\"giphy-embed\" data-mce-fragment=\"1\" frameborder=\"0\" height=\"360\" loading=\"lazy\" src=\"https://giphy.com/embed/3oEdvddejaTWNpNCTK\" width=\"480\"></iframe></b></p>\n",
       " <p><a href=\"https://giphy.com/gifs/the-x-files-3oEdvddejaTWNpNCTK\">via GIPHY</a></p>\n",
       " <p> </p>\n",
       " <p><b>Myth #2: Data Scientist = Business/Data Analyst</b></p>\n",
       " <p><a href=\"https://codeup.com/data-science-vs-data-analytics-whats-the-difference/\"><span style=\"font-weight: 400;\">This one is so common that we wrote a whole post about it!</span></a><span style=\"font-weight: 400;\"> These are separate and different roles within the data field. While a data scientist will often do analytics, their spectrum of work is wider. A data analyst will use structured data to create dashboards and KPIs, while a Data Scientist deals with unstructured and messy data for a range of outputs. If they’re interested, business analysts will often progress to data scientists.</span></p>\n",
       " <p><b>BUSTED</b></p>\n",
       " <p><iframe class=\"giphy-embed\" data-mce-fragment=\"1\" frameborder=\"0\" height=\"270\" loading=\"lazy\" src=\"https://giphy.com/embed/laUY2MuoktHPy\" width=\"480\"></iframe></p>\n",
       " <p><a href=\"https://giphy.com/gifs/pitchperfect-pitch-perfect-2-laUY2MuoktHPy\">via GIPHY</a></p>\n",
       " <p> </p>\n",
       " <p><b>Myth #3: Data Science = Data Science</b></p>\n",
       " <p><span style=\"font-weight: 400;\">This one’s tricky, because it’s impossible to either confirm or bust! The ‘myth’ is that one person or company using the term Data Science is not necessarily the same as </span><b><i>another</i></b><span style=\"font-weight: 400;\"> person or company using the same term. Depending on organizational capacity, individual experience, educational background, and many other variables, we might be using the same name for different animals.</span></p>\n",
       " <p><span style=\"font-weight: 400;\">Tl;dr: don’t assume a common understanding across hiring managers, recruiters, and practitioners. Look instead for specifics of tools, techniques, methodologies, and outputs. That being said, this one falls in the “plausible” category, because it may actually be true in some circumstances, while false in others.</span></p>\n",
       " <p><b>PLAUSIBLE</b></p>\n",
       " <p><iframe class=\"giphy-embed\" data-mce-fragment=\"1\" frameborder=\"0\" height=\"320\" loading=\"lazy\" src=\"https://giphy.com/embed/xT0xeJpnrWC4XWblEk\" width=\"480\"></iframe></p>\n",
       " <p><a href=\"https://giphy.com/gifs/whoa-hd-tim-and-eric-xT0xeJpnrWC4XWblEk\">via GIPHY</a></p>\n",
       " <p> </p>\n",
       " <p><b>Myth #4: Data Science curricula are well-defined and consistent.</b></p>\n",
       " <p><span style=\"font-weight: 400;\">We recommend checking this one out for yourself! A quick google search for bootcamps, master’s degree programs, and online courses will reveal that different organizations teach different things. There is no commonly accepted framework for teaching data science! Some focus more on the engineering, others focus more on machine learning, some think deep learning is foundational, and some prefer to use R. </span></p>\n",
       " <p><span style=\"font-weight: 400;\">Our curriculum was built through employer interviews, practitioner interviews, market research, and company partnerships. But we’re based in Texas! A bootcamp in New York might follow the same process and end up with a different syllabus. Keep in mind, whatever your learning path, that there will be gaps in your learning. The most important thing is to recognize those gaps.</span></p>\n",
       " <p><b>BUSTED</b></p>\n",
       " <p><iframe class=\"giphy-embed\" data-mce-fragment=\"1\" frameborder=\"0\" height=\"269\" loading=\"lazy\" src=\"https://giphy.com/embed/LDIT3G95tqL6M\" width=\"480\"></iframe></p>\n",
       " <p><a href=\"https://giphy.com/gifs/LDIT3G95tqL6M\">via GIPHY</a></p>\n",
       " <p> </p>\n",
       " <p><b>Myth #5: If I want to be a data scientist, I just need to learn Python or R.</b></p>\n",
       " <p><span style=\"font-weight: 400;\">This one is common and dangerous! Just like statistics, programming languages like Python and R are </span><i><span style=\"font-weight: 400;\">tools</span></i><span style=\"font-weight: 400;\">. They’re just pieces of a larger puzzle! Knowing Python without understanding the data science pipeline is like knowing how to build a floor without having a floor plan. Of course, these are valuable technical skills that give you a leg up, but they’re second in importance to asking the right questions, knowing what tools to use when, and communicating your findings.</span></p>\n",
       " <p><b>BUSTED</b></p>\n",
       " <p><iframe class=\"giphy-embed\" data-mce-fragment=\"1\" frameborder=\"0\" height=\"320\" loading=\"lazy\" src=\"https://giphy.com/embed/d0NnEG1WnnXqg\" width=\"480\"></iframe></p>\n",
       " <p><a href=\"https://giphy.com/gifs/mic-d0NnEG1WnnXqg\">via GIPHY</a></p>\n",
       " <p><span style=\"font-weight: 400;\">Still have questions? <a href=\"https://codeup.com/contact\">Reach out to us!</a> We’re always here to help.</span></p>\n",
       " </div>]"
      ]
     },
     "execution_count": 30,
     "metadata": {},
     "output_type": "execute_result"
    }
   ],
   "source": [
    "body"
   ]
  },
  {
   "cell_type": "code",
   "execution_count": 31,
   "id": "5450718f",
   "metadata": {},
   "outputs": [
    {
     "data": {
      "text/plain": [
       "35"
      ]
     },
     "execution_count": 31,
     "metadata": {},
     "output_type": "execute_result"
    }
   ],
   "source": [
    "len(body[0].select('p'))"
   ]
  },
  {
   "cell_type": "code",
   "execution_count": 32,
   "id": "7a82acf1",
   "metadata": {
    "scrolled": true
   },
   "outputs": [
    {
     "data": {
      "text/plain": [
       "[<p><span style=\"font-weight: 400;\">By Dimitri Antoniou and Maggie Giust</span></p>,\n",
       " <p><span style=\"font-weight: 400;\">Data Science, Big Data, Machine Learning, NLP, Neural Networks…these buzzwords have rapidly spread into mainstream use over the last few years. Unfortunately, definitions are varied and sources of truth are limited. Data Scientists are in fact </span><b><i>not</i></b><span style=\"font-weight: 400;\"> magical unicorn wizards who can snap their fingers and turn a business around! </span><i><span style=\"font-weight: 400;\">Today, we’ll take a cue from our favorite Mythbusters to tackle some common myths and misconceptions in the field of Data Science.</span></i></p>,\n",
       " <p> </p>,\n",
       " <p><b>Myth #1: Data Science = Statistics</b></p>,\n",
       " <p><span style=\"font-weight: 400;\">At first glance, this one doesn’t sound unreasonable. Statistics is defined as, “A branch of mathematics dealing with the collection, analysis, interpretation, and presentation of masses of numerical data.” That sounds a lot like </span><a href=\"https://codeup.com/what-is-data-science/\"><span style=\"font-weight: 400;\">our definition of Data Science</span></a><span style=\"font-weight: 400;\">: a method of drawing actionable intelligence from data. </span></p>,\n",
       " <p><span style=\"font-weight: 400;\">In truth, statistics is actually one small piece of Data Science. As our Senior Data Scientist puts it, “Statistics forces us to make assumptions about the nature of the relationship between variables, the distribution of the data, etc.” </span><a href=\"https://codeup.com/what-is-data-science/\"><span style=\"font-weight: 400;\">In the traditional Data Science venn diagram</span></a><span style=\"font-weight: 400;\">, you’ll see that math/stats make up ⅓ of a working professional. These are tools and skills to leverage, but data science itself is about drawing intelligence from data.</span></p>,\n",
       " <p><b>BUSTED<br/>\n",
       " <iframe class=\"giphy-embed\" data-mce-fragment=\"1\" frameborder=\"0\" height=\"360\" loading=\"lazy\" src=\"https://giphy.com/embed/3oEdvddejaTWNpNCTK\" width=\"480\"></iframe></b></p>,\n",
       " <p><a href=\"https://giphy.com/gifs/the-x-files-3oEdvddejaTWNpNCTK\">via GIPHY</a></p>,\n",
       " <p> </p>,\n",
       " <p><b>Myth #2: Data Scientist = Business/Data Analyst</b></p>,\n",
       " <p><a href=\"https://codeup.com/data-science-vs-data-analytics-whats-the-difference/\"><span style=\"font-weight: 400;\">This one is so common that we wrote a whole post about it!</span></a><span style=\"font-weight: 400;\"> These are separate and different roles within the data field. While a data scientist will often do analytics, their spectrum of work is wider. A data analyst will use structured data to create dashboards and KPIs, while a Data Scientist deals with unstructured and messy data for a range of outputs. If they’re interested, business analysts will often progress to data scientists.</span></p>,\n",
       " <p><b>BUSTED</b></p>,\n",
       " <p><iframe class=\"giphy-embed\" data-mce-fragment=\"1\" frameborder=\"0\" height=\"270\" loading=\"lazy\" src=\"https://giphy.com/embed/laUY2MuoktHPy\" width=\"480\"></iframe></p>,\n",
       " <p><a href=\"https://giphy.com/gifs/pitchperfect-pitch-perfect-2-laUY2MuoktHPy\">via GIPHY</a></p>,\n",
       " <p> </p>,\n",
       " <p><b>Myth #3: Data Science = Data Science</b></p>,\n",
       " <p><span style=\"font-weight: 400;\">This one’s tricky, because it’s impossible to either confirm or bust! The ‘myth’ is that one person or company using the term Data Science is not necessarily the same as </span><b><i>another</i></b><span style=\"font-weight: 400;\"> person or company using the same term. Depending on organizational capacity, individual experience, educational background, and many other variables, we might be using the same name for different animals.</span></p>,\n",
       " <p><span style=\"font-weight: 400;\">Tl;dr: don’t assume a common understanding across hiring managers, recruiters, and practitioners. Look instead for specifics of tools, techniques, methodologies, and outputs. That being said, this one falls in the “plausible” category, because it may actually be true in some circumstances, while false in others.</span></p>,\n",
       " <p><b>PLAUSIBLE</b></p>,\n",
       " <p><iframe class=\"giphy-embed\" data-mce-fragment=\"1\" frameborder=\"0\" height=\"320\" loading=\"lazy\" src=\"https://giphy.com/embed/xT0xeJpnrWC4XWblEk\" width=\"480\"></iframe></p>,\n",
       " <p><a href=\"https://giphy.com/gifs/whoa-hd-tim-and-eric-xT0xeJpnrWC4XWblEk\">via GIPHY</a></p>,\n",
       " <p> </p>,\n",
       " <p><b>Myth #4: Data Science curricula are well-defined and consistent.</b></p>,\n",
       " <p><span style=\"font-weight: 400;\">We recommend checking this one out for yourself! A quick google search for bootcamps, master’s degree programs, and online courses will reveal that different organizations teach different things. There is no commonly accepted framework for teaching data science! Some focus more on the engineering, others focus more on machine learning, some think deep learning is foundational, and some prefer to use R. </span></p>,\n",
       " <p><span style=\"font-weight: 400;\">Our curriculum was built through employer interviews, practitioner interviews, market research, and company partnerships. But we’re based in Texas! A bootcamp in New York might follow the same process and end up with a different syllabus. Keep in mind, whatever your learning path, that there will be gaps in your learning. The most important thing is to recognize those gaps.</span></p>,\n",
       " <p><b>BUSTED</b></p>,\n",
       " <p><iframe class=\"giphy-embed\" data-mce-fragment=\"1\" frameborder=\"0\" height=\"269\" loading=\"lazy\" src=\"https://giphy.com/embed/LDIT3G95tqL6M\" width=\"480\"></iframe></p>,\n",
       " <p><a href=\"https://giphy.com/gifs/LDIT3G95tqL6M\">via GIPHY</a></p>,\n",
       " <p> </p>,\n",
       " <p><b>Myth #5: If I want to be a data scientist, I just need to learn Python or R.</b></p>,\n",
       " <p><span style=\"font-weight: 400;\">This one is common and dangerous! Just like statistics, programming languages like Python and R are </span><i><span style=\"font-weight: 400;\">tools</span></i><span style=\"font-weight: 400;\">. They’re just pieces of a larger puzzle! Knowing Python without understanding the data science pipeline is like knowing how to build a floor without having a floor plan. Of course, these are valuable technical skills that give you a leg up, but they’re second in importance to asking the right questions, knowing what tools to use when, and communicating your findings.</span></p>,\n",
       " <p><b>BUSTED</b></p>,\n",
       " <p><iframe class=\"giphy-embed\" data-mce-fragment=\"1\" frameborder=\"0\" height=\"320\" loading=\"lazy\" src=\"https://giphy.com/embed/d0NnEG1WnnXqg\" width=\"480\"></iframe></p>,\n",
       " <p><a href=\"https://giphy.com/gifs/mic-d0NnEG1WnnXqg\">via GIPHY</a></p>,\n",
       " <p><span style=\"font-weight: 400;\">Still have questions? <a href=\"https://codeup.com/contact\">Reach out to us!</a> We’re always here to help.</span></p>]"
      ]
     },
     "execution_count": 32,
     "metadata": {},
     "output_type": "execute_result"
    }
   ],
   "source": [
    "content = body[0].select('p')\n",
    "content"
   ]
  },
  {
   "cell_type": "code",
   "execution_count": 33,
   "id": "512cbfb8",
   "metadata": {},
   "outputs": [],
   "source": [
    "def clean_data(content):\n",
    "    for i in range(0, 35): \n",
    "        print(content[i].text.strip())"
   ]
  },
  {
   "cell_type": "code",
   "execution_count": 34,
   "id": "8645c069",
   "metadata": {
    "scrolled": true
   },
   "outputs": [
    {
     "name": "stdout",
     "output_type": "stream",
     "text": [
      "By Dimitri Antoniou and Maggie Giust\n",
      "Data Science, Big Data, Machine Learning, NLP, Neural Networks…these buzzwords have rapidly spread into mainstream use over the last few years. Unfortunately, definitions are varied and sources of truth are limited. Data Scientists are in fact not magical unicorn wizards who can snap their fingers and turn a business around! Today, we’ll take a cue from our favorite Mythbusters to tackle some common myths and misconceptions in the field of Data Science.\n",
      "\n",
      "Myth #1: Data Science = Statistics\n",
      "At first glance, this one doesn’t sound unreasonable. Statistics is defined as, “A branch of mathematics dealing with the collection, analysis, interpretation, and presentation of masses of numerical data.” That sounds a lot like our definition of Data Science: a method of drawing actionable intelligence from data.\n",
      "In truth, statistics is actually one small piece of Data Science. As our Senior Data Scientist puts it, “Statistics forces us to make assumptions about the nature of the relationship between variables, the distribution of the data, etc.” In the traditional Data Science venn diagram, you’ll see that math/stats make up ⅓ of a working professional. These are tools and skills to leverage, but data science itself is about drawing intelligence from data.\n",
      "BUSTED\n",
      "via GIPHY\n",
      "\n",
      "Myth #2: Data Scientist = Business/Data Analyst\n",
      "This one is so common that we wrote a whole post about it! These are separate and different roles within the data field. While a data scientist will often do analytics, their spectrum of work is wider. A data analyst will use structured data to create dashboards and KPIs, while a Data Scientist deals with unstructured and messy data for a range of outputs. If they’re interested, business analysts will often progress to data scientists.\n",
      "BUSTED\n",
      "\n",
      "via GIPHY\n",
      "\n",
      "Myth #3: Data Science = Data Science\n",
      "This one’s tricky, because it’s impossible to either confirm or bust! The ‘myth’ is that one person or company using the term Data Science is not necessarily the same as another person or company using the same term. Depending on organizational capacity, individual experience, educational background, and many other variables, we might be using the same name for different animals.\n",
      "Tl;dr: don’t assume a common understanding across hiring managers, recruiters, and practitioners. Look instead for specifics of tools, techniques, methodologies, and outputs. That being said, this one falls in the “plausible” category, because it may actually be true in some circumstances, while false in others.\n",
      "PLAUSIBLE\n",
      "\n",
      "via GIPHY\n",
      "\n",
      "Myth #4: Data Science curricula are well-defined and consistent.\n",
      "We recommend checking this one out for yourself! A quick google search for bootcamps, master’s degree programs, and online courses will reveal that different organizations teach different things. There is no commonly accepted framework for teaching data science! Some focus more on the engineering, others focus more on machine learning, some think deep learning is foundational, and some prefer to use R.\n",
      "Our curriculum was built through employer interviews, practitioner interviews, market research, and company partnerships. But we’re based in Texas! A bootcamp in New York might follow the same process and end up with a different syllabus. Keep in mind, whatever your learning path, that there will be gaps in your learning. The most important thing is to recognize those gaps.\n",
      "BUSTED\n",
      "\n",
      "via GIPHY\n",
      "\n",
      "Myth #5: If I want to be a data scientist, I just need to learn Python or R.\n",
      "This one is common and dangerous! Just like statistics, programming languages like Python and R are tools. They’re just pieces of a larger puzzle! Knowing Python without understanding the data science pipeline is like knowing how to build a floor without having a floor plan. Of course, these are valuable technical skills that give you a leg up, but they’re second in importance to asking the right questions, knowing what tools to use when, and communicating your findings.\n",
      "BUSTED\n",
      "\n",
      "via GIPHY\n",
      "Still have questions? Reach out to us! We’re always here to help.\n"
     ]
    }
   ],
   "source": [
    "clean_data(content)"
   ]
  },
  {
   "cell_type": "markdown",
   "id": "4fe25bb1",
   "metadata": {},
   "source": [
    "### Data Science vs. Data Analytics"
   ]
  },
  {
   "cell_type": "markdown",
   "id": "9e471c86",
   "metadata": {},
   "source": [
    "https://codeup.com/data-science/data-science-vs-data-analytics-whats-the-difference/"
   ]
  },
  {
   "cell_type": "code",
   "execution_count": 35,
   "id": "4528cb3e",
   "metadata": {},
   "outputs": [],
   "source": [
    "url = 'https://codeup.com/data-science/data-science-vs-data-analytics-whats-the-difference/'\n",
    "headers = {'User-Agent': 'malachi-hale'}\n",
    "response = requests.get(url, headers=headers)\n",
    "html = response.text"
   ]
  },
  {
   "cell_type": "code",
   "execution_count": 36,
   "id": "293db13b",
   "metadata": {
    "scrolled": true
   },
   "outputs": [],
   "source": [
    "soup = BeautifulSoup(html)"
   ]
  },
  {
   "cell_type": "code",
   "execution_count": 37,
   "id": "86cd6b3e",
   "metadata": {},
   "outputs": [],
   "source": [
    "body = soup.select(\".et_pb_module.et_pb_post_content.et_pb_post_content_0_tb_body\")"
   ]
  },
  {
   "cell_type": "code",
   "execution_count": 38,
   "id": "14a6e4ff",
   "metadata": {},
   "outputs": [
    {
     "data": {
      "text/plain": [
       "[<div class=\"et_pb_module et_pb_post_content et_pb_post_content_0_tb_body\">\n",
       " <p><span style=\"font-weight: 400;\">By Dimitri Antoniou</span></p>\n",
       " <p><span style=\"font-weight: 400;\">A week ago, Codeup </span><span style=\"font-weight: 400;\">launched our immersive Data Science career accelerator</span><span style=\"font-weight: 400;\">! With our first-class kicking off in February and only 25 seats available, we’ve been answering a lot of questions from prospective students. One, in particular, has come up so many times we decided to dedicate a blog post to it. </span><i><span style=\"font-weight: 400;\">What is the difference between data science and data analytics?</span></i></p>\n",
       " <p><span style=\"font-weight: 400;\">First, let’s define some of our terms! Take a look at </span><a href=\"https://codeup.com/what-is-data-science/\"><span style=\"font-weight: 400;\">this blog</span></a><span style=\"font-weight: 400;\"> to understand what Data Science is. In short, it is a method of turning raw data into action, leading to the desired outcome. Big Data refers to data sets that are large and complex, usually exceeding the capacity of computers and normal processing power to deal with. </span><span id=\"m_9142805870037270264gmail-docs-internal-guid-f16f9f0c-7fff-1f43-8b21-ce9464331bed\">Machine Learning is the process of ‘learning’ underlying patterns of data in order to automate the extraction of intelligence from that data.</span></p>\n",
       " <p> </p>\n",
       " <p> </p>\n",
       " <p><span style=\"font-weight: 400;\">Now, let’s look at the data pipeline that data scientists work through to reach the actionable insights and outcomes we mentioned:</span></p>\n",
       " <ol>\n",
       " <li style=\"font-weight: 400;\"><span style=\"font-weight: 400;\">We start by collecting </span><b>data</b><span style=\"font-weight: 400;\">, which may come from social media channels, network logs, financials, employee records, or more.</span></li>\n",
       " <li style=\"font-weight: 400;\"><span style=\"font-weight: 400;\">We then process that data into usable </span><b>information</b><span style=\"font-weight: 400;\"> stored in databases or streamed.</span></li>\n",
       " <li style=\"font-weight: 400;\"><span style=\"font-weight: 400;\">Next, we look back on the history of that data to summarize, describe, and explain, turning the data into meaningful </span><b>knowledge</b><span style=\"font-weight: 400;\">. Here we’re primarily using mathematics, statistics, and visualization methods.</span></li>\n",
       " <li style=\"font-weight: 400;\"><span style=\"font-weight: 400;\">Now we convert that knowledge into </span><b>intelligence</b><span style=\"font-weight: 400;\">, seeking to predict future events so that we can make decisions in the present. This is where practitioners will introduce mathematical/statistical modeling through machine learning to their data.</span></li>\n",
       " <li style=\"font-weight: 400;\"><span style=\"font-weight: 400;\">Finally, we enable </span><b>action</b><span style=\"font-weight: 400;\"> by building automations, running tests, building visualizations, monitoring new data, etc.</span></li>\n",
       " </ol>\n",
       " <p><span style=\"font-weight: 400;\">Data professionals work at different stages of the spectrum to move data through the pipeline. On the left, Big Data Engineers specialize in collecting, storing, and processing data, getting it from Data to Information. In the middle, analysts work to understand and convert that information to knowledge. Lastly, a Machine Learning Engineer utilizes machine learning algorithms to turn intelligence into action by building automations, visualizations, recommendations, and predictions.</span></p>\n",
       " <p><span style=\"font-weight: 400;\">Data Scientists span multiple stages of this pipeline, from information to action. They will spend about 70% of their time wrangling data in the information stage. They will conduct a statistical analysis to derive knowledge. Lastly, they predict future events and build automations using machine learning.</span></p>\n",
       " <p><span style=\"font-weight: 400;\">For those technical folk out there, data science is to data engineering or machine learning engineering as full-stack development is to front-end or back-end development. For the non-technical folk, data science is the umbrella term that houses data analytics, machine learning, and other data professions.</span></p>\n",
       " <p><span style=\"font-weight: 400;\">So what’s the biggest difference between a data analyst and a data scientist? </span><b>Data scientists utilize computer programming and machine learning in addition to mathematics and statistics. </b></p>\n",
       " <p><span style=\"font-weight: 400;\">Still have questions?<a href=\"https://codeup.com/contact\"> Reach out to us</a>.</span><span style=\"font-weight: 400;\"> Wondering which of Codeup’s programs is right for you? </span><a href=\"https://codeup.com/which-program-is-right-for-me/\"><span style=\"font-weight: 400;\">We’ve got you covered</span></a><span style=\"font-weight: 400;\">. And of course, if data science gets you excited, <a href=\"https://codeup.com/apply\">get started with us today</a></span><span style=\"font-weight: 400;\">!</span></p>\n",
       " </div>]"
      ]
     },
     "execution_count": 38,
     "metadata": {},
     "output_type": "execute_result"
    }
   ],
   "source": [
    "body"
   ]
  },
  {
   "cell_type": "code",
   "execution_count": 39,
   "id": "5e546c89",
   "metadata": {},
   "outputs": [],
   "source": [
    "contents = body[0].text.strip()"
   ]
  },
  {
   "cell_type": "code",
   "execution_count": 41,
   "id": "4173594d",
   "metadata": {},
   "outputs": [
    {
     "data": {
      "text/plain": [
       "'By Dimitri Antoniou\\nA week ago, Codeup launched our immersive Data Science career accelerator! With our first-class kicking off in February and only 25 seats available, we’ve been answering a lot of questions from prospective students. One, in particular, has come up so many times we decided to dedicate a blog post to it. What is the difference between data science and data analytics?\\nFirst, let’s define some of our terms! Take a look at this blog to understand what Data Science is. In short, it is a method of turning raw data into action, leading to the desired outcome. Big Data refers to data sets that are large and complex, usually exceeding the capacity of computers and normal processing power to deal with. Machine Learning is the process of ‘learning’ underlying patterns of data in order to automate the extraction of intelligence from that data.\\n\\xa0\\n\\xa0\\nNow, let’s look at the data pipeline that data scientists work through to reach the actionable insights and outcomes we mentioned:\\n\\nWe start by collecting data, which may come from social media channels, network logs, financials, employee records, or more.\\nWe then process that data into usable information stored in databases or streamed.\\nNext, we look back on the history of that data to summarize, describe, and explain, turning the data into meaningful knowledge. Here we’re primarily using mathematics, statistics, and visualization methods.\\nNow we convert that knowledge into intelligence, seeking to predict future events so that we can make decisions in the present. This is where practitioners will introduce mathematical/statistical modeling through machine learning to their data.\\nFinally, we enable action by building automations, running tests, building visualizations, monitoring new data, etc.\\n\\nData professionals work at different stages of the spectrum to move data through the pipeline. On the left, Big Data Engineers specialize in collecting, storing, and processing data, getting it from Data to Information. In the middle, analysts work to understand and convert that information to knowledge. Lastly, a Machine Learning Engineer utilizes machine learning algorithms to turn intelligence into action by building automations, visualizations, recommendations, and predictions.\\nData Scientists span multiple stages of this pipeline, from information to action. They will spend about 70% of their time wrangling data in the information stage. They will conduct a statistical analysis to derive knowledge. Lastly, they predict future events and build automations using machine learning.\\nFor those technical folk out there, data science is to data engineering or machine learning engineering as full-stack development is to front-end or back-end development. For the non-technical folk, data science is the umbrella term that houses data analytics, machine learning, and other data professions.\\nSo what’s the biggest difference between a data analyst and a data scientist? Data scientists utilize computer programming and machine learning in addition to mathematics and statistics. \\nStill have questions? Reach out to us.\\xa0Wondering which of Codeup’s programs is right for you? We’ve got you covered. And of course, if data science gets you excited, get started with us today!'"
      ]
     },
     "execution_count": 41,
     "metadata": {},
     "output_type": "execute_result"
    }
   ],
   "source": [
    "contents"
   ]
  },
  {
   "cell_type": "code",
   "execution_count": 254,
   "id": "8b734baf",
   "metadata": {},
   "outputs": [
    {
     "name": "stdout",
     "output_type": "stream",
     "text": [
      "By Dimitri Antoniou\n",
      "A week ago, Codeup launched our immersive Data Science career accelerator! With our first-class kicking off in February and only 25 seats available, we’ve been answering a lot of questions from prospective students. One, in particular, has come up so many times we decided to dedicate a blog post to it. What is the difference between data science and data analytics?\n",
      "First, let’s define some of our terms! Take a look at this blog to understand what Data Science is. In short, it is a method of turning raw data into action, leading to the desired outcome. Big Data refers to data sets that are large and complex, usually exceeding the capacity of computers and normal processing power to deal with. Machine Learning is the process of ‘learning’ underlying patterns of data in order to automate the extraction of intelligence from that data.\n",
      " \n",
      " \n",
      "Now, let’s look at the data pipeline that data scientists work through to reach the actionable insights and outcomes we mentioned:\n",
      "\n",
      "We start by collecting data, which may come from social media channels, network logs, financials, employee records, or more.\n",
      "We then process that data into usable information stored in databases or streamed.\n",
      "Next, we look back on the history of that data to summarize, describe, and explain, turning the data into meaningful knowledge. Here we’re primarily using mathematics, statistics, and visualization methods.\n",
      "Now we convert that knowledge into intelligence, seeking to predict future events so that we can make decisions in the present. This is where practitioners will introduce mathematical/statistical modeling through machine learning to their data.\n",
      "Finally, we enable action by building automations, running tests, building visualizations, monitoring new data, etc.\n",
      "\n",
      "Data professionals work at different stages of the spectrum to move data through the pipeline. On the left, Big Data Engineers specialize in collecting, storing, and processing data, getting it from Data to Information. In the middle, analysts work to understand and convert that information to knowledge. Lastly, a Machine Learning Engineer utilizes machine learning algorithms to turn intelligence into action by building automations, visualizations, recommendations, and predictions.\n",
      "Data Scientists span multiple stages of this pipeline, from information to action. They will spend about 70% of their time wrangling data in the information stage. They will conduct a statistical analysis to derive knowledge. Lastly, they predict future events and build automations using machine learning.\n",
      "For those technical folk out there, data science is to data engineering or machine learning engineering as full-stack development is to front-end or back-end development. For the non-technical folk, data science is the umbrella term that houses data analytics, machine learning, and other data professions.\n",
      "So what’s the biggest difference between a data analyst and a data scientist? Data scientists utilize computer programming and machine learning in addition to mathematics and statistics. \n",
      "Still have questions? Reach out to us. Wondering which of Codeup’s programs is right for you? We’ve got you covered. And of course, if data science gets you excited, get started with us today!\n"
     ]
    }
   ],
   "source": [
    "print(f\"{contents}\")"
   ]
  },
  {
   "cell_type": "markdown",
   "id": "4597c085",
   "metadata": {},
   "source": [
    "### SA Tech Job Fair"
   ]
  },
  {
   "cell_type": "markdown",
   "id": "19e979bc",
   "metadata": {},
   "source": [
    "https://codeup.com/tips-for-prospective-students/10-tips-to-crush-it-at-the-sa-tech-job-fair/"
   ]
  },
  {
   "cell_type": "code",
   "execution_count": 42,
   "id": "b44dc1c4",
   "metadata": {},
   "outputs": [],
   "source": [
    "url = 'https://codeup.com/tips-for-prospective-students/10-tips-to-crush-it-at-the-sa-tech-job-fair/'\n",
    "headers = {'User-Agent': 'malachi-hale'}\n",
    "response = requests.get(url, headers=headers)\n",
    "html = response.text"
   ]
  },
  {
   "cell_type": "code",
   "execution_count": 43,
   "id": "c3aa723d",
   "metadata": {
    "scrolled": true
   },
   "outputs": [],
   "source": [
    "soup = BeautifulSoup(html)"
   ]
  },
  {
   "cell_type": "code",
   "execution_count": 44,
   "id": "2c94fd79",
   "metadata": {},
   "outputs": [],
   "source": [
    "body = soup.select(\".et_pb_module.et_pb_post_content.et_pb_post_content_0_tb_body\")"
   ]
  },
  {
   "cell_type": "code",
   "execution_count": 45,
   "id": "301fde02",
   "metadata": {
    "scrolled": false
   },
   "outputs": [
    {
     "data": {
      "text/plain": [
       "[<div class=\"et_pb_module et_pb_post_content et_pb_post_content_0_tb_body\">\n",
       " <h3>SA Tech Job Fair</h3>\n",
       " <p><span style=\"font-weight: 400;\">The third bi-annual <a href=\"https://satechjobfair.splashthat.com/\">San Antonio Tech Job Fair</a> is just around the corner.</span><span style=\"font-weight: 400;\"> Over 25 companies will be at The Jack Guenther Pavilion on April 10th, and they are hungry for new tech team members!</span></p>\n",
       " <p>At the job fair, companies want to quickly source a list of new talent leads. AKA they need to find qualified employees they can begin interviewing for jobs. Recruiters will represent their organization at tables with informational handouts and company swag. <em>Your goal at a job fair is to set yourself apart from other candidates and ensure your name makes it to the top of those lead lists.</em></p>\n",
       " <p><span style=\"font-weight: 400;\">Think of your interaction with the company as a mini screening interview. The company rep will subtly evaluate basic qualities like your professionalism, communication and interpersonal skills, work experience, and interest level in the organization. Job fairs are also an opportunity for you to gain information about companies that may not be easily accessible online.  </span></p>\n",
       " <p><span style=\"font-weight: 400;\">At <a href=\"https://tribucodeup.wpengine.com\">Codeup</a>, we’re passionate about bridging the gap between talent and demand, so we’ve outlined 10 tips to ensure you bring your A-game and leave a lasting impression!</span></p>\n",
       " <h3>10 Tips for Totally Crushing it at the SA Tech Job Fair</h3>\n",
       " <ol>\n",
       " <li style=\"font-weight: 400;\"><b>Use keywords to describe your skills, but don’t go overboard. </b><span style=\"font-weight: 400;\">You’ll probably be talking to a recruiter or talent acquisition specialist. As a technical candidate, recognize these individuals usually aren’t developers or network administrators. They know terms like “JavaScript” and “Apache,” but haven’t written a line of code or spun up a server, so don’t get too caught up in industry jargon.</span></li>\n",
       " <li style=\"font-weight: 400;\"><b>Research the companies ahead of time. </b><span style=\"font-weight: 400;\">Review the list of attending companies and make sure you know what the company does and whether or not they hire people in your desired role. Look up recent news on the company and mention it during your conversation.</span></li>\n",
       " <li style=\"font-weight: 400;\"><b>Define your own goals for the job fair</b><span style=\"font-weight: 400;\">. Are you searching for a specific type of role or company culture? What matters most in your job search? Are there companies you want to prioritize?  Develop a game plan and be intentional with your time.</span></li>\n",
       " <li style=\"font-weight: 400;\"><b>Prepare a stellar résumé. </b><span style=\"font-weight: 400;\">Bring about 20 copies of your résumé to the event, printed on nice paper. We won’t cover resume writing in this post, but there are a plethora of online resources you can consult. For job fairs, don’t worry about cover letters.</span></li>\n",
       " <li style=\"font-weight: 400;\"><b>Polish your online profiles. </b><span style=\"font-weight: 400;\">If recruiters have a copy of your resume, you can be sure they will stalk you online soon. Make sure your online presence is professional and appropriate. A good place to start is by Googling yourself. Update your LinkedIn, and clean up any social media profiles.</span></li>\n",
       " <li style=\"font-weight: 400;\"><b>Craft a 30-60 second elevator pitch.</b><span style=\"font-weight: 400;\"> You may only have a few minutes with an employer. What will you say if they ask, “Tell me about yourself?” Consider structuring your pitch like this: Who you are + What you do + What your goals are + Why that matters to the company.</span></li>\n",
       " <li style=\"font-weight: 400;\"><b>Don’t show up in a t-shirt, but trade in your suit for something more chill. </b><span style=\"font-weight: 400;\">Always keep it professional, but remember: tech is typically more casual than other industries. You’ll likely feel out of place if you look like you belong on Wall St., so refer to this guide on </span><a href=\"https://www.nerdwallet.com/blog/loans/student-loans/what-to-wear-to-a-startup-or-tech-job-interview/\"><span style=\"font-weight: 400;\">dressing for tech interviews</span></a><span style=\"font-weight: 400;\">.</span></li>\n",
       " <li style=\"font-weight: 400;\"><b>Don’t forget the basics.</b><span style=\"font-weight: 400;\"> Start and end each conversation with a firm handshake. Make eye contact while conversing. Smile! Thank the recruiter before you move on to the next table.</span></li>\n",
       " <li style=\"font-weight: 400;\"><b>Ask educated questions</b><span style=\"font-weight: 400;\">. Don’t waste valuable face time with recruiters by asking questions like, “What does [Insert Company here] do?” They hate that question! Instead, try some of these:</span>\n",
       " <ol>\n",
       " <li style=\"font-weight: 400;\"><span style=\"font-weight: 400;\">What are the top 3-5 examples of knowledge, skills, and abilities you look for in candidates?</span></li>\n",
       " <li style=\"font-weight: 400;\"><span style=\"font-weight: 400;\">What’s the best advice you have for someone who wants to work here?</span></li>\n",
       " <li style=\"font-weight: 400;\"><span style=\"font-weight: 400;\">What is your interview process like?</span></li>\n",
       " <li style=\"font-weight: 400;\"><span style=\"font-weight: 400;\">Are you hiring for any roles not currently listed on your websites?</span></li>\n",
       " </ol>\n",
       " </li>\n",
       " <li style=\"font-weight: 400;\"><b>Follow up.</b><span style=\"font-weight: 400;\"> Collect business cards from each table. The next day, send a short note expressing your interest in the company’s opportunities and thanking the recruiter for his or her time.</span></li>\n",
       " </ol>\n",
       " <p><strong><a href=\"https://satechjobfair.splashthat.com/\">RSVP</a> for the SA Tech Job Fair taking place at the Jack Guenther Pavilion – September 18th starting at 4 pm. </strong></p>\n",
       " </div>]"
      ]
     },
     "execution_count": 45,
     "metadata": {},
     "output_type": "execute_result"
    }
   ],
   "source": [
    "body"
   ]
  },
  {
   "cell_type": "code",
   "execution_count": 46,
   "id": "45000121",
   "metadata": {},
   "outputs": [],
   "source": [
    "contents = body[0].text.strip()"
   ]
  },
  {
   "cell_type": "code",
   "execution_count": 47,
   "id": "620e91f8",
   "metadata": {},
   "outputs": [
    {
     "name": "stdout",
     "output_type": "stream",
     "text": [
      "SA Tech Job Fair\n",
      "The third bi-annual San Antonio Tech Job Fair is just around the corner. Over 25 companies will be at The Jack Guenther Pavilion on April 10th, and they are hungry for new tech team members!\n",
      "At the job fair, companies want to quickly source a list of new talent leads. AKA they need to find qualified employees they can begin interviewing for jobs. Recruiters will represent their organization at tables with informational handouts and company swag. Your goal at a job fair is to set yourself apart from other candidates and ensure your name makes it to the top of those lead lists.\n",
      "Think of your interaction with the company as a mini screening interview. The company rep will subtly evaluate basic qualities like your professionalism, communication and interpersonal skills, work experience, and interest level in the organization. Job fairs are also an opportunity for you to gain information about companies that may not be easily accessible online.  \n",
      "At Codeup, we’re passionate about bridging the gap between talent and demand, so we’ve outlined 10 tips to ensure you bring your A-game and leave a lasting impression!\n",
      "10 Tips for Totally Crushing it at the SA Tech Job Fair\n",
      "\n",
      "Use keywords to describe your skills, but don’t go overboard. You’ll probably be talking to a recruiter or talent acquisition specialist. As a technical candidate, recognize these individuals usually aren’t developers or network administrators. They know terms like “JavaScript” and “Apache,” but haven’t written a line of code or spun up a server, so don’t get too caught up in industry jargon.\n",
      "Research the companies ahead of time. Review the list of attending companies and make sure you know what the company does and whether or not they hire people in your desired role. Look up recent news on the company and mention it during your conversation.\n",
      "Define your own goals for the job fair. Are you searching for a specific type of role or company culture? What matters most in your job search? Are there companies you want to prioritize?  Develop a game plan and be intentional with your time.\n",
      "Prepare a stellar résumé. Bring about 20 copies of your résumé to the event, printed on nice paper. We won’t cover resume writing in this post, but there are a plethora of online resources you can consult. For job fairs, don’t worry about cover letters.\n",
      "Polish your online profiles. If recruiters have a copy of your resume, you can be sure they will stalk you online soon. Make sure your online presence is professional and appropriate. A good place to start is by Googling yourself. Update your LinkedIn, and clean up any social media profiles.\n",
      "Craft a 30-60 second elevator pitch. You may only have a few minutes with an employer. What will you say if they ask, “Tell me about yourself?” Consider structuring your pitch like this: Who you are + What you do + What your goals are + Why that matters to the company.\n",
      "Don’t show up in a t-shirt, but trade in your suit for something more chill. Always keep it professional, but remember: tech is typically more casual than other industries. You’ll likely feel out of place if you look like you belong on Wall St., so refer to this guide on dressing for tech interviews.\n",
      "Don’t forget the basics. Start and end each conversation with a firm handshake. Make eye contact while conversing. Smile! Thank the recruiter before you move on to the next table.\n",
      "Ask educated questions. Don’t waste valuable face time with recruiters by asking questions like, “What does [Insert Company here] do?” They hate that question! Instead, try some of these:\n",
      "\n",
      "What are the top 3-5 examples of knowledge, skills, and abilities you look for in candidates?\n",
      "What’s the best advice you have for someone who wants to work here?\n",
      "What is your interview process like?\n",
      "Are you hiring for any roles not currently listed on your websites?\n",
      "\n",
      "\n",
      "Follow up. Collect business cards from each table. The next day, send a short note expressing your interest in the company’s opportunities and thanking the recruiter for his or her time.\n",
      "\n",
      "RSVP for the SA Tech Job Fair taking place at the Jack Guenther Pavilion – September 18th starting at 4 pm.\n"
     ]
    }
   ],
   "source": [
    "print(f\"{contents}\")"
   ]
  },
  {
   "cell_type": "markdown",
   "id": "065af4d2",
   "metadata": {},
   "source": [
    "### Competitor Bootcamps Are Closing"
   ]
  },
  {
   "cell_type": "code",
   "execution_count": 136,
   "id": "8affcea9",
   "metadata": {},
   "outputs": [],
   "source": [
    "url = 'https://codeup.com/codeup-news/competitor-bootcamps-are-closing-is-the-model-in-danger/'\n",
    "headers = {'User-Agent': 'malachi-hale'}\n",
    "response = requests.get(url, headers=headers)\n",
    "html = response.text"
   ]
  },
  {
   "cell_type": "code",
   "execution_count": 137,
   "id": "0489ebc6",
   "metadata": {},
   "outputs": [],
   "source": [
    "soup = BeautifulSoup(html)"
   ]
  },
  {
   "cell_type": "code",
   "execution_count": 140,
   "id": "3775463f",
   "metadata": {},
   "outputs": [],
   "source": [
    "title = soup.select(\".et_pb_title_container\")"
   ]
  },
  {
   "cell_type": "code",
   "execution_count": 146,
   "id": "43e855dd",
   "metadata": {},
   "outputs": [
    {
     "data": {
      "text/plain": [
       "'Competitor Bootcamps Are Closing. Is the Model in Danger?'"
      ]
     },
     "execution_count": 146,
     "metadata": {},
     "output_type": "execute_result"
    }
   ],
   "source": [
    "title[0].select('h1')[0].text.strip()"
   ]
  },
  {
   "cell_type": "code",
   "execution_count": 50,
   "id": "b14aa6cf",
   "metadata": {},
   "outputs": [],
   "source": [
    "body = soup.select(\".et_pb_module.et_pb_post_content.et_pb_post_content_0_tb_body\")"
   ]
  },
  {
   "cell_type": "code",
   "execution_count": 51,
   "id": "2fe4bbfb",
   "metadata": {},
   "outputs": [
    {
     "data": {
      "text/plain": [
       "[<div class=\"et_pb_module et_pb_post_content et_pb_post_content_0_tb_body\">\n",
       " <h1 style=\"text-align: center;\">Competitor Bootcamps Are Closing. Is the Model in Danger?</h1>\n",
       " <p> </p>\n",
       " <div>\n",
       " <h3>Is the programming bootcamp model in danger?</h3>\n",
       " <p>In recent news, DevBootcamp and The Iron Yard announced that they are closing their doors. This is big news. DevBootcamp was the first programming bootcamp model and The Iron Yard is a national player with 15 campuses across the U.S. In both cases, the companies cited an unsustainable business model. Does that mean the boot-camp model is dead?</p>\n",
       " </div>\n",
       " <h3>tl;dr “Nope!”</h3>\n",
       " <p>Bootcamps exist because traditional education models have failed to provide students job-ready skills for the 21st century. Students demand better employment options from their education. Employers demand skilled and job ready candidates. Big Education’s failure to meet those needs through traditional methods created the fertile ground for the new business model of the programming bootcamp.</p>\n",
       " <p>Education giant Kaplan and Apollo Education Group (owner of University of Phoenix) bought their way into this new educational model when they purchased The Iron Yard and DevBootcamp. They purchased their competition with the intent to scale up the model. Unfortunately, Big Education is too habituated to coming up short for students. They bought the upstarts that challenged them, tried making changes to run those bootcamps in the “Big Education” way, and, sadly, they’ve closed the doors when they realized that scaling education is more challenging when student outcomes truly matter.</p>\n",
       " <p>The bootcamp model is still new and there will be plenty consolidation, competition, and changes in the future. This model is based on <em>actually</em> being adaptive, innovative, and sustainable. And there’s always room for innovation.</p>\n",
       " <div></div>\n",
       " <div>\n",
       " <h3>What we’ve learned at Codeup…</h3>\n",
       " </div>\n",
       " <ul>\n",
       " <li>Education is challenging to scale.</li>\n",
       " <li>Prioritizing quality over growth pays off.</li>\n",
       " </ul>\n",
       " <h3>What we’re doing at Codeup…</h3>\n",
       " <ul>\n",
       " <li>Higher standards in our application process are leading to better student outcomes.</li>\n",
       " <li>Our reputation and commitment to quality is opening new doors to previously uninterested/unreachable employers.</li>\n",
       " <li>In the beginning, the majority of Codeup graduates went to work with startups and small businesses. We’re now seeing a larger amount of our graduates place at medium to large sized businesses.</li>\n",
       " <li>Demand is growing and employers are learning that the results are in the graduates.</li>\n",
       " <li>Codeup’s model is sustainable, inclusive, and works.</li>\n",
       " </ul>\n",
       " <div><strong>Call or <a href=\"/apply/\">contact us today</a> to see how Codeup’s commitment to quality and approach to being a career accelerator can make a profound difference in your life.</strong></div>\n",
       " </div>]"
      ]
     },
     "execution_count": 51,
     "metadata": {},
     "output_type": "execute_result"
    }
   ],
   "source": [
    "body"
   ]
  },
  {
   "cell_type": "code",
   "execution_count": 53,
   "id": "09cc1dc8",
   "metadata": {},
   "outputs": [
    {
     "data": {
      "text/plain": [
       "'Competitor Bootcamps Are Closing. Is the Model in Danger?\\n\\xa0\\n\\nIs the programming bootcamp model in danger?\\nIn recent news, DevBootcamp and The Iron Yard announced that they are closing their doors. This is big news. DevBootcamp was the first programming bootcamp model and The Iron Yard is a national player with 15 campuses across the U.S. In both cases, the companies cited an unsustainable business model. Does that mean the boot-camp model is dead?\\n\\ntl;dr “Nope!”\\nBootcamps exist because traditional education models have failed to provide students job-ready skills for the 21st century. Students demand better employment options from their education. Employers demand skilled and job ready candidates. Big Education’s failure to meet those needs through traditional methods created the fertile ground for the new business model of the programming bootcamp.\\nEducation giant Kaplan and Apollo Education Group (owner of University of Phoenix) bought their way into this new educational model when they purchased The Iron Yard and DevBootcamp. They purchased their competition with the intent to scale up the model. Unfortunately, Big Education is too habituated to coming up short for students. They bought the upstarts that challenged them, tried making changes to run those bootcamps in the “Big Education” way, and, sadly, they’ve closed the doors when they realized that scaling education is more challenging when student outcomes truly matter.\\nThe bootcamp model is still new and there will be plenty consolidation, competition, and changes in the future. This model is based on actually being adaptive, innovative, and sustainable. And there’s always room for innovation.\\n\\n\\nWhat we’ve learned at Codeup…\\n\\n\\nEducation is challenging to scale.\\nPrioritizing quality over growth pays off.\\n\\nWhat we’re doing at Codeup…\\n\\nHigher standards in our application process are leading to better student outcomes.\\nOur reputation and commitment to quality is opening new doors to previously uninterested/unreachable employers.\\nIn the beginning, the majority of Codeup graduates went to work with startups and small businesses. We’re now seeing a larger amount of our graduates place at medium to large sized businesses.\\nDemand is growing and employers are learning that the results are in the graduates.\\nCodeup’s model is sustainable, inclusive, and works.\\n\\nCall or contact us today to see how Codeup’s commitment to quality and approach to being a career accelerator can make a profound difference in your life.'"
      ]
     },
     "execution_count": 53,
     "metadata": {},
     "output_type": "execute_result"
    }
   ],
   "source": [
    "contents = body[0].text.strip()\n",
    "contents"
   ]
  },
  {
   "cell_type": "code",
   "execution_count": 84,
   "id": "cecd1502",
   "metadata": {},
   "outputs": [
    {
     "data": {
      "text/plain": [
       "'Competitor Bootcamps Are Closing. Is the Model in Danger?\\n\\xa0\\n\\nIs the programming bootcamp model in danger?\\nIn recent news, DevBootcamp and The Iron Yard announced that they are closing their doors. This is big news. DevBootcamp was the first programming bootcamp model and The Iron Yard is a national player with 15 campuses across the U.S. In both cases, the companies cited an unsustainable business model. Does that mean the boot-camp model is dead?\\n\\ntl;dr “Nope!”\\nBootcamps exist because traditional education models have failed to provide students job-ready skills for the 21st century. Students demand better employment options from their education. Employers demand skilled and job ready candidates. Big Education’s failure to meet those needs through traditional methods created the fertile ground for the new business model of the programming bootcamp.\\nEducation giant Kaplan and Apollo Education Group (owner of University of Phoenix) bought their way into this new educational model when they purchased The Iron Yard and DevBootcamp. They purchased their competition with the intent to scale up the model. Unfortunately, Big Education is too habituated to coming up short for students. They bought the upstarts that challenged them, tried making changes to run those bootcamps in the “Big Education” way, and, sadly, they’ve closed the doors when they realized that scaling education is more challenging when student outcomes truly matter.\\nThe bootcamp model is still new and there will be plenty consolidation, competition, and changes in the future. This model is based on actually being adaptive, innovative, and sustainable. And there’s always room for innovation.\\n\\n\\nWhat we’ve learned at Codeup…\\n\\n\\nEducation is challenging to scale.\\nPrioritizing quality over growth pays off.\\n\\nWhat we’re doing at Codeup…\\n\\nHigher standards in our application process are leading to better student outcomes.\\nOur reputation and commitment to quality is opening new doors to previously uninterested/unreachable employers.\\nIn the beginning, the majority of Codeup graduates went to work with startups and small businesses. We’re now seeing a larger amount of our graduates place at medium to large sized businesses.\\nDemand is growing and employers are learning that the results are in the graduates.\\nCodeup’s model is sustainable, inclusive, and works.\\n\\nCall or contact us today to see how Codeup’s commitment to quality and approach to being a career accelerator can make a profound difference in your life.'"
      ]
     },
     "execution_count": 84,
     "metadata": {},
     "output_type": "execute_result"
    }
   ],
   "source": [
    "contents.replace(r'\\\\n', r'\\n')"
   ]
  },
  {
   "cell_type": "code",
   "execution_count": 55,
   "id": "52ae6d31",
   "metadata": {},
   "outputs": [
    {
     "name": "stdout",
     "output_type": "stream",
     "text": [
      "Competitor Bootcamps Are Closing. Is the Model in Danger?\n",
      " \n",
      "\n",
      "Is the programming bootcamp model in danger?\n",
      "In recent news, DevBootcamp and The Iron Yard announced that they are closing their doors. This is big news. DevBootcamp was the first programming bootcamp model and The Iron Yard is a national player with 15 campuses across the U.S. In both cases, the companies cited an unsustainable business model. Does that mean the boot-camp model is dead?\n",
      "\n",
      "tl;dr “Nope!”\n",
      "Bootcamps exist because traditional education models have failed to provide students job-ready skills for the 21st century. Students demand better employment options from their education. Employers demand skilled and job ready candidates. Big Education’s failure to meet those needs through traditional methods created the fertile ground for the new business model of the programming bootcamp.\n",
      "Education giant Kaplan and Apollo Education Group (owner of University of Phoenix) bought their way into this new educational model when they purchased The Iron Yard and DevBootcamp. They purchased their competition with the intent to scale up the model. Unfortunately, Big Education is too habituated to coming up short for students. They bought the upstarts that challenged them, tried making changes to run those bootcamps in the “Big Education” way, and, sadly, they’ve closed the doors when they realized that scaling education is more challenging when student outcomes truly matter.\n",
      "The bootcamp model is still new and there will be plenty consolidation, competition, and changes in the future. This model is based on actually being adaptive, innovative, and sustainable. And there’s always room for innovation.\n",
      "\n",
      "\n",
      "What we’ve learned at Codeup…\n",
      "\n",
      "\n",
      "Education is challenging to scale.\n",
      "Prioritizing quality over growth pays off.\n",
      "\n",
      "What we’re doing at Codeup…\n",
      "\n",
      "Higher standards in our application process are leading to better student outcomes.\n",
      "Our reputation and commitment to quality is opening new doors to previously uninterested/unreachable employers.\n",
      "In the beginning, the majority of Codeup graduates went to work with startups and small businesses. We’re now seeing a larger amount of our graduates place at medium to large sized businesses.\n",
      "Demand is growing and employers are learning that the results are in the graduates.\n",
      "Codeup’s model is sustainable, inclusive, and works.\n",
      "\n",
      "Call or contact us today to see how Codeup’s commitment to quality and approach to being a career accelerator can make a profound difference in your life.\n"
     ]
    }
   ],
   "source": [
    "print(f\"{contents}\")"
   ]
  },
  {
   "cell_type": "markdown",
   "id": "857fe459",
   "metadata": {},
   "source": [
    "### Function to Get Blog Content"
   ]
  },
  {
   "cell_type": "code",
   "execution_count": 148,
   "id": "8f77a179",
   "metadata": {},
   "outputs": [],
   "source": [
    "def get_blog_articles(url):\n",
    "    '''\n",
    "    This function will obtain the title and the contents for all the articles mentioned in the exercises above.\n",
    "    '''\n",
    "    #Get credentials\n",
    "    headers = {'User-Agent': 'malachi-hale'}\n",
    "    #Get url response\n",
    "    response = requests.get(url, headers=headers)\n",
    "    html = response.text\n",
    "    soup = BeautifulSoup(html)\n",
    "    #Get body div\n",
    "    body = soup.select(\".et_pb_module.et_pb_post_content.et_pb_post_content_0_tb_body\")\n",
    "    #Get title div\n",
    "    title = soup.select(\".et_pb_title_container\")\n",
    "    return {\n",
    "        \"title\": title[0].select('h1')[0].text.strip(),\n",
    "        \"contents\": body[0].text.strip()     \n",
    "        }\n",
    "    "
   ]
  },
  {
   "cell_type": "code",
   "execution_count": 149,
   "id": "cc3eae80",
   "metadata": {},
   "outputs": [],
   "source": [
    "list_of_urls = [\"https://codeup.com/data-science/codeups-data-science-career-accelerator-is-here/\",\n",
    "\"https://codeup.com/data-science/data-science-myths/\",\n",
    "\"https://codeup.com/data-science/data-science-vs-data-analytics-whats-the-difference/\",\n",
    "\"https://codeup.com/data-science/10-tips-to-crush-it-at-the-sa-tech-job-fair/\",\n",
    "\"https://codeup.com/data-science/competitor-bootcamps-are-closing-is-the-model-in-danger/\"]\n"
   ]
  },
  {
   "cell_type": "code",
   "execution_count": 150,
   "id": "c6b69ff3",
   "metadata": {},
   "outputs": [
    {
     "data": {
      "text/plain": [
       "['https://codeup.com/data-science/codeups-data-science-career-accelerator-is-here/',\n",
       " 'https://codeup.com/data-science/data-science-myths/',\n",
       " 'https://codeup.com/data-science/data-science-vs-data-analytics-whats-the-difference/',\n",
       " 'https://codeup.com/data-science/10-tips-to-crush-it-at-the-sa-tech-job-fair/',\n",
       " 'https://codeup.com/data-science/competitor-bootcamps-are-closing-is-the-model-in-danger/']"
      ]
     },
     "execution_count": 150,
     "metadata": {},
     "output_type": "execute_result"
    }
   ],
   "source": [
    "list_of_urls"
   ]
  },
  {
   "cell_type": "code",
   "execution_count": 151,
   "id": "7354529d",
   "metadata": {},
   "outputs": [],
   "source": [
    "web_data = pd.DataFrame([get_blog_articles(url) for url in list_of_urls])"
   ]
  },
  {
   "cell_type": "code",
   "execution_count": 152,
   "id": "cc6c2f2e",
   "metadata": {
    "scrolled": true
   },
   "outputs": [
    {
     "data": {
      "text/html": [
       "<div>\n",
       "<style scoped>\n",
       "    .dataframe tbody tr th:only-of-type {\n",
       "        vertical-align: middle;\n",
       "    }\n",
       "\n",
       "    .dataframe tbody tr th {\n",
       "        vertical-align: top;\n",
       "    }\n",
       "\n",
       "    .dataframe thead th {\n",
       "        text-align: right;\n",
       "    }\n",
       "</style>\n",
       "<table border=\"1\" class=\"dataframe\">\n",
       "  <thead>\n",
       "    <tr style=\"text-align: right;\">\n",
       "      <th></th>\n",
       "      <th>title</th>\n",
       "      <th>contents</th>\n",
       "    </tr>\n",
       "  </thead>\n",
       "  <tbody>\n",
       "    <tr>\n",
       "      <th>0</th>\n",
       "      <td>Codeup’s Data Science Career Accelerator is Here!</td>\n",
       "      <td>The rumors are true! The time has arrived. Cod...</td>\n",
       "    </tr>\n",
       "    <tr>\n",
       "      <th>1</th>\n",
       "      <td>Data Science Myths</td>\n",
       "      <td>By Dimitri Antoniou and Maggie Giust\\nData Sci...</td>\n",
       "    </tr>\n",
       "    <tr>\n",
       "      <th>2</th>\n",
       "      <td>Data Science VS Data Analytics: What’s The Dif...</td>\n",
       "      <td>By Dimitri Antoniou\\nA week ago, Codeup launch...</td>\n",
       "    </tr>\n",
       "    <tr>\n",
       "      <th>3</th>\n",
       "      <td>10 Tips to Crush It at the SA Tech Job Fair</td>\n",
       "      <td>SA Tech Job Fair\\nThe third bi-annual San Anto...</td>\n",
       "    </tr>\n",
       "    <tr>\n",
       "      <th>4</th>\n",
       "      <td>Competitor Bootcamps Are Closing. Is the Model...</td>\n",
       "      <td>Competitor Bootcamps Are Closing. Is the Model...</td>\n",
       "    </tr>\n",
       "  </tbody>\n",
       "</table>\n",
       "</div>"
      ],
      "text/plain": [
       "                                               title  \\\n",
       "0  Codeup’s Data Science Career Accelerator is Here!   \n",
       "1                                 Data Science Myths   \n",
       "2  Data Science VS Data Analytics: What’s The Dif...   \n",
       "3        10 Tips to Crush It at the SA Tech Job Fair   \n",
       "4  Competitor Bootcamps Are Closing. Is the Model...   \n",
       "\n",
       "                                            contents  \n",
       "0  The rumors are true! The time has arrived. Cod...  \n",
       "1  By Dimitri Antoniou and Maggie Giust\\nData Sci...  \n",
       "2  By Dimitri Antoniou\\nA week ago, Codeup launch...  \n",
       "3  SA Tech Job Fair\\nThe third bi-annual San Anto...  \n",
       "4  Competitor Bootcamps Are Closing. Is the Model...  "
      ]
     },
     "execution_count": 152,
     "metadata": {},
     "output_type": "execute_result"
    }
   ],
   "source": [
    "web_data"
   ]
  },
  {
   "cell_type": "markdown",
   "id": "1aa1bda7",
   "metadata": {},
   "source": [
    "## News Articles"
   ]
  },
  {
   "cell_type": "code",
   "execution_count": 155,
   "id": "513e3036",
   "metadata": {},
   "outputs": [],
   "source": [
    "headers = {'User-Agent': 'malachi-hale'}\n",
    "url = \"https://inshorts.com/en/read/business\"\n",
    "response = requests.get(url, headers=headers)\n",
    "html = response.text\n",
    "soup = BeautifulSoup(html)"
   ]
  },
  {
   "cell_type": "code",
   "execution_count": 198,
   "id": "91a168ed",
   "metadata": {},
   "outputs": [],
   "source": [
    "title = soup.select(\".news-card-title.news-right-box\")"
   ]
  },
  {
   "cell_type": "code",
   "execution_count": 199,
   "id": "73d8aa71",
   "metadata": {},
   "outputs": [
    {
     "data": {
      "text/plain": [
       "25"
      ]
     },
     "execution_count": 199,
     "metadata": {},
     "output_type": "execute_result"
    }
   ],
   "source": [
    "len(title)"
   ]
  },
  {
   "cell_type": "code",
   "execution_count": 200,
   "id": "db3c05a4",
   "metadata": {},
   "outputs": [
    {
     "data": {
      "text/plain": [
       "\"India's Covaxin may get WHO approval in next 24 hours: Spokesperson\""
      ]
     },
     "execution_count": 200,
     "metadata": {},
     "output_type": "execute_result"
    }
   ],
   "source": [
    "title[0].select(\"[itemprop = 'headline']\")[0].text.strip()"
   ]
  },
  {
   "cell_type": "code",
   "execution_count": 201,
   "id": "0c1304d1",
   "metadata": {},
   "outputs": [
    {
     "data": {
      "text/plain": [
       "'How many years did it take for various companies to hit the $1 trillion m-cap mark?'"
      ]
     },
     "execution_count": 201,
     "metadata": {},
     "output_type": "execute_result"
    }
   ],
   "source": [
    "title[1].select(\"[itemprop = 'headline']\")[0].text.strip()"
   ]
  },
  {
   "cell_type": "code",
   "execution_count": 202,
   "id": "b3fb1e6c",
   "metadata": {},
   "outputs": [],
   "source": [
    "titles = []\n",
    "for i in range(0, (len(title) - 1)):\n",
    "    titles.append(title[i].select(\"[itemprop = 'headline']\")[0].text.strip())"
   ]
  },
  {
   "cell_type": "code",
   "execution_count": 203,
   "id": "f941620d",
   "metadata": {},
   "outputs": [
    {
     "data": {
      "text/plain": [
       "[\"India's Covaxin may get WHO approval in next 24 hours: Spokesperson\",\n",
       " 'How many years did it take for various companies to hit the $1 trillion m-cap mark?',\n",
       " \"Elon Musk tweets 'Wild $T1mes' after Tesla hits $1 trillion market cap\",\n",
       " 'Which companies have $1 trillion or more market cap besides Tesla?',\n",
       " \"I decided to support Doge as it felt like the people's crypto: Elon Musk\",\n",
       " \"BharatPe opposes PhonePe's trademarks for using 'Pe' in Devanagari in Delhi HC\",\n",
       " 'Policybazaar fixes price band for its IPO at ₹940-980 per share',\n",
       " \"Govt sends 202 notices to e-comm firms in a year for violating 'country of origin' rule\",\n",
       " 'India spending ₹8 lakh cr on petrol, diesel imports: Gadkari amid record high prices',\n",
       " 'Crypto fund inflows hit record $1.5 bn as US Bitcoin ETFs launched: Report',\n",
       " 'Govt to pitch to Tesla, Samsung for local battery production: Report',\n",
       " 'Nykaa shares trade at 60% premium in grey market ahead of its IPO',\n",
       " 'Jaguar Land Rover extends production cuts amid chip shortage: Report',\n",
       " 'Snapdeal appoints 2 independent directors ahead of its proposed IPO',\n",
       " 'Ant Group changed name for NFTs amid China crypto crackdown',\n",
       " 'Fino Payments Bank sets price band for ₹1,200 cr IPO at ₹560-577 apiece',\n",
       " '1,00,000 Tesla cars sold to Hertz at same price as to consumers: Musk',\n",
       " 'Govt plans to complete privatisation of 13 airports by March: AAI Chairman',\n",
       " '₹150 cr unaccounted income detected after raid on Punjab-based group',\n",
       " \"Adani exploring investment in Sri Lanka's renewable energy sector: Official\",\n",
       " \"Zee cancels board meeting on quarterly results due to 'lack of quorum'\",\n",
       " 'Bombay HC grants injunction to Zee, restrains Invesco from holding EGM',\n",
       " 'RBI fines Vasai Vikas Sahakari Bank ₹90 lakh for non-compliance',\n",
       " 'High probability of oil reaching $100 per barrel: BlackRock CEO']"
      ]
     },
     "execution_count": 203,
     "metadata": {},
     "output_type": "execute_result"
    }
   ],
   "source": [
    "titles"
   ]
  },
  {
   "cell_type": "code",
   "execution_count": 206,
   "id": "4fc9141d",
   "metadata": {},
   "outputs": [],
   "source": [
    "body = soup.select(\".news-card-content.news-right-box\")"
   ]
  },
  {
   "cell_type": "code",
   "execution_count": 216,
   "id": "e97a3102",
   "metadata": {},
   "outputs": [
    {
     "data": {
      "text/plain": [
       "25"
      ]
     },
     "execution_count": 216,
     "metadata": {},
     "output_type": "execute_result"
    }
   ],
   "source": [
    "len(body)"
   ]
  },
  {
   "cell_type": "code",
   "execution_count": 207,
   "id": "1a738de3",
   "metadata": {},
   "outputs": [
    {
     "data": {
      "text/plain": [
       "'A WHO technical advisory group which met on Tuesday to consider Bharat Biotech\\'s COVID-19 vaccine Covaxin for emergency use listing is likely to announce its decision soon. \"If all is in place and all goes well and if the committee is satisfied, we would expect a recommendation within the next 24 hours or so,\" WHO spokesperson Margaret Harris told reporters.'"
      ]
     },
     "execution_count": 207,
     "metadata": {},
     "output_type": "execute_result"
    }
   ],
   "source": [
    "body[0].select('[itemprop=\"articleBody\"]')[0].text.strip()"
   ]
  },
  {
   "cell_type": "code",
   "execution_count": 215,
   "id": "516de677",
   "metadata": {},
   "outputs": [
    {
     "data": {
      "text/plain": [
       "\"Tesla took 18 years to hit the $1-trillion m-cap milestone, the world's second-fastest company to do so. Facebook was the fastest after taking 17 years, but it briefly hit the $1-trillion mark. Amazon took 24 years to hit $1 trillion, Apple took 42 years, Microsoft took 44 years and Alphabet hit $1 trillion m-cap 21 years after Google's inception.\""
      ]
     },
     "execution_count": 215,
     "metadata": {},
     "output_type": "execute_result"
    }
   ],
   "source": [
    "body[1].select('[itemprop=\"articleBody\"]')[0].text.strip()"
   ]
  },
  {
   "cell_type": "code",
   "execution_count": 217,
   "id": "dbb9fc73",
   "metadata": {},
   "outputs": [
    {
     "data": {
      "text/plain": [
       "'The Supreme Court was told by senior advocate and court-appointed receiver R Venkataramani that SBI and UCO Bank have agreed to invest ₹450 crore in Amrapali projects. He further said that other banks, who were part of a consortium, are delaying the process. In order to accelerate the process, a little nudge from the top court was needed, he added.'"
      ]
     },
     "execution_count": 217,
     "metadata": {},
     "output_type": "execute_result"
    }
   ],
   "source": [
    "body[24].select('[itemprop=\"articleBody\"]')[0].text.strip()"
   ]
  },
  {
   "cell_type": "code",
   "execution_count": 209,
   "id": "b80e9cac",
   "metadata": {},
   "outputs": [],
   "source": [
    "contents = []\n",
    "for i in range(0, (len(body)-1)):\n",
    "    contents.append(body[i].select('[itemprop=\"articleBody\"]')[0].text.strip())"
   ]
  },
  {
   "cell_type": "code",
   "execution_count": 210,
   "id": "a614531d",
   "metadata": {
    "scrolled": true
   },
   "outputs": [
    {
     "data": {
      "text/plain": [
       "['A WHO technical advisory group which met on Tuesday to consider Bharat Biotech\\'s COVID-19 vaccine Covaxin for emergency use listing is likely to announce its decision soon. \"If all is in place and all goes well and if the committee is satisfied, we would expect a recommendation within the next 24 hours or so,\" WHO spokesperson Margaret Harris told reporters.',\n",
       " \"Tesla took 18 years to hit the $1-trillion m-cap milestone, the world's second-fastest company to do so. Facebook was the fastest after taking 17 years, but it briefly hit the $1-trillion mark. Amazon took 24 years to hit $1 trillion, Apple took 42 years, Microsoft took 44 years and Alphabet hit $1 trillion m-cap 21 years after Google's inception.\",\n",
       " 'Tesla CEO and the world\\'s richest person Elon Musk tweeted \"Wild $T1mes\" after his electric carmaking company hit $1 trillion in market capitalisation for the first time. On Monday, Tesla shares surged 14.9% to $1,045.02 after American car rental company Hertz ordered 1,00,000 Tesla cars. Musk got $36 billion richer in a day and his wealth surged to $289 billion.',\n",
       " 'Tesla has become the latest company to surpass $1 trillion in market capitalisation. Besides Tesla, Apple, Microsoft, Amazon, Alphabet, and oil company Saudi Aramco have over $1 trillion in market cap, amongst which, Apple, Microsoft and Saudi Aramco have over $2 trillion in market cap. Facebook hit $1 trillion in market cap in mid-2021 but later slipped below the mark.',\n",
       " 'Tesla CEO and the world\\'s richest person Elon Musk said he decided to support Doge as \"it felt like the people\\'s crypto\". He added, \"Lots of people I talked to on the production lines at Tesla or building rockets at SpaceX own Doge...They aren\\'t financial experts or Silicon Valley technologists.\" Earlier, Musk revealed he only owns Bitcoin, Ether and Doge.',\n",
       " 'BharatPe\\'s holding firm Resilient Innovations has moved the Delhi High Court to cancel PhonePe\\'s registrations for the \\'Pe\\' device mark in Devanagari script. This comes after PhonePe moved Bombay High Court against BharatPe\\'s use of \\'Pe\\' in \\'postpe\\' and later withdrew the petition. \"We hope...PhonePe would...get a reality check, and put an end to its ill-conceived...agenda,\" a spokesperson said.',\n",
       " 'PB Fintech, the operator of online insurance aggregator Policybazaar, has fixed the price band for its initial public offering (IPO) at ₹940-980 per share. The offer will open for subscription on November 1 and close on November 3. It comprises a fresh issue of ₹3,750 crore and an offer-for-sale of ₹1959.72 crore by its existing shareholders and promoters.',\n",
       " \"The government issued 202 notices to e-commerce players for incorrect declaration of 'country of origin' on products on their platforms in the last one year. The maximum number of such violations were found with respect to electronic appliances, followed by clothing and home products. Another 15 notices were issued for incorrect expiry date, charging more than MRP and other reasons.\",\n",
       " 'Road Transport Minister Nitin Gadkari said that India imports petrol and diesel worth ₹8 lakh crore and it\\'ll increase to ₹25 lakh crore in five years if the trend of its utilisation continues. Gadkari added that \"diesel and petrol aren\\'t good for the environment\" and urged people to switch to alternate fuels. His comments came amid record high fuel prices.',\n",
       " 'Investors poured a record $1.5 billion into the cryptocurrency market last week amid a rally in cryptocurrencies and the launch of the first Bitcoin ETFs in the US, CoinShares reported. The previous weekly record came in February, when inflows totalled $640 million. The year-to-date crypto inflows now total $8 billion, beating the 2020 record of $6.7 billion.',\n",
       " 'The government is planning to pitch to companies such as Tesla, Samsung and LG Energy to encourage them to invest in manufacturing batteries locally, Reuters reported quoting government sources. India will reportedly host five roadshows starting next month in several countries to convince battery makers to set up local production. It includes countries like US, Germany, France, South Korea, Japan.',\n",
       " \"The unlisted shares of Nykaa's parent company FSN E-Commerce Ventures are trading at ₹1,775-1,805 apiece, a premium of up to 60%, in the grey market, according to reports. Nykaa has fixed the price band at ₹1,085-1,125 per share for its initial public offering (IPO) and is likely to raise ₹5,352 crore. The IPO will open for subscription on October 28.\",\n",
       " 'Tata Motors-owned Jaguar Land Rover has decided to extend production cuts in the current quarter amid the global semiconductor chip shortage, The Economic Times reported. It has scheduled production shutdown at its Nitra and Solihull plants, while the plant in Graz will also witness no-production days, it added. This may result in an incremental revenue loss of about ₹3,100-3,350 crore.',\n",
       " \"Snapdeal has strengthened two ESG-focussed independent directors to its board ahead of its expected ₹3,000 crore IPO. It has appointed Zomato's Chairman Kaushik Dutta and Richa Arora, who is Managing Partner & CEO for ESG Stewardship Services at ECube Investment Advisors. According to reports, the firm is considering to file its draft red herring prospectus in the next few months.\",\n",
       " 'Jack Ma\\'s Ant Group changed the name for NFTs on its platform, AntChain, to \"digital collectibles\" in September, amid China\\'s crack down on cryptocurrency sector. AntChain said it \"firmly opposes price speculation around NFT products\" and decided to use \"a more accurate description\" for its business. Tencent\\'s Huanhe has also reportedly started referencing to NFTs as \"digital collectibles\".',\n",
       " 'Fino Payments Bank has fixed the price band for its ₹1,200 crore initial public offering (IPO) at ₹560-577 apiece. The offer comprises a fresh issue of equity shares worth ₹300 crore and an offer-for-sale of 1.56 crore shares by the promoter of the company, Fino Paytech. The IPO will open for subscription on October 29 and close on November 2.',\n",
       " 'After US car rental company Hertz\\'s order for 1,00,000 Tesla cars led to a surge in Tesla\\'s stock price, CEO Elon Musk said, \"To be clear, cars sold to Hertz have no discount. Same price as to consumers.\" Tesla\\'s market capitalisation also surpassed $1 trillion. \"Strange that moved valuation, as Tesla is very much a production ramp problem,\" Musk noted.',\n",
       " 'Airports Authority of India (AAI) Chairman Sanjeev Kumar said the Centre plans to complete privatisation process for 13 airports by the end of March. \"We\\'ve sent a list of 13 airports to...Aviation Ministry that are to be bid out on PPP,\" he told The Economic Times. The model for bidding would be based on per-passenger revenue model, he added.',\n",
       " 'The Ministry of Finance said that the Income Tax Department has detected unaccounted income of about ₹150 crore after raid on a group engaged in cycle business in Punjab. Cash worth ₹2.25 crore and unaccounted gold worth ₹2 crore was also seized. It also detected ₹40 crore unaccounted income from Jalandhar-based group involved in immigration and visa services for students.',\n",
       " \"Sri Lanka's Ceylon Electricity Board (CEB) Vice Chairman Nalinda Ilangakoon said the Adani Group is exploring the possibility of investing in the country's renewable energy and wind sector. Adani Group's senior officials visited Mannar to inspect the wind power farm, he added. Recently, the company struck a deal with Sri Lanka to develop and run Colombo Port's Western Container Terminal.\",\n",
       " \"Zee Entertainment said it has cancelled its board meeting, which was scheduled for October 27 to consider and approve the second quarter's financial results, due to lack of quorum. Next date of the meeting will be announced with a fresh notice, it added. This comes amid the ongoing dispute between Invesco and Zee over calling for an extraordinary general meeting.\",\n",
       " \"The Bombay High Court on Tuesday granted an injunction in favour of Zee Entertainment in its dispute against Invesco Developing Markets Fund and OFI Global China Fund. The court has restrained Invesco from calling an extraordinary general meeting (EGM). Invesco and OFI had sought an EGM to remove Zee's CEO and MD Punit Goenka and reconstitute the firm's board.\",\n",
       " 'The RBI on Tuesday said that it has imposed a penalty of ₹90 lakh on Vasai Vikas Sahakari Bank, Maharashtra. \"This action is based on deficiency in regulatory compliance,\" it added. The bank had not complied with its directions, including on ensuring end-use of funds in borrowal accounts and classification of loans, advances as non-performing assets, RBI said.',\n",
       " \"Larry Fink, CEO of the world's largest asset manager BlackRock, has said that there is a high probability of oil reaching $100 a barrel. Higher energy inflation would linger for some time due to a focus on short-term policies, he added. Fink also called for more collaboration between the public and private sectors to tackle global challenges.\"]"
      ]
     },
     "execution_count": 210,
     "metadata": {},
     "output_type": "execute_result"
    }
   ],
   "source": [
    "contents"
   ]
  },
  {
   "cell_type": "code",
   "execution_count": 239,
   "id": "f5dfeeb2",
   "metadata": {},
   "outputs": [],
   "source": [
    "def get_business_articles(url):\n",
    "    '''\n",
    "    This function will obtain the title and the contents for all the articles on the business page of \n",
    "    the news site.\n",
    "    '''\n",
    "    #Get user credentials\n",
    "    headers = {'User-Agent': 'malachi-hale'}\n",
    "    response = requests.get(url, headers=headers)\n",
    "    html = response.text\n",
    "    soup = BeautifulSoup(html)\n",
    "    #Get title div\n",
    "    title = soup.select(\".news-card-title.news-right-box\")\n",
    "    titles = []\n",
    "    #Make a list of every title\n",
    "    for i in range(0, (len(title))):\n",
    "        titles.append(title[i].select(\"[itemprop = 'headline']\")[0].text.strip())\n",
    "    #Get body div    \n",
    "    body = soup.select(\".news-card-content.news-right-box\")\n",
    "    contents = []\n",
    "    #Make a list of all contents \n",
    "    for i in range(0, (len(body))):\n",
    "        contents.append(body[i].select('[itemprop=\"articleBody\"]')[0].text.strip())\n",
    "    #Make both our lists into a DataFrame    \n",
    "    business =  pd.DataFrame({\n",
    "        \"title\": titles, \n",
    "      \"contents\": contents, \n",
    "        \"category\": url[29:]\n",
    "    })  \n",
    "    \n",
    "    return business"
   ]
  },
  {
   "cell_type": "code",
   "execution_count": 240,
   "id": "8d62b1f9",
   "metadata": {},
   "outputs": [
    {
     "data": {
      "text/html": [
       "<div>\n",
       "<style scoped>\n",
       "    .dataframe tbody tr th:only-of-type {\n",
       "        vertical-align: middle;\n",
       "    }\n",
       "\n",
       "    .dataframe tbody tr th {\n",
       "        vertical-align: top;\n",
       "    }\n",
       "\n",
       "    .dataframe thead th {\n",
       "        text-align: right;\n",
       "    }\n",
       "</style>\n",
       "<table border=\"1\" class=\"dataframe\">\n",
       "  <thead>\n",
       "    <tr style=\"text-align: right;\">\n",
       "      <th></th>\n",
       "      <th>title</th>\n",
       "      <th>contents</th>\n",
       "      <th>category</th>\n",
       "    </tr>\n",
       "  </thead>\n",
       "  <tbody>\n",
       "    <tr>\n",
       "      <th>0</th>\n",
       "      <td>Actor R Madhavan's 16-year-old son Vedaant win...</td>\n",
       "      <td>Actor R Madhavan's 16-year-old son Vedaant Mad...</td>\n",
       "      <td>sports</td>\n",
       "    </tr>\n",
       "    <tr>\n",
       "      <th>1</th>\n",
       "      <td>South Africa hand defending champs West Indies...</td>\n",
       "      <td>South Africa defeated West Indies by eight wic...</td>\n",
       "      <td>sports</td>\n",
       "    </tr>\n",
       "    <tr>\n",
       "      <th>2</th>\n",
       "      <td>I'll get ₹3,500 cr from BCCI, that means I've ...</td>\n",
       "      <td>RPSG Venture head Sanjiv Goenka, who bought th...</td>\n",
       "      <td>sports</td>\n",
       "    </tr>\n",
       "    <tr>\n",
       "      <th>3</th>\n",
       "      <td>BCCI come out in support of Shami after he get...</td>\n",
       "      <td>BCCI took to Twitter to extend support to fast...</td>\n",
       "      <td>sports</td>\n",
       "    </tr>\n",
       "    <tr>\n",
       "      <th>4</th>\n",
       "      <td>Pakistan defeat New Zealand to register back-t...</td>\n",
       "      <td>Pakistan defeated New Zealand by five wickets ...</td>\n",
       "      <td>sports</td>\n",
       "    </tr>\n",
       "    <tr>\n",
       "      <th>5</th>\n",
       "      <td>Nabi trolls himself at press conference, says ...</td>\n",
       "      <td>Afghanistan captain Mohammad Nabi, during a pr...</td>\n",
       "      <td>sports</td>\n",
       "    </tr>\n",
       "    <tr>\n",
       "      <th>6</th>\n",
       "      <td>Rahul Dravid applies for post of Team India he...</td>\n",
       "      <td>Former Team India captain Rahul Dravid officia...</td>\n",
       "      <td>sports</td>\n",
       "    </tr>\n",
       "    <tr>\n",
       "      <th>7</th>\n",
       "      <td>Cricket South Africa confirm De Kock denied to...</td>\n",
       "      <td>Cricket South Africa (CSA) confirmed that wick...</td>\n",
       "      <td>sports</td>\n",
       "    </tr>\n",
       "    <tr>\n",
       "      <th>8</th>\n",
       "      <td>Rizwan offering namaz on ground surrounded by ...</td>\n",
       "      <td>After Pakistan wicketkeeper-batter Mohammad Ri...</td>\n",
       "      <td>sports</td>\n",
       "    </tr>\n",
       "    <tr>\n",
       "      <th>9</th>\n",
       "      <td>Will consider next steps after report from man...</td>\n",
       "      <td>Cricket South Africa (CSA) released a statemen...</td>\n",
       "      <td>sports</td>\n",
       "    </tr>\n",
       "    <tr>\n",
       "      <th>10</th>\n",
       "      <td>You won't get me throwing my players under the...</td>\n",
       "      <td>Talking about West Indies opener Lendl Simmons...</td>\n",
       "      <td>sports</td>\n",
       "    </tr>\n",
       "    <tr>\n",
       "      <th>11</th>\n",
       "      <td>It's down to the individual to decide: Vaughan...</td>\n",
       "      <td>Commenting on South Africa wicketkeeper-batter...</td>\n",
       "      <td>sports</td>\n",
       "    </tr>\n",
       "    <tr>\n",
       "      <th>12</th>\n",
       "      <td>Indian bowlers didn't bowl to conditions vs Pa...</td>\n",
       "      <td>Ex-India batter VVS Laxman said that Team Indi...</td>\n",
       "      <td>sports</td>\n",
       "    </tr>\n",
       "    <tr>\n",
       "      <th>13</th>\n",
       "      <td>Kohli's innings vs Pak was terrific, he's amaz...</td>\n",
       "      <td>Commenting on Virat Kohli's 49-ball 57 which h...</td>\n",
       "      <td>sports</td>\n",
       "    </tr>\n",
       "    <tr>\n",
       "      <th>14</th>\n",
       "      <td>Something that we feel strongly about: WI skip...</td>\n",
       "      <td>West Indies captain Kieron Pollard said that h...</td>\n",
       "      <td>sports</td>\n",
       "    </tr>\n",
       "    <tr>\n",
       "      <th>15</th>\n",
       "      <td>New Zealand's win against Pak crucial for Indi...</td>\n",
       "      <td>Ex-India pacer Zaheer Khan said New Zealand's ...</td>\n",
       "      <td>sports</td>\n",
       "    </tr>\n",
       "    <tr>\n",
       "      <th>16</th>\n",
       "      <td>West Indies batting is one-dimensional, have t...</td>\n",
       "      <td>Ex-India wicketkeeper-batter Deep Dasgupta has...</td>\n",
       "      <td>sports</td>\n",
       "    </tr>\n",
       "    <tr>\n",
       "      <th>17</th>\n",
       "      <td>Any team is more dangerous with Ben Stokes in ...</td>\n",
       "      <td>Australia batsman Steve Smith said that he is ...</td>\n",
       "      <td>sports</td>\n",
       "    </tr>\n",
       "    <tr>\n",
       "      <th>18</th>\n",
       "      <td>WBBL experience will benefit India in 2022 Wom...</td>\n",
       "      <td>India Women opener Smriti Mandhana, who's curr...</td>\n",
       "      <td>sports</td>\n",
       "    </tr>\n",
       "    <tr>\n",
       "      <th>19</th>\n",
       "      <td>Ben Stokes has unfinished business with Austra...</td>\n",
       "      <td>After England added Ben Stokes to their Ashes ...</td>\n",
       "      <td>sports</td>\n",
       "    </tr>\n",
       "    <tr>\n",
       "      <th>20</th>\n",
       "      <td>My job is to fix it if our top order doesn't c...</td>\n",
       "      <td>Australia batter Steve Smith said that his job...</td>\n",
       "      <td>sports</td>\n",
       "    </tr>\n",
       "    <tr>\n",
       "      <th>21</th>\n",
       "      <td>Delighted Stokes is back in a place where he c...</td>\n",
       "      <td>Following England all-rounder Ben Stokes' incl...</td>\n",
       "      <td>sports</td>\n",
       "    </tr>\n",
       "    <tr>\n",
       "      <th>22</th>\n",
       "      <td>Ben Stokes is the ultimate team man: Nasser Hu...</td>\n",
       "      <td>Former England skipper Nasser Hussain called a...</td>\n",
       "      <td>sports</td>\n",
       "    </tr>\n",
       "    <tr>\n",
       "      <th>23</th>\n",
       "      <td>Excuse me for being political: Mbangwa on De K...</td>\n",
       "      <td>Following South Africa wicketkeeper-batter Qui...</td>\n",
       "      <td>sports</td>\n",
       "    </tr>\n",
       "    <tr>\n",
       "      <th>24</th>\n",
       "      <td>Man Utd's Bailly questions Solskjaer for picki...</td>\n",
       "      <td>Manchester United defender Eric Bailly reporte...</td>\n",
       "      <td>sports</td>\n",
       "    </tr>\n",
       "  </tbody>\n",
       "</table>\n",
       "</div>"
      ],
      "text/plain": [
       "                                                title  \\\n",
       "0   Actor R Madhavan's 16-year-old son Vedaant win...   \n",
       "1   South Africa hand defending champs West Indies...   \n",
       "2   I'll get ₹3,500 cr from BCCI, that means I've ...   \n",
       "3   BCCI come out in support of Shami after he get...   \n",
       "4   Pakistan defeat New Zealand to register back-t...   \n",
       "5   Nabi trolls himself at press conference, says ...   \n",
       "6   Rahul Dravid applies for post of Team India he...   \n",
       "7   Cricket South Africa confirm De Kock denied to...   \n",
       "8   Rizwan offering namaz on ground surrounded by ...   \n",
       "9   Will consider next steps after report from man...   \n",
       "10  You won't get me throwing my players under the...   \n",
       "11  It's down to the individual to decide: Vaughan...   \n",
       "12  Indian bowlers didn't bowl to conditions vs Pa...   \n",
       "13  Kohli's innings vs Pak was terrific, he's amaz...   \n",
       "14  Something that we feel strongly about: WI skip...   \n",
       "15  New Zealand's win against Pak crucial for Indi...   \n",
       "16  West Indies batting is one-dimensional, have t...   \n",
       "17  Any team is more dangerous with Ben Stokes in ...   \n",
       "18  WBBL experience will benefit India in 2022 Wom...   \n",
       "19  Ben Stokes has unfinished business with Austra...   \n",
       "20  My job is to fix it if our top order doesn't c...   \n",
       "21  Delighted Stokes is back in a place where he c...   \n",
       "22  Ben Stokes is the ultimate team man: Nasser Hu...   \n",
       "23  Excuse me for being political: Mbangwa on De K...   \n",
       "24  Man Utd's Bailly questions Solskjaer for picki...   \n",
       "\n",
       "                                             contents category  \n",
       "0   Actor R Madhavan's 16-year-old son Vedaant Mad...   sports  \n",
       "1   South Africa defeated West Indies by eight wic...   sports  \n",
       "2   RPSG Venture head Sanjiv Goenka, who bought th...   sports  \n",
       "3   BCCI took to Twitter to extend support to fast...   sports  \n",
       "4   Pakistan defeated New Zealand by five wickets ...   sports  \n",
       "5   Afghanistan captain Mohammad Nabi, during a pr...   sports  \n",
       "6   Former Team India captain Rahul Dravid officia...   sports  \n",
       "7   Cricket South Africa (CSA) confirmed that wick...   sports  \n",
       "8   After Pakistan wicketkeeper-batter Mohammad Ri...   sports  \n",
       "9   Cricket South Africa (CSA) released a statemen...   sports  \n",
       "10  Talking about West Indies opener Lendl Simmons...   sports  \n",
       "11  Commenting on South Africa wicketkeeper-batter...   sports  \n",
       "12  Ex-India batter VVS Laxman said that Team Indi...   sports  \n",
       "13  Commenting on Virat Kohli's 49-ball 57 which h...   sports  \n",
       "14  West Indies captain Kieron Pollard said that h...   sports  \n",
       "15  Ex-India pacer Zaheer Khan said New Zealand's ...   sports  \n",
       "16  Ex-India wicketkeeper-batter Deep Dasgupta has...   sports  \n",
       "17  Australia batsman Steve Smith said that he is ...   sports  \n",
       "18  India Women opener Smriti Mandhana, who's curr...   sports  \n",
       "19  After England added Ben Stokes to their Ashes ...   sports  \n",
       "20  Australia batter Steve Smith said that his job...   sports  \n",
       "21  Following England all-rounder Ben Stokes' incl...   sports  \n",
       "22  Former England skipper Nasser Hussain called a...   sports  \n",
       "23  Following South Africa wicketkeeper-batter Qui...   sports  \n",
       "24  Manchester United defender Eric Bailly reporte...   sports  "
      ]
     },
     "execution_count": 240,
     "metadata": {},
     "output_type": "execute_result"
    }
   ],
   "source": [
    "get_business_articles(url)"
   ]
  },
  {
   "cell_type": "code",
   "execution_count": 225,
   "id": "6a5b54a5",
   "metadata": {},
   "outputs": [
    {
     "data": {
      "text/html": [
       "<div>\n",
       "<style scoped>\n",
       "    .dataframe tbody tr th:only-of-type {\n",
       "        vertical-align: middle;\n",
       "    }\n",
       "\n",
       "    .dataframe tbody tr th {\n",
       "        vertical-align: top;\n",
       "    }\n",
       "\n",
       "    .dataframe thead th {\n",
       "        text-align: right;\n",
       "    }\n",
       "</style>\n",
       "<table border=\"1\" class=\"dataframe\">\n",
       "  <thead>\n",
       "    <tr style=\"text-align: right;\">\n",
       "      <th></th>\n",
       "      <th>title</th>\n",
       "      <th>contents</th>\n",
       "    </tr>\n",
       "  </thead>\n",
       "  <tbody>\n",
       "    <tr>\n",
       "      <th>0</th>\n",
       "      <td>[India's Covaxin may get WHO approval in next ...</td>\n",
       "      <td>[A WHO technical advisory group which met on T...</td>\n",
       "    </tr>\n",
       "  </tbody>\n",
       "</table>\n",
       "</div>"
      ],
      "text/plain": [
       "                                               title  \\\n",
       "0  [India's Covaxin may get WHO approval in next ...   \n",
       "\n",
       "                                            contents  \n",
       "0  [A WHO technical advisory group which met on T...  "
      ]
     },
     "execution_count": 225,
     "metadata": {},
     "output_type": "execute_result"
    }
   ],
   "source": [
    "business_data"
   ]
  },
  {
   "cell_type": "code",
   "execution_count": 242,
   "id": "9c7021c5",
   "metadata": {},
   "outputs": [],
   "source": [
    "def get_articles(url):\n",
    "    headers = {'User-Agent': 'malachi-hale'}\n",
    "    response = requests.get(url, headers=headers)\n",
    "    html = response.text\n",
    "    soup = BeautifulSoup(html)\n",
    "    title = soup.select(\".news-card-title.news-right-box\")\n",
    "    titles = []\n",
    "    for i in range(0, (len(title))):\n",
    "        titles.append(title[i].select(\"[itemprop = 'headline']\")[0].text.strip())\n",
    "    body = soup.select(\".news-card-content.news-right-box\")\n",
    "    contents = []\n",
    "    for i in range(0, (len(body))):\n",
    "        contents.append(body[i].select('[itemprop=\"articleBody\"]')[0].text.strip())\n",
    "    articles =  pd.DataFrame({\n",
    "        \"title\": titles, \n",
    "      \"contents\": contents, \n",
    "        \"category\": url[29:]\n",
    "    })  \n",
    "    \n",
    "    return articles"
   ]
  },
  {
   "cell_type": "code",
   "execution_count": 243,
   "id": "028938ce",
   "metadata": {},
   "outputs": [],
   "source": [
    "url = \"https://inshorts.com/en/read/sports\""
   ]
  },
  {
   "cell_type": "code",
   "execution_count": 244,
   "id": "27da11ed",
   "metadata": {},
   "outputs": [
    {
     "data": {
      "text/html": [
       "<div>\n",
       "<style scoped>\n",
       "    .dataframe tbody tr th:only-of-type {\n",
       "        vertical-align: middle;\n",
       "    }\n",
       "\n",
       "    .dataframe tbody tr th {\n",
       "        vertical-align: top;\n",
       "    }\n",
       "\n",
       "    .dataframe thead th {\n",
       "        text-align: right;\n",
       "    }\n",
       "</style>\n",
       "<table border=\"1\" class=\"dataframe\">\n",
       "  <thead>\n",
       "    <tr style=\"text-align: right;\">\n",
       "      <th></th>\n",
       "      <th>title</th>\n",
       "      <th>contents</th>\n",
       "      <th>category</th>\n",
       "    </tr>\n",
       "  </thead>\n",
       "  <tbody>\n",
       "    <tr>\n",
       "      <th>0</th>\n",
       "      <td>Actor R Madhavan's 16-year-old son Vedaant win...</td>\n",
       "      <td>Actor R Madhavan's 16-year-old son Vedaant Mad...</td>\n",
       "      <td>sports</td>\n",
       "    </tr>\n",
       "    <tr>\n",
       "      <th>1</th>\n",
       "      <td>South Africa hand defending champs West Indies...</td>\n",
       "      <td>South Africa defeated West Indies by eight wic...</td>\n",
       "      <td>sports</td>\n",
       "    </tr>\n",
       "    <tr>\n",
       "      <th>2</th>\n",
       "      <td>Rahul Dravid applies for post of Team India he...</td>\n",
       "      <td>Former Team India captain Rahul Dravid officia...</td>\n",
       "      <td>sports</td>\n",
       "    </tr>\n",
       "    <tr>\n",
       "      <th>3</th>\n",
       "      <td>Cricket South Africa confirm De Kock denied to...</td>\n",
       "      <td>Cricket South Africa (CSA) confirmed that wick...</td>\n",
       "      <td>sports</td>\n",
       "    </tr>\n",
       "    <tr>\n",
       "      <th>4</th>\n",
       "      <td>BCCI come out in support of Shami after he get...</td>\n",
       "      <td>BCCI took to Twitter to extend support to fast...</td>\n",
       "      <td>sports</td>\n",
       "    </tr>\n",
       "    <tr>\n",
       "      <th>5</th>\n",
       "      <td>Pakistan defeat New Zealand to register back-t...</td>\n",
       "      <td>Pakistan defeated New Zealand by five wickets ...</td>\n",
       "      <td>sports</td>\n",
       "    </tr>\n",
       "    <tr>\n",
       "      <th>6</th>\n",
       "      <td>Rizwan offering namaz on ground surrounded by ...</td>\n",
       "      <td>After Pakistan wicketkeeper-batter Mohammad Ri...</td>\n",
       "      <td>sports</td>\n",
       "    </tr>\n",
       "    <tr>\n",
       "      <th>7</th>\n",
       "      <td>Will consider next steps after report from man...</td>\n",
       "      <td>Cricket South Africa (CSA) released a statemen...</td>\n",
       "      <td>sports</td>\n",
       "    </tr>\n",
       "    <tr>\n",
       "      <th>8</th>\n",
       "      <td>Nabi trolls himself at press conference, says ...</td>\n",
       "      <td>Afghanistan captain Mohammad Nabi, during a pr...</td>\n",
       "      <td>sports</td>\n",
       "    </tr>\n",
       "    <tr>\n",
       "      <th>9</th>\n",
       "      <td>I'll get ₹3,500 cr from BCCI, that means I've ...</td>\n",
       "      <td>RPSG Venture head Sanjiv Goenka, who bought th...</td>\n",
       "      <td>sports</td>\n",
       "    </tr>\n",
       "    <tr>\n",
       "      <th>10</th>\n",
       "      <td>You won't get me throwing my players under the...</td>\n",
       "      <td>Talking about West Indies opener Lendl Simmons...</td>\n",
       "      <td>sports</td>\n",
       "    </tr>\n",
       "    <tr>\n",
       "      <th>11</th>\n",
       "      <td>Kohli's innings vs Pak was terrific, he's amaz...</td>\n",
       "      <td>Commenting on Virat Kohli's 49-ball 57 which h...</td>\n",
       "      <td>sports</td>\n",
       "    </tr>\n",
       "    <tr>\n",
       "      <th>12</th>\n",
       "      <td>It's down to the individual to decide: Vaughan...</td>\n",
       "      <td>Commenting on South Africa wicketkeeper-batter...</td>\n",
       "      <td>sports</td>\n",
       "    </tr>\n",
       "    <tr>\n",
       "      <th>13</th>\n",
       "      <td>Indian bowlers didn't bowl to conditions vs Pa...</td>\n",
       "      <td>Ex-India batter VVS Laxman said that Team Indi...</td>\n",
       "      <td>sports</td>\n",
       "    </tr>\n",
       "    <tr>\n",
       "      <th>14</th>\n",
       "      <td>Something that we feel strongly about: WI skip...</td>\n",
       "      <td>West Indies captain Kieron Pollard said that h...</td>\n",
       "      <td>sports</td>\n",
       "    </tr>\n",
       "    <tr>\n",
       "      <th>15</th>\n",
       "      <td>New Zealand's win against Pak crucial for Indi...</td>\n",
       "      <td>Ex-India pacer Zaheer Khan said New Zealand's ...</td>\n",
       "      <td>sports</td>\n",
       "    </tr>\n",
       "    <tr>\n",
       "      <th>16</th>\n",
       "      <td>My job is to fix it if our top order doesn't c...</td>\n",
       "      <td>Australia batter Steve Smith said that his job...</td>\n",
       "      <td>sports</td>\n",
       "    </tr>\n",
       "    <tr>\n",
       "      <th>17</th>\n",
       "      <td>Delighted Stokes is back in a place where he c...</td>\n",
       "      <td>Following England all-rounder Ben Stokes' incl...</td>\n",
       "      <td>sports</td>\n",
       "    </tr>\n",
       "    <tr>\n",
       "      <th>18</th>\n",
       "      <td>Any team is more dangerous with Ben Stokes in ...</td>\n",
       "      <td>Australia batsman Steve Smith said that he is ...</td>\n",
       "      <td>sports</td>\n",
       "    </tr>\n",
       "    <tr>\n",
       "      <th>19</th>\n",
       "      <td>Excuse me for being political: Mbangwa on De K...</td>\n",
       "      <td>Following South Africa wicketkeeper-batter Qui...</td>\n",
       "      <td>sports</td>\n",
       "    </tr>\n",
       "    <tr>\n",
       "      <th>20</th>\n",
       "      <td>Man Utd's Bailly questions Solskjaer for picki...</td>\n",
       "      <td>Manchester United defender Eric Bailly reporte...</td>\n",
       "      <td>sports</td>\n",
       "    </tr>\n",
       "    <tr>\n",
       "      <th>21</th>\n",
       "      <td>WBBL experience will benefit India in 2022 Wom...</td>\n",
       "      <td>India Women opener Smriti Mandhana, who's curr...</td>\n",
       "      <td>sports</td>\n",
       "    </tr>\n",
       "    <tr>\n",
       "      <th>22</th>\n",
       "      <td>Ben Stokes is the ultimate team man: Nasser Hu...</td>\n",
       "      <td>Former England skipper Nasser Hussain called a...</td>\n",
       "      <td>sports</td>\n",
       "    </tr>\n",
       "    <tr>\n",
       "      <th>23</th>\n",
       "      <td>West Indies batting is one-dimensional, have t...</td>\n",
       "      <td>Ex-India wicketkeeper-batter Deep Dasgupta has...</td>\n",
       "      <td>sports</td>\n",
       "    </tr>\n",
       "    <tr>\n",
       "      <th>24</th>\n",
       "      <td>Ben Stokes has unfinished business with Austra...</td>\n",
       "      <td>After England added Ben Stokes to their Ashes ...</td>\n",
       "      <td>sports</td>\n",
       "    </tr>\n",
       "  </tbody>\n",
       "</table>\n",
       "</div>"
      ],
      "text/plain": [
       "                                                title  \\\n",
       "0   Actor R Madhavan's 16-year-old son Vedaant win...   \n",
       "1   South Africa hand defending champs West Indies...   \n",
       "2   Rahul Dravid applies for post of Team India he...   \n",
       "3   Cricket South Africa confirm De Kock denied to...   \n",
       "4   BCCI come out in support of Shami after he get...   \n",
       "5   Pakistan defeat New Zealand to register back-t...   \n",
       "6   Rizwan offering namaz on ground surrounded by ...   \n",
       "7   Will consider next steps after report from man...   \n",
       "8   Nabi trolls himself at press conference, says ...   \n",
       "9   I'll get ₹3,500 cr from BCCI, that means I've ...   \n",
       "10  You won't get me throwing my players under the...   \n",
       "11  Kohli's innings vs Pak was terrific, he's amaz...   \n",
       "12  It's down to the individual to decide: Vaughan...   \n",
       "13  Indian bowlers didn't bowl to conditions vs Pa...   \n",
       "14  Something that we feel strongly about: WI skip...   \n",
       "15  New Zealand's win against Pak crucial for Indi...   \n",
       "16  My job is to fix it if our top order doesn't c...   \n",
       "17  Delighted Stokes is back in a place where he c...   \n",
       "18  Any team is more dangerous with Ben Stokes in ...   \n",
       "19  Excuse me for being political: Mbangwa on De K...   \n",
       "20  Man Utd's Bailly questions Solskjaer for picki...   \n",
       "21  WBBL experience will benefit India in 2022 Wom...   \n",
       "22  Ben Stokes is the ultimate team man: Nasser Hu...   \n",
       "23  West Indies batting is one-dimensional, have t...   \n",
       "24  Ben Stokes has unfinished business with Austra...   \n",
       "\n",
       "                                             contents category  \n",
       "0   Actor R Madhavan's 16-year-old son Vedaant Mad...   sports  \n",
       "1   South Africa defeated West Indies by eight wic...   sports  \n",
       "2   Former Team India captain Rahul Dravid officia...   sports  \n",
       "3   Cricket South Africa (CSA) confirmed that wick...   sports  \n",
       "4   BCCI took to Twitter to extend support to fast...   sports  \n",
       "5   Pakistan defeated New Zealand by five wickets ...   sports  \n",
       "6   After Pakistan wicketkeeper-batter Mohammad Ri...   sports  \n",
       "7   Cricket South Africa (CSA) released a statemen...   sports  \n",
       "8   Afghanistan captain Mohammad Nabi, during a pr...   sports  \n",
       "9   RPSG Venture head Sanjiv Goenka, who bought th...   sports  \n",
       "10  Talking about West Indies opener Lendl Simmons...   sports  \n",
       "11  Commenting on Virat Kohli's 49-ball 57 which h...   sports  \n",
       "12  Commenting on South Africa wicketkeeper-batter...   sports  \n",
       "13  Ex-India batter VVS Laxman said that Team Indi...   sports  \n",
       "14  West Indies captain Kieron Pollard said that h...   sports  \n",
       "15  Ex-India pacer Zaheer Khan said New Zealand's ...   sports  \n",
       "16  Australia batter Steve Smith said that his job...   sports  \n",
       "17  Following England all-rounder Ben Stokes' incl...   sports  \n",
       "18  Australia batsman Steve Smith said that he is ...   sports  \n",
       "19  Following South Africa wicketkeeper-batter Qui...   sports  \n",
       "20  Manchester United defender Eric Bailly reporte...   sports  \n",
       "21  India Women opener Smriti Mandhana, who's curr...   sports  \n",
       "22  Former England skipper Nasser Hussain called a...   sports  \n",
       "23  Ex-India wicketkeeper-batter Deep Dasgupta has...   sports  \n",
       "24  After England added Ben Stokes to their Ashes ...   sports  "
      ]
     },
     "execution_count": 244,
     "metadata": {},
     "output_type": "execute_result"
    }
   ],
   "source": [
    "get_articles(url)"
   ]
  },
  {
   "cell_type": "code",
   "execution_count": 262,
   "id": "b5303392",
   "metadata": {},
   "outputs": [],
   "source": [
    "categories = [\"business\",\n",
    "\"sports\",\n",
    "\"technology\",\n",
    "\"entertainment\"]"
   ]
  },
  {
   "cell_type": "code",
   "execution_count": 274,
   "id": "92671156",
   "metadata": {},
   "outputs": [],
   "source": [
    "def get_articles(categories):\n",
    "    '''\n",
    "    This function will take a list of categories on the news sites and return the top news stories \n",
    "    for each of those categories.\n",
    "    '''\n",
    "    #User credentials\n",
    "    headers = {'User-Agent': 'malachi-hale'}\n",
    "    #Base url\n",
    "    base = \"https://inshorts.com/en/read/\"\n",
    "    #Create a series of empty lists, to which we will append our values\n",
    "    titles = []\n",
    "    contents = []\n",
    "    types = []\n",
    "    #Loop through the categories\n",
    "    for category in categories: \n",
    "        url = base + category \n",
    "        response = requests.get(url, headers=headers)\n",
    "        html = response.text\n",
    "        soup = BeautifulSoup(html)\n",
    "        \n",
    "        #Get titles\n",
    "        title = soup.select(\".news-card-title.news-right-box\")    \n",
    "        for i in range(0, (len(title))):\n",
    "            titles.append(title[i].select(\"[itemprop = 'headline']\")[0].text.strip())\n",
    "        \n",
    "        #Get body\n",
    "        body = soup.select(\".news-card-content.news-right-box\")  \n",
    "        for i in range(0, (len(body))):\n",
    "            contents.append(body[i].select('[itemprop=\"articleBody\"]')[0].text.strip())\n",
    "        \n",
    "        #Get category\n",
    "        for i in range(0, len(body)):\n",
    "            types.append(category)\n",
    "    \n",
    "    #Create dataframe of all our lists\n",
    "    articles =  pd.DataFrame({\n",
    "        \"title\": titles, \n",
    "        \"contents\": contents, \n",
    "        \"category\": types\n",
    "        })  \n",
    "    \n",
    "    return articles"
   ]
  },
  {
   "cell_type": "code",
   "execution_count": 275,
   "id": "e50763dd",
   "metadata": {},
   "outputs": [
    {
     "data": {
      "text/html": [
       "<div>\n",
       "<style scoped>\n",
       "    .dataframe tbody tr th:only-of-type {\n",
       "        vertical-align: middle;\n",
       "    }\n",
       "\n",
       "    .dataframe tbody tr th {\n",
       "        vertical-align: top;\n",
       "    }\n",
       "\n",
       "    .dataframe thead th {\n",
       "        text-align: right;\n",
       "    }\n",
       "</style>\n",
       "<table border=\"1\" class=\"dataframe\">\n",
       "  <thead>\n",
       "    <tr style=\"text-align: right;\">\n",
       "      <th></th>\n",
       "      <th>title</th>\n",
       "      <th>contents</th>\n",
       "      <th>category</th>\n",
       "    </tr>\n",
       "  </thead>\n",
       "  <tbody>\n",
       "    <tr>\n",
       "      <th>0</th>\n",
       "      <td>India's Covaxin may get WHO approval in next 2...</td>\n",
       "      <td>A WHO technical advisory group which met on Tu...</td>\n",
       "      <td>business</td>\n",
       "    </tr>\n",
       "    <tr>\n",
       "      <th>1</th>\n",
       "      <td>Which companies have $1 trillion or more marke...</td>\n",
       "      <td>Tesla has become the latest company to surpass...</td>\n",
       "      <td>business</td>\n",
       "    </tr>\n",
       "    <tr>\n",
       "      <th>2</th>\n",
       "      <td>How many years did it take for various compani...</td>\n",
       "      <td>Tesla took 18 years to hit the $1-trillion m-c...</td>\n",
       "      <td>business</td>\n",
       "    </tr>\n",
       "    <tr>\n",
       "      <th>3</th>\n",
       "      <td>Elon Musk tweets 'Wild $T1mes' after Tesla hit...</td>\n",
       "      <td>Tesla CEO and the world's richest person Elon ...</td>\n",
       "      <td>business</td>\n",
       "    </tr>\n",
       "    <tr>\n",
       "      <th>4</th>\n",
       "      <td>I decided to support Doge as it felt like the ...</td>\n",
       "      <td>Tesla CEO and the world's richest person Elon ...</td>\n",
       "      <td>business</td>\n",
       "    </tr>\n",
       "    <tr>\n",
       "      <th>...</th>\n",
       "      <td>...</td>\n",
       "      <td>...</td>\n",
       "      <td>...</td>\n",
       "    </tr>\n",
       "    <tr>\n",
       "      <th>95</th>\n",
       "      <td>Made Bollywood debut with 3-second role in Big...</td>\n",
       "      <td>Actor Rajkummar Rao revealed that he made his ...</td>\n",
       "      <td>entertainment</td>\n",
       "    </tr>\n",
       "    <tr>\n",
       "      <th>96</th>\n",
       "      <td>Emilia Clarke, Chiwetel Ejiofor to star in 'Th...</td>\n",
       "      <td>'Game of Thrones' star Emilia Clarke and Oscar...</td>\n",
       "      <td>entertainment</td>\n",
       "    </tr>\n",
       "    <tr>\n",
       "      <th>97</th>\n",
       "      <td>Samantha cites Shilpa's case in YouTubers defa...</td>\n",
       "      <td>Actress Samantha Ruth Prabhu has cited the per...</td>\n",
       "      <td>entertainment</td>\n",
       "    </tr>\n",
       "    <tr>\n",
       "      <th>98</th>\n",
       "      <td>Bat reemerged at home, some family members pet...</td>\n",
       "      <td>Amitabh Bachchan in his blog has revealed that...</td>\n",
       "      <td>entertainment</td>\n",
       "    </tr>\n",
       "    <tr>\n",
       "      <th>99</th>\n",
       "      <td>Jr NTR's fan injured in accident, actor helps ...</td>\n",
       "      <td>A fan of Telugu actor Jr NTR was injured in a ...</td>\n",
       "      <td>entertainment</td>\n",
       "    </tr>\n",
       "  </tbody>\n",
       "</table>\n",
       "<p>100 rows × 3 columns</p>\n",
       "</div>"
      ],
      "text/plain": [
       "                                                title  \\\n",
       "0   India's Covaxin may get WHO approval in next 2...   \n",
       "1   Which companies have $1 trillion or more marke...   \n",
       "2   How many years did it take for various compani...   \n",
       "3   Elon Musk tweets 'Wild $T1mes' after Tesla hit...   \n",
       "4   I decided to support Doge as it felt like the ...   \n",
       "..                                                ...   \n",
       "95  Made Bollywood debut with 3-second role in Big...   \n",
       "96  Emilia Clarke, Chiwetel Ejiofor to star in 'Th...   \n",
       "97  Samantha cites Shilpa's case in YouTubers defa...   \n",
       "98  Bat reemerged at home, some family members pet...   \n",
       "99  Jr NTR's fan injured in accident, actor helps ...   \n",
       "\n",
       "                                             contents       category  \n",
       "0   A WHO technical advisory group which met on Tu...       business  \n",
       "1   Tesla has become the latest company to surpass...       business  \n",
       "2   Tesla took 18 years to hit the $1-trillion m-c...       business  \n",
       "3   Tesla CEO and the world's richest person Elon ...       business  \n",
       "4   Tesla CEO and the world's richest person Elon ...       business  \n",
       "..                                                ...            ...  \n",
       "95  Actor Rajkummar Rao revealed that he made his ...  entertainment  \n",
       "96  'Game of Thrones' star Emilia Clarke and Oscar...  entertainment  \n",
       "97  Actress Samantha Ruth Prabhu has cited the per...  entertainment  \n",
       "98  Amitabh Bachchan in his blog has revealed that...  entertainment  \n",
       "99  A fan of Telugu actor Jr NTR was injured in a ...  entertainment  \n",
       "\n",
       "[100 rows x 3 columns]"
      ]
     },
     "execution_count": 275,
     "metadata": {},
     "output_type": "execute_result"
    }
   ],
   "source": [
    "get_articles(categories)"
   ]
  }
 ],
 "metadata": {
  "kernelspec": {
   "display_name": "Python 3",
   "language": "python",
   "name": "python3"
  },
  "language_info": {
   "codemirror_mode": {
    "name": "ipython",
    "version": 3
   },
   "file_extension": ".py",
   "mimetype": "text/x-python",
   "name": "python",
   "nbconvert_exporter": "python",
   "pygments_lexer": "ipython3",
   "version": "3.8.8"
  }
 },
 "nbformat": 4,
 "nbformat_minor": 5
}
