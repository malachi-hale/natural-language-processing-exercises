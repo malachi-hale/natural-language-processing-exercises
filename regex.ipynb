{
 "cells": [
  {
   "cell_type": "markdown",
   "id": "c88c40ef",
   "metadata": {},
   "source": [
    "# Regex"
   ]
  },
  {
   "cell_type": "code",
   "execution_count": 100,
   "id": "f9e3e7fe",
   "metadata": {},
   "outputs": [],
   "source": [
    "import pandas as pd\n",
    "import re"
   ]
  },
  {
   "cell_type": "markdown",
   "id": "5f5c6584",
   "metadata": {},
   "source": [
    "## Exercise 1\n",
    "\n",
    "Write a function named `is_vowel`. It should accept a string as input and use a regular expression to determine if the passed string is a vowel. While not explicity mentioned in the lesson, you can treat the result of `re.search` as a boolean value that indicates whether or not the regular expression matches the given string."
   ]
  },
  {
   "cell_type": "code",
   "execution_count": 101,
   "id": "5ce8840f",
   "metadata": {},
   "outputs": [],
   "source": [
    "def is_vowel(subject):\n",
    "    '''\n",
    "    This function takes the first letter of a string and returns True if that string is a vowel.\n",
    "    '''\n",
    "    regexp = r'[AEUOaeiou]'\n",
    "    \n",
    "    if re.match(regexp, subject):\n",
    "        return True\n",
    "    else:\n",
    "        return False"
   ]
  },
  {
   "cell_type": "code",
   "execution_count": 83,
   "id": "b23763d8",
   "metadata": {},
   "outputs": [
    {
     "data": {
      "text/plain": [
       "True"
      ]
     },
     "execution_count": 83,
     "metadata": {},
     "output_type": "execute_result"
    }
   ],
   "source": [
    "is_vowel('a')"
   ]
  },
  {
   "cell_type": "code",
   "execution_count": 84,
   "id": "4b867cc2",
   "metadata": {},
   "outputs": [
    {
     "data": {
      "text/plain": [
       "False"
      ]
     },
     "execution_count": 84,
     "metadata": {},
     "output_type": "execute_result"
    }
   ],
   "source": [
    "is_vowel('b')"
   ]
  },
  {
   "cell_type": "markdown",
   "id": "c19f9d22",
   "metadata": {},
   "source": [
    "## Exercise 2 \n",
    "\n",
    "Write a function named `is_valid_username` that accepts a string as input. A valid username starts with a lowercase letter, and only consists of lowercase letters, numbers, or the _ character. It should also be no longer than 32 characters. The function should return either `True` or `False` depending on whether the passed string is a valid username."
   ]
  },
  {
   "cell_type": "code",
   "execution_count": 139,
   "id": "089c1d82",
   "metadata": {},
   "outputs": [],
   "source": [
    "def is_valid_username(username):\n",
    "    '''\n",
    "    This function verifies whether or not a username is in the valid format.\n",
    "    '''\n",
    "    #Note that \\w indicates any alphanumeric character, including the underscore _\n",
    "    rexexp = '^[a-z]\\w{1,31}$'\n",
    "    \n",
    "    if re.match(regexp, username):\n",
    "        return True\n",
    "    else:\n",
    "        return False"
   ]
  },
  {
   "cell_type": "code",
   "execution_count": 140,
   "id": "31761df9",
   "metadata": {},
   "outputs": [
    {
     "data": {
      "text/plain": [
       "False"
      ]
     },
     "execution_count": 140,
     "metadata": {},
     "output_type": "execute_result"
    }
   ],
   "source": [
    "#Begins with an underscore\n",
    "is_valid_username(\"_username\")"
   ]
  },
  {
   "cell_type": "code",
   "execution_count": 141,
   "id": "ab27e3f8",
   "metadata": {},
   "outputs": [
    {
     "data": {
      "text/plain": [
       "False"
      ]
     },
     "execution_count": 141,
     "metadata": {},
     "output_type": "execute_result"
    }
   ],
   "source": [
    "#Capital letter\n",
    "is_valid_username(\"MY_username\")"
   ]
  },
  {
   "cell_type": "code",
   "execution_count": 142,
   "id": "61dfaa08",
   "metadata": {},
   "outputs": [
    {
     "data": {
      "text/plain": [
       "False"
      ]
     },
     "execution_count": 142,
     "metadata": {},
     "output_type": "execute_result"
    }
   ],
   "source": [
    "#Begins with number\n",
    "is_valid_username(\"10dollars\")"
   ]
  },
  {
   "cell_type": "code",
   "execution_count": 143,
   "id": "a21d277c",
   "metadata": {},
   "outputs": [
    {
     "data": {
      "text/plain": [
       "False"
      ]
     },
     "execution_count": 143,
     "metadata": {},
     "output_type": "execute_result"
    }
   ],
   "source": [
    "#Invalid character\n",
    "is_valid_username(\"dollars@\")"
   ]
  },
  {
   "cell_type": "code",
   "execution_count": 144,
   "id": "31a04d94",
   "metadata": {},
   "outputs": [
    {
     "data": {
      "text/plain": [
       "False"
      ]
     },
     "execution_count": 144,
     "metadata": {},
     "output_type": "execute_result"
    }
   ],
   "source": [
    "#Too long\n",
    "is_valid_username(\"ThisismyusernameitstoolongbutIlikelongthings\")"
   ]
  },
  {
   "cell_type": "code",
   "execution_count": 145,
   "id": "b083f538",
   "metadata": {},
   "outputs": [
    {
     "data": {
      "text/plain": [
       "True"
      ]
     },
     "execution_count": 145,
     "metadata": {},
     "output_type": "execute_result"
    }
   ],
   "source": [
    "#Valid \n",
    "is_valid_username(\"user_99_\")"
   ]
  },
  {
   "cell_type": "markdown",
   "id": "ad5b7f53",
   "metadata": {},
   "source": [
    "## Exercise 3\n",
    "\n",
    "Write a regular expression to capture phone numbers. It should match all of the following:\n",
    "\n",
    "\n",
    "- (210) 867 5309\n",
    "- +1 210.867.5309\n",
    "- 867-5309\n",
    "- 210-867-5309"
   ]
  },
  {
   "cell_type": "code",
   "execution_count": 185,
   "id": "56bd2439",
   "metadata": {},
   "outputs": [],
   "source": [
    "regexp = r'''\n",
    "(?P<country>\\+\\d+)?\n",
    "\\D*?\n",
    "(?P<area_code>\\d{3})?\n",
    "\\D*?\n",
    "(?P<exchange_code>\\d{3})\n",
    "\\D*?\n",
    "(?P<subscriber_number>\\d{4})\n",
    "'''"
   ]
  },
  {
   "cell_type": "code",
   "execution_count": 186,
   "id": "faca8c77",
   "metadata": {},
   "outputs": [
    {
     "data": {
      "text/plain": [
       "{'country': None,\n",
       " 'area_code': '210',\n",
       " 'exchange_code': '867',\n",
       " 'subscriber_number': '5309'}"
      ]
     },
     "execution_count": 186,
     "metadata": {},
     "output_type": "execute_result"
    }
   ],
   "source": [
    "match = re.search(regexp, \"(210) 867 5309\", re.VERBOSE)\n",
    "match.groupdict()"
   ]
  },
  {
   "cell_type": "code",
   "execution_count": 187,
   "id": "7a455c38",
   "metadata": {},
   "outputs": [
    {
     "data": {
      "text/plain": [
       "{'country': '+1',\n",
       " 'area_code': '210',\n",
       " 'exchange_code': '867',\n",
       " 'subscriber_number': '5309'}"
      ]
     },
     "execution_count": 187,
     "metadata": {},
     "output_type": "execute_result"
    }
   ],
   "source": [
    "match = re.search(regexp, \"+1 210.867.5309\", re.VERBOSE)\n",
    "match.groupdict()"
   ]
  },
  {
   "cell_type": "code",
   "execution_count": 188,
   "id": "cd4ff2cd",
   "metadata": {},
   "outputs": [
    {
     "data": {
      "text/plain": [
       "{'country': None,\n",
       " 'area_code': None,\n",
       " 'exchange_code': '867',\n",
       " 'subscriber_number': '5309'}"
      ]
     },
     "execution_count": 188,
     "metadata": {},
     "output_type": "execute_result"
    }
   ],
   "source": [
    "match = re.search(regexp, \"867-5309\", re.VERBOSE)\n",
    "match.groupdict()"
   ]
  },
  {
   "cell_type": "code",
   "execution_count": 189,
   "id": "9087e3eb",
   "metadata": {},
   "outputs": [
    {
     "data": {
      "text/plain": [
       "{'country': None,\n",
       " 'area_code': '210',\n",
       " 'exchange_code': '867',\n",
       " 'subscriber_number': '5309'}"
      ]
     },
     "execution_count": 189,
     "metadata": {},
     "output_type": "execute_result"
    }
   ],
   "source": [
    "match = re.search(regexp, \"210-867-5309\", re.VERBOSE)\n",
    "match.groupdict()"
   ]
  },
  {
   "cell_type": "code",
   "execution_count": 269,
   "id": "9b77dd57",
   "metadata": {},
   "outputs": [],
   "source": [
    "regexp = r'(\\+\\d+)?\\D*?(\\d{3})?\\D*?(\\d{3})\\D*?(\\d{4})'"
   ]
  },
  {
   "cell_type": "code",
   "execution_count": 270,
   "id": "213548db",
   "metadata": {},
   "outputs": [],
   "source": [
    "sentence = '''\n",
    "Here are some phone number formats: (210) 867 5309, +1 210.867.5309, 867-5309, and, of course, 210-867-5309. \n",
    "'''.strip()"
   ]
  },
  {
   "cell_type": "code",
   "execution_count": 271,
   "id": "5b0a42d7",
   "metadata": {},
   "outputs": [
    {
     "data": {
      "text/plain": [
       "[('', '210', '867', '5309'),\n",
       " ('+1', '210', '867', '5309'),\n",
       " ('', '', '867', '5309'),\n",
       " ('', '210', '867', '5309')]"
      ]
     },
     "execution_count": 271,
     "metadata": {},
     "output_type": "execute_result"
    }
   ],
   "source": [
    "match = re.findall(regexp, sentence)\n",
    "match"
   ]
  },
  {
   "cell_type": "markdown",
   "id": "23e4be2d",
   "metadata": {},
   "source": [
    "## Exercise 4 \n",
    "\n",
    "Use regular expressions to convert the dates below to the standardized year-month-day format.\n",
    "\n",
    "- 02/04/19\n",
    "- 02/05/19\n",
    "- 02/06/19\n",
    "- 02/07/19\n",
    "- 02/08/19\n",
    "- 02/09/19\n",
    "- 02/10/19"
   ]
  },
  {
   "cell_type": "code",
   "execution_count": 190,
   "id": "4e41034b",
   "metadata": {},
   "outputs": [],
   "source": [
    "regexp = r'''\n",
    "(\\d{1,2})/(\\d{1,2})/(\\d{2})\n",
    "'''"
   ]
  },
  {
   "cell_type": "code",
   "execution_count": 200,
   "id": "124e7e65",
   "metadata": {},
   "outputs": [],
   "source": [
    "def convert_to_year_month_day(date): \n",
    "    return re.sub(r'(\\d{1,2})/(\\d{1,2})/(\\d{2})', '20\\\\3-\\\\1-\\\\2', date)"
   ]
  },
  {
   "cell_type": "code",
   "execution_count": 201,
   "id": "df5cfd8f",
   "metadata": {},
   "outputs": [
    {
     "data": {
      "text/plain": [
       "'2019-02-04'"
      ]
     },
     "execution_count": 201,
     "metadata": {},
     "output_type": "execute_result"
    }
   ],
   "source": [
    "convert_to_year_month_day(\"02/04/19\")"
   ]
  },
  {
   "cell_type": "code",
   "execution_count": 202,
   "id": "a9f74aab",
   "metadata": {},
   "outputs": [
    {
     "data": {
      "text/plain": [
       "'2019-02-05'"
      ]
     },
     "execution_count": 202,
     "metadata": {},
     "output_type": "execute_result"
    }
   ],
   "source": [
    "convert_to_year_month_day(\"02/05/19\")"
   ]
  },
  {
   "cell_type": "markdown",
   "id": "2072c079",
   "metadata": {},
   "source": [
    "## Exercise 5\n",
    "\n",
    "Write a regex to extract the various parts of these logfile lines:"
   ]
  },
  {
   "cell_type": "code",
   "execution_count": 131,
   "id": "5f9a9e22",
   "metadata": {},
   "outputs": [],
   "source": [
    "lines = '''\n",
    "GET /api/v1/sales?page=86 [16/Apr/2019:193452+0000] HTTP/1.1 {200} 510348 \"python-requests/2.21.0\" 97.105.19.58\n",
    "POST /users_accounts/file-upload [16/Apr/2019:193452+0000] HTTP/1.1 {201} 42 \"User-Agent: Mozilla/5.0 (X11; Fedora; Fedora; Linux x86_64) AppleWebKit/537.36 (KHTML, like Gecko) Chrome/73.0.3683.86 Safari/537.36\" 97.105.19.58\n",
    "GET /api/v1/items?page=3 [16/Apr/2019:193453+0000] HTTP/1.1 {429} 3561 \"python-requests/2.21.0\" 97.105.19.58\n",
    "'''"
   ]
  },
  {
   "cell_type": "code",
   "execution_count": 6,
   "id": "97ef5a80",
   "metadata": {},
   "outputs": [],
   "source": [
    "logfile1 = '''\n",
    "GET /api/v1/sales?page=86 [16/Apr/2019:193452+0000] HTTP/1.1 {200} 510348 \"python-requests/2.21.0\" 97.105.19.58\n",
    "'''"
   ]
  },
  {
   "cell_type": "code",
   "execution_count": 7,
   "id": "04751896",
   "metadata": {},
   "outputs": [],
   "source": [
    "logfile2 = '''\n",
    "POST /users_accounts/file-upload [16/Apr/2019:193452+0000] HTTP/1.1 {201} 42 \"User-Agent: Mozilla/5.0 (X11; Fedora; Fedora; Linux x86_64) AppleWebKit/537.36 (KHTML, like Gecko) Chrome/73.0.3683.86 Safari/537.36\" 97.105.19.58\n",
    "'''"
   ]
  },
  {
   "cell_type": "code",
   "execution_count": 8,
   "id": "cfce79e6",
   "metadata": {},
   "outputs": [],
   "source": [
    "logfile3 = '''\n",
    "GET /api/v1/items?page=3 [16/Apr/2019:193453+0000] HTTP/1.1 {429} 3561 \"python-requests/2.21.0\" 97.105.19.58\n",
    "'''"
   ]
  },
  {
   "cell_type": "code",
   "execution_count": 127,
   "id": "6c716bf9",
   "metadata": {},
   "outputs": [],
   "source": [
    "regexp = r'''\n",
    "(?P<action>[A-Z]+)\n",
    "\\s\n",
    "(?P<path>.*)?\n",
    "\\s\n",
    "(?P<timestamp>.*)?\n",
    "\\s\n",
    "(?P<hypertext_version>.*)?\n",
    "\\s\n",
    "(?P<status_code>.*)?\n",
    "\\s\n",
    "(?P<bytes>.*)?\n",
    "\\s\n",
    "\"(?P<request>.*)\"\n",
    "\\s\n",
    "(?P<ip_address>.*)\n",
    "'''"
   ]
  },
  {
   "cell_type": "code",
   "execution_count": 128,
   "id": "f416fda6",
   "metadata": {},
   "outputs": [
    {
     "data": {
      "text/plain": [
       "{'action': 'GET',\n",
       " 'path': '/api/v1/sales?page=86',\n",
       " 'timestamp': '[16/Apr/2019:193452+0000]',\n",
       " 'hypertext_version': 'HTTP/1.1',\n",
       " 'status_code': '{200}',\n",
       " 'bytes': '510348',\n",
       " 'request': 'python-requests/2.21.0',\n",
       " 'ip_address': '97.105.19.58'}"
      ]
     },
     "execution_count": 128,
     "metadata": {},
     "output_type": "execute_result"
    }
   ],
   "source": [
    "match1 = re.search(regexp, logfile1, re.VERBOSE)\n",
    "match1.groupdict()"
   ]
  },
  {
   "cell_type": "code",
   "execution_count": 129,
   "id": "b6e597c0",
   "metadata": {},
   "outputs": [
    {
     "data": {
      "text/plain": [
       "{'action': 'POST',\n",
       " 'path': '/users_accounts/file-upload',\n",
       " 'timestamp': '[16/Apr/2019:193452+0000]',\n",
       " 'hypertext_version': 'HTTP/1.1',\n",
       " 'status_code': '{201}',\n",
       " 'bytes': '42',\n",
       " 'request': 'User-Agent: Mozilla/5.0 (X11; Fedora; Fedora; Linux x86_64) AppleWebKit/537.36 (KHTML, like Gecko) Chrome/73.0.3683.86 Safari/537.36',\n",
       " 'ip_address': '97.105.19.58'}"
      ]
     },
     "execution_count": 129,
     "metadata": {},
     "output_type": "execute_result"
    }
   ],
   "source": [
    "match2 = re.search(regexp, logfile2, re.VERBOSE)\n",
    "match2.groupdict()"
   ]
  },
  {
   "cell_type": "code",
   "execution_count": 130,
   "id": "2224e286",
   "metadata": {},
   "outputs": [
    {
     "data": {
      "text/plain": [
       "{'action': 'GET',\n",
       " 'path': '/api/v1/items?page=3',\n",
       " 'timestamp': '[16/Apr/2019:193453+0000]',\n",
       " 'hypertext_version': 'HTTP/1.1',\n",
       " 'status_code': '{429}',\n",
       " 'bytes': '3561',\n",
       " 'request': 'python-requests/2.21.0',\n",
       " 'ip_address': '97.105.19.58'}"
      ]
     },
     "execution_count": 130,
     "metadata": {},
     "output_type": "execute_result"
    }
   ],
   "source": [
    "match3 = re.search(regexp, logfile3, re.VERBOSE)\n",
    "match3.groupdict()"
   ]
  },
  {
   "cell_type": "code",
   "execution_count": 139,
   "id": "755b0ea6",
   "metadata": {},
   "outputs": [
    {
     "data": {
      "text/html": [
       "<div>\n",
       "<style scoped>\n",
       "    .dataframe tbody tr th:only-of-type {\n",
       "        vertical-align: middle;\n",
       "    }\n",
       "\n",
       "    .dataframe tbody tr th {\n",
       "        vertical-align: top;\n",
       "    }\n",
       "\n",
       "    .dataframe thead th {\n",
       "        text-align: right;\n",
       "    }\n",
       "</style>\n",
       "<table border=\"1\" class=\"dataframe\">\n",
       "  <thead>\n",
       "    <tr style=\"text-align: right;\">\n",
       "      <th></th>\n",
       "      <th>action</th>\n",
       "      <th>path</th>\n",
       "      <th>timestamp</th>\n",
       "      <th>hypertext_version</th>\n",
       "      <th>status_code</th>\n",
       "      <th>bytes</th>\n",
       "      <th>request</th>\n",
       "      <th>ip_address</th>\n",
       "    </tr>\n",
       "  </thead>\n",
       "  <tbody>\n",
       "    <tr>\n",
       "      <th>0</th>\n",
       "      <td>GET</td>\n",
       "      <td>/api/v1/sales?page=86</td>\n",
       "      <td>[16/Apr/2019:193452+0000]</td>\n",
       "      <td>HTTP/1.1</td>\n",
       "      <td>{200}</td>\n",
       "      <td>510348</td>\n",
       "      <td>python-requests/2.21.0</td>\n",
       "      <td>97.105.19.58</td>\n",
       "    </tr>\n",
       "    <tr>\n",
       "      <th>1</th>\n",
       "      <td>POST</td>\n",
       "      <td>/users_accounts/file-upload</td>\n",
       "      <td>[16/Apr/2019:193452+0000]</td>\n",
       "      <td>HTTP/1.1</td>\n",
       "      <td>{201}</td>\n",
       "      <td>42</td>\n",
       "      <td>User-Agent: Mozilla/5.0 (X11; Fedora; Fedora; ...</td>\n",
       "      <td>97.105.19.58</td>\n",
       "    </tr>\n",
       "    <tr>\n",
       "      <th>2</th>\n",
       "      <td>GET</td>\n",
       "      <td>/api/v1/items?page=3</td>\n",
       "      <td>[16/Apr/2019:193453+0000]</td>\n",
       "      <td>HTTP/1.1</td>\n",
       "      <td>{429}</td>\n",
       "      <td>3561</td>\n",
       "      <td>python-requests/2.21.0</td>\n",
       "      <td>97.105.19.58</td>\n",
       "    </tr>\n",
       "  </tbody>\n",
       "</table>\n",
       "</div>"
      ],
      "text/plain": [
       "  action                         path                  timestamp  \\\n",
       "0    GET        /api/v1/sales?page=86  [16/Apr/2019:193452+0000]   \n",
       "1   POST  /users_accounts/file-upload  [16/Apr/2019:193452+0000]   \n",
       "2    GET         /api/v1/items?page=3  [16/Apr/2019:193453+0000]   \n",
       "\n",
       "  hypertext_version status_code   bytes  \\\n",
       "0          HTTP/1.1       {200}  510348   \n",
       "1          HTTP/1.1       {201}      42   \n",
       "2          HTTP/1.1       {429}    3561   \n",
       "\n",
       "                                             request    ip_address  \n",
       "0                             python-requests/2.21.0  97.105.19.58  \n",
       "1  User-Agent: Mozilla/5.0 (X11; Fedora; Fedora; ...  97.105.19.58  \n",
       "2                             python-requests/2.21.0  97.105.19.58  "
      ]
     },
     "execution_count": 139,
     "metadata": {},
     "output_type": "execute_result"
    }
   ],
   "source": [
    "logfile_df = pd.DataFrame([re.search(regexp, line, re.VERBOSE).groupdict() for line in lines.strip().split('\\n')])\n",
    "logfile_df"
   ]
  },
  {
   "cell_type": "code",
   "execution_count": 140,
   "id": "0191a44f",
   "metadata": {},
   "outputs": [
    {
     "data": {
      "text/html": [
       "<div>\n",
       "<style scoped>\n",
       "    .dataframe tbody tr th:only-of-type {\n",
       "        vertical-align: middle;\n",
       "    }\n",
       "\n",
       "    .dataframe tbody tr th {\n",
       "        vertical-align: top;\n",
       "    }\n",
       "\n",
       "    .dataframe thead th {\n",
       "        text-align: right;\n",
       "    }\n",
       "</style>\n",
       "<table border=\"1\" class=\"dataframe\">\n",
       "  <thead>\n",
       "    <tr style=\"text-align: right;\">\n",
       "      <th></th>\n",
       "      <th>0</th>\n",
       "      <th>1</th>\n",
       "      <th>2</th>\n",
       "    </tr>\n",
       "  </thead>\n",
       "  <tbody>\n",
       "    <tr>\n",
       "      <th>action</th>\n",
       "      <td>GET</td>\n",
       "      <td>POST</td>\n",
       "      <td>GET</td>\n",
       "    </tr>\n",
       "    <tr>\n",
       "      <th>path</th>\n",
       "      <td>/api/v1/sales?page=86</td>\n",
       "      <td>/users_accounts/file-upload</td>\n",
       "      <td>/api/v1/items?page=3</td>\n",
       "    </tr>\n",
       "    <tr>\n",
       "      <th>timestamp</th>\n",
       "      <td>[16/Apr/2019:193452+0000]</td>\n",
       "      <td>[16/Apr/2019:193452+0000]</td>\n",
       "      <td>[16/Apr/2019:193453+0000]</td>\n",
       "    </tr>\n",
       "    <tr>\n",
       "      <th>hypertext_version</th>\n",
       "      <td>HTTP/1.1</td>\n",
       "      <td>HTTP/1.1</td>\n",
       "      <td>HTTP/1.1</td>\n",
       "    </tr>\n",
       "    <tr>\n",
       "      <th>status_code</th>\n",
       "      <td>{200}</td>\n",
       "      <td>{201}</td>\n",
       "      <td>{429}</td>\n",
       "    </tr>\n",
       "    <tr>\n",
       "      <th>bytes</th>\n",
       "      <td>510348</td>\n",
       "      <td>42</td>\n",
       "      <td>3561</td>\n",
       "    </tr>\n",
       "    <tr>\n",
       "      <th>request</th>\n",
       "      <td>python-requests/2.21.0</td>\n",
       "      <td>User-Agent: Mozilla/5.0 (X11; Fedora; Fedora; ...</td>\n",
       "      <td>python-requests/2.21.0</td>\n",
       "    </tr>\n",
       "    <tr>\n",
       "      <th>ip_address</th>\n",
       "      <td>97.105.19.58</td>\n",
       "      <td>97.105.19.58</td>\n",
       "      <td>97.105.19.58</td>\n",
       "    </tr>\n",
       "  </tbody>\n",
       "</table>\n",
       "</div>"
      ],
      "text/plain": [
       "                                           0  \\\n",
       "action                                   GET   \n",
       "path                   /api/v1/sales?page=86   \n",
       "timestamp          [16/Apr/2019:193452+0000]   \n",
       "hypertext_version                   HTTP/1.1   \n",
       "status_code                            {200}   \n",
       "bytes                                 510348   \n",
       "request               python-requests/2.21.0   \n",
       "ip_address                      97.105.19.58   \n",
       "\n",
       "                                                                   1  \\\n",
       "action                                                          POST   \n",
       "path                                     /users_accounts/file-upload   \n",
       "timestamp                                  [16/Apr/2019:193452+0000]   \n",
       "hypertext_version                                           HTTP/1.1   \n",
       "status_code                                                    {201}   \n",
       "bytes                                                             42   \n",
       "request            User-Agent: Mozilla/5.0 (X11; Fedora; Fedora; ...   \n",
       "ip_address                                              97.105.19.58   \n",
       "\n",
       "                                           2  \n",
       "action                                   GET  \n",
       "path                    /api/v1/items?page=3  \n",
       "timestamp          [16/Apr/2019:193453+0000]  \n",
       "hypertext_version                   HTTP/1.1  \n",
       "status_code                            {429}  \n",
       "bytes                                   3561  \n",
       "request               python-requests/2.21.0  \n",
       "ip_address                      97.105.19.58  "
      ]
     },
     "execution_count": 140,
     "metadata": {},
     "output_type": "execute_result"
    }
   ],
   "source": [
    "logfile_df.T"
   ]
  },
  {
   "cell_type": "markdown",
   "id": "189fe29f",
   "metadata": {},
   "source": [
    "## Bonus \n",
    "\n",
    "You can find a list of words on your mac at /usr/share/dict/words. Use this file to answer the following questions:\n",
    "\n",
    "\n",
    "- How many words have at least 3 vowels?\n",
    "- How many words have at least 3 vowels in a row?\n",
    "- How many words have at least 4 consonants in a row?\n",
    "- How many words start and end with the same letter?\n",
    "- How many words start and end with a vowel?\n",
    "- How many words contain the same letter 3 times in a row?\n",
    "- What other interesting patterns in words can you find?"
   ]
  },
  {
   "cell_type": "code",
   "execution_count": 54,
   "id": "9055bad6",
   "metadata": {},
   "outputs": [],
   "source": [
    "words = pd.read_csv(\"/usr/share/dict/words\")"
   ]
  },
  {
   "cell_type": "code",
   "execution_count": 60,
   "id": "a73673b3",
   "metadata": {},
   "outputs": [
    {
     "data": {
      "text/html": [
       "<div>\n",
       "<style scoped>\n",
       "    .dataframe tbody tr th:only-of-type {\n",
       "        vertical-align: middle;\n",
       "    }\n",
       "\n",
       "    .dataframe tbody tr th {\n",
       "        vertical-align: top;\n",
       "    }\n",
       "\n",
       "    .dataframe thead th {\n",
       "        text-align: right;\n",
       "    }\n",
       "</style>\n",
       "<table border=\"1\" class=\"dataframe\">\n",
       "  <thead>\n",
       "    <tr style=\"text-align: right;\">\n",
       "      <th></th>\n",
       "      <th>A</th>\n",
       "    </tr>\n",
       "  </thead>\n",
       "  <tbody>\n",
       "    <tr>\n",
       "      <th>0</th>\n",
       "      <td>a</td>\n",
       "    </tr>\n",
       "    <tr>\n",
       "      <th>1</th>\n",
       "      <td>aa</td>\n",
       "    </tr>\n",
       "    <tr>\n",
       "      <th>2</th>\n",
       "      <td>aal</td>\n",
       "    </tr>\n",
       "    <tr>\n",
       "      <th>3</th>\n",
       "      <td>aalii</td>\n",
       "    </tr>\n",
       "    <tr>\n",
       "      <th>4</th>\n",
       "      <td>aam</td>\n",
       "    </tr>\n",
       "  </tbody>\n",
       "</table>\n",
       "</div>"
      ],
      "text/plain": [
       "       A\n",
       "0      a\n",
       "1     aa\n",
       "2    aal\n",
       "3  aalii\n",
       "4    aam"
      ]
     },
     "execution_count": 60,
     "metadata": {},
     "output_type": "execute_result"
    }
   ],
   "source": [
    "words.head()"
   ]
  },
  {
   "cell_type": "code",
   "execution_count": 62,
   "id": "06d7d972",
   "metadata": {},
   "outputs": [],
   "source": [
    "word_list = words.A.to_list()"
   ]
  },
  {
   "cell_type": "code",
   "execution_count": 66,
   "id": "f0cd649a",
   "metadata": {},
   "outputs": [
    {
     "data": {
      "text/plain": [
       "['a',\n",
       " 'aa',\n",
       " 'aal',\n",
       " 'aalii',\n",
       " 'aam',\n",
       " 'Aani',\n",
       " 'aardvark',\n",
       " 'aardwolf',\n",
       " 'Aaron',\n",
       " 'Aaronic',\n",
       " 'Aaronical',\n",
       " 'Aaronite',\n",
       " 'Aaronitic',\n",
       " 'Aaru',\n",
       " 'Ab',\n",
       " 'aba',\n",
       " 'Ababdeh',\n",
       " 'Ababua',\n",
       " 'abac',\n",
       " 'abaca']"
      ]
     },
     "execution_count": 66,
     "metadata": {},
     "output_type": "execute_result"
    }
   ],
   "source": [
    "word_list[0:20]"
   ]
  },
  {
   "cell_type": "code",
   "execution_count": 108,
   "id": "552fad59",
   "metadata": {},
   "outputs": [],
   "source": [
    "three_vowels = [ ]\n",
    "for word in word_list:\n",
    "    rx = r\"\\b(?:\\w*[aeiyouAEIYOU]){3,}\\w*\"\n",
    "    if re.findall(rx, str(word)):\n",
    "        three_vowels.append(word)"
   ]
  },
  {
   "cell_type": "code",
   "execution_count": 109,
   "id": "75b151f6",
   "metadata": {},
   "outputs": [
    {
     "name": "stdout",
     "output_type": "stream",
     "text": [
      "There are 200494 words with three vowels in our dictionary\n"
     ]
    }
   ],
   "source": [
    "print(\"There are\", len(three_vowels), \"words with three vowels in our dictionary\")"
   ]
  },
  {
   "cell_type": "code",
   "execution_count": 110,
   "id": "279994e1",
   "metadata": {},
   "outputs": [],
   "source": [
    "three_vowels_in_a_row = [ ]\n",
    "for word in word_list:\n",
    "    rx = r\"\\b(?=[a-z]*[AEIOUaeiou]{3,})[a-z]+\\b\"\n",
    "    if re.findall(rx, str(word)):\n",
    "        three_vowels_in_a_row.append(word)"
   ]
  },
  {
   "cell_type": "code",
   "execution_count": 113,
   "id": "bc9b8fd8",
   "metadata": {},
   "outputs": [
    {
     "name": "stdout",
     "output_type": "stream",
     "text": [
      "There are 4761 words with three or more consecutive vowels in our dictionary\n"
     ]
    }
   ],
   "source": [
    "print(\"There are\", len(three_vowels_in_a_row), \"words with three or more consecutive vowels in our dictionary\")"
   ]
  },
  {
   "cell_type": "code",
   "execution_count": 114,
   "id": "0a147a5f",
   "metadata": {},
   "outputs": [],
   "source": [
    "four_consonants_in_a_row = [ ]\n",
    "for word in word_list:\n",
    "    rx = r\"\\b(?=[a-z]*[^AEIOUaeiou]{4,})[a-z]+\\b\"\n",
    "    if re.findall(rx, str(word)):\n",
    "        four_consonants_in_a_row.append(word)"
   ]
  },
  {
   "cell_type": "code",
   "execution_count": 117,
   "id": "bafd64bd",
   "metadata": {},
   "outputs": [
    {
     "name": "stdout",
     "output_type": "stream",
     "text": [
      "There are 17512 words with four or more consecutive consonants in our dictionary\n"
     ]
    }
   ],
   "source": [
    "print(\"There are\", len(four_consonants_in_a_row), \"words with four or more consecutive consonants in our dictionary\")"
   ]
  },
  {
   "cell_type": "code",
   "execution_count": 120,
   "id": "cef8a11f",
   "metadata": {},
   "outputs": [],
   "source": [
    "same_letter_start_end = [ ]\n",
    "for word in word_list:\n",
    "    rx = r'^[a-z]$|^([a-z]).*\\1$'\n",
    "    if re.findall(rx, str(word)):\n",
    "        same_letter_start_end.append(word)"
   ]
  },
  {
   "cell_type": "code",
   "execution_count": 122,
   "id": "176ed788",
   "metadata": {},
   "outputs": [
    {
     "name": "stdout",
     "output_type": "stream",
     "text": [
      "There are 9944 words that start and end with the same letter in our dictionary.\n"
     ]
    }
   ],
   "source": [
    "print(\"There are\", len(same_letter_start_end ), \"words that start and end with the same letter in our dictionary.\")"
   ]
  },
  {
   "cell_type": "code",
   "execution_count": 124,
   "id": "a68b66ee",
   "metadata": {},
   "outputs": [],
   "source": [
    "vowel_start_end = [ ]\n",
    "for word in word_list:\n",
    "    rx = r'^[AEIOUaeiou]\\w*[AEIOUaeiou]$'\n",
    "    if re.findall(rx, str(word)):\n",
    "        vowel_start_end.append(word)"
   ]
  },
  {
   "cell_type": "code",
   "execution_count": 126,
   "id": "81029569",
   "metadata": {},
   "outputs": [
    {
     "name": "stdout",
     "output_type": "stream",
     "text": [
      "There are 14657 words that start and end with a vowel in our dictionary.\n"
     ]
    }
   ],
   "source": [
    "print(\"There are\", len(vowel_start_end), \"words that start and end with a vowel in our dictionary.\")"
   ]
  }
 ],
 "metadata": {
  "kernelspec": {
   "display_name": "Python 3",
   "language": "python",
   "name": "python3"
  },
  "language_info": {
   "codemirror_mode": {
    "name": "ipython",
    "version": 3
   },
   "file_extension": ".py",
   "mimetype": "text/x-python",
   "name": "python",
   "nbconvert_exporter": "python",
   "pygments_lexer": "ipython3",
   "version": "3.8.8"
  }
 },
 "nbformat": 4,
 "nbformat_minor": 5
}
