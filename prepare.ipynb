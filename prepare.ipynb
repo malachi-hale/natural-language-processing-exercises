{
 "cells": [
  {
   "cell_type": "markdown",
   "id": "29197bab",
   "metadata": {},
   "source": [
    "# Parsing Text"
   ]
  },
  {
   "cell_type": "markdown",
   "id": "c318f0d0",
   "metadata": {},
   "source": [
    "## Import Libraries"
   ]
  },
  {
   "cell_type": "code",
   "execution_count": 23,
   "id": "27456d25",
   "metadata": {},
   "outputs": [
    {
     "name": "stderr",
     "output_type": "stream",
     "text": [
      "[nltk_data] Downloading package wordnet to\n",
      "[nltk_data]     /Users/malachihale/nltk_data...\n",
      "[nltk_data]   Package wordnet is already up-to-date!\n"
     ]
    }
   ],
   "source": [
    "#Imports for processing and cleaning language\n",
    "import unicodedata\n",
    "import re\n",
    "import json\n",
    "\n",
    "import nltk\n",
    "nltk.download('wordnet')\n",
    "  \n",
    "from nltk.tokenize.toktok import ToktokTokenizer\n",
    "from nltk.corpus import stopwords\n",
    "\n",
    "#Pandas\n",
    "import pandas as pd\n",
    "\n",
    "#See the acquire.py file \n",
    "from acquire import get_blog_df, get_articles\n",
    "\n",
    "#Disable warnings\n",
    "import warnings\n",
    "warnings.filterwarnings('ignore')"
   ]
  },
  {
   "cell_type": "markdown",
   "id": "4ceac42e",
   "metadata": {},
   "source": [
    "## Acquire Data"
   ]
  },
  {
   "cell_type": "markdown",
   "id": "3cbe72e9",
   "metadata": {},
   "source": [
    "We will use one blog post as an example to build our functions."
   ]
  },
  {
   "cell_type": "code",
   "execution_count": 2,
   "id": "15022c9b",
   "metadata": {},
   "outputs": [],
   "source": [
    "url = 'https://codeup.com/data-science/codeups-data-science-career-accelerator-is-here/'"
   ]
  },
  {
   "cell_type": "code",
   "execution_count": 3,
   "id": "76e4dc24",
   "metadata": {},
   "outputs": [],
   "source": [
    "blog_articles = get_blog_articles(url)"
   ]
  },
  {
   "cell_type": "code",
   "execution_count": 4,
   "id": "a4ba0a57",
   "metadata": {},
   "outputs": [
    {
     "data": {
      "text/plain": [
       "'The rumors are true! The time has arrived. Codeup has officially opened applications to our new Data Science career accelerator, with only 25 seats available! This immersive program is one of a kind in San Antonio, and will help you land a job in\\xa0Glassdoor’s #1 Best Job in America.\\nData Science is a method of providing actionable intelligence from data.\\xa0The data revolution has hit San Antonio,\\xa0resulting in an explosion in Data Scientist positions\\xa0across companies like USAA, Accenture, Booz Allen Hamilton, and HEB. We’ve even seen\\xa0UTSA invest $70 M for a Cybersecurity Center and School of Data Science.\\xa0We built a program to specifically meet the growing demands of this industry.\\nOur program will be 18 weeks long, full-time, hands-on, and project-based. Our curriculum development and instruction is led by Senior Data Scientist, Maggie Giust, who has worked at HEB, Capital Group, and Rackspace, along with input from dozens of practitioners and hiring partners. Students will work with real data sets, realistic problems, and the entire data science pipeline from collection to deployment. They will receive professional development training in resume writing, interviewing, and continuing education to prepare for a smooth transition to the workforce.\\nWe focus on applied data science for immediate impact and ROI in a business, which is how we can back it all up with a 6 month tuition refund guarantee – just like our existing Web Dev program. We’re focusing on Data Science with Python, SQL, and ML, covered in\\xa014 modules: 1) Fundamentals; 2) Applied statistics; 3) SQL; 4) Python; 5) Supervised machine learning – regression; 6) Supervised machine learning – classification; 7) Unsupervised machine learning – clustering; 8) Time series analysis; 9) Anomaly detection; 10) Natural language processing; 11) Distributed machine learning; 12) Advanced topics (deep learning, NoSQL, cloud deployment, etc.); 13) Storytelling with data; and 14) Domain expertise development.\\nApplications are now open\\xa0for Codeup’s first Data Science cohort, which will start class on February 4, 2019. Hurry – there are only 25 seats available! To further our mission of cultivating inclusive growth, scholarships will be available to women, minorities, LGBTQIA+ individuals, veterans, first responders, and people relocating to San Antonio.\\nIf you want to learn about joining our program or hiring our graduates, email datascience@codeup.com!'"
      ]
     },
     "execution_count": 4,
     "metadata": {},
     "output_type": "execute_result"
    }
   ],
   "source": [
    "content = blog_articles['contents']\n",
    "content"
   ]
  },
  {
   "cell_type": "markdown",
   "id": "922d913e",
   "metadata": {},
   "source": [
    "## Create Function to Clean the Content\n",
    "\n",
    "Define a function named basic_clean. It should take in a string and apply some basic text cleaning to it:\n",
    "\n",
    "- Lowercase everything\n",
    "- Normalize unicode characters\n",
    "- Replace anything that is not a letter, number, whitespace or a single quote."
   ]
  },
  {
   "cell_type": "code",
   "execution_count": 5,
   "id": "d5871791",
   "metadata": {},
   "outputs": [
    {
     "name": "stdout",
     "output_type": "stream",
     "text": [
      "the rumors are true! the time has arrived. codeup has officially opened applications to our new data science career accelerator, with only 25 seats available! this immersive program is one of a kind in san antonio, and will help you land a job in glassdoor’s #1 best job in america.\n",
      "data science is a method of providing actionable intelligence from data. the data revolution has hit san antonio, resulting in an explosion in data scientist positions across companies like usaa, accenture, booz allen hamilton, and heb. we’ve even seen utsa invest $70 m for a cybersecurity center and school of data science. we built a program to specifically meet the growing demands of this industry.\n",
      "our program will be 18 weeks long, full-time, hands-on, and project-based. our curriculum development and instruction is led by senior data scientist, maggie giust, who has worked at heb, capital group, and rackspace, along with input from dozens of practitioners and hiring partners. students will work with real data sets, realistic problems, and the entire data science pipeline from collection to deployment. they will receive professional development training in resume writing, interviewing, and continuing education to prepare for a smooth transition to the workforce.\n",
      "we focus on applied data science for immediate impact and roi in a business, which is how we can back it all up with a 6 month tuition refund guarantee – just like our existing web dev program. we’re focusing on data science with python, sql, and ml, covered in 14 modules: 1) fundamentals; 2) applied statistics; 3) sql; 4) python; 5) supervised machine learning – regression; 6) supervised machine learning – classification; 7) unsupervised machine learning – clustering; 8) time series analysis; 9) anomaly detection; 10) natural language processing; 11) distributed machine learning; 12) advanced topics (deep learning, nosql, cloud deployment, etc.); 13) storytelling with data; and 14) domain expertise development.\n",
      "applications are now open for codeup’s first data science cohort, which will start class on february 4, 2019. hurry – there are only 25 seats available! to further our mission of cultivating inclusive growth, scholarships will be available to women, minorities, lgbtqia+ individuals, veterans, first responders, and people relocating to san antonio.\n",
      "if you want to learn about joining our program or hiring our graduates, email datascience@codeup.com!\n"
     ]
    }
   ],
   "source": [
    "content = content.lower()\n",
    "print(content)"
   ]
  },
  {
   "cell_type": "code",
   "execution_count": 6,
   "id": "b8df047e",
   "metadata": {},
   "outputs": [
    {
     "name": "stdout",
     "output_type": "stream",
     "text": [
      "the rumors are true! the time has arrived. codeup has officially opened applications to our new data science career accelerator, with only 25 seats available! this immersive program is one of a kind in san antonio, and will help you land a job in glassdoors #1 best job in america.\n",
      "data science is a method of providing actionable intelligence from data. the data revolution has hit san antonio, resulting in an explosion in data scientist positions across companies like usaa, accenture, booz allen hamilton, and heb. weve even seen utsa invest $70 m for a cybersecurity center and school of data science. we built a program to specifically meet the growing demands of this industry.\n",
      "our program will be 18 weeks long, full-time, hands-on, and project-based. our curriculum development and instruction is led by senior data scientist, maggie giust, who has worked at heb, capital group, and rackspace, along with input from dozens of practitioners and hiring partners. students will work with real data sets, realistic problems, and the entire data science pipeline from collection to deployment. they will receive professional development training in resume writing, interviewing, and continuing education to prepare for a smooth transition to the workforce.\n",
      "we focus on applied data science for immediate impact and roi in a business, which is how we can back it all up with a 6 month tuition refund guarantee  just like our existing web dev program. were focusing on data science with python, sql, and ml, covered in 14 modules: 1) fundamentals; 2) applied statistics; 3) sql; 4) python; 5) supervised machine learning  regression; 6) supervised machine learning  classification; 7) unsupervised machine learning  clustering; 8) time series analysis; 9) anomaly detection; 10) natural language processing; 11) distributed machine learning; 12) advanced topics (deep learning, nosql, cloud deployment, etc.); 13) storytelling with data; and 14) domain expertise development.\n",
      "applications are now open for codeups first data science cohort, which will start class on february 4, 2019. hurry  there are only 25 seats available! to further our mission of cultivating inclusive growth, scholarships will be available to women, minorities, lgbtqia+ individuals, veterans, first responders, and people relocating to san antonio.\n",
      "if you want to learn about joining our program or hiring our graduates, email datascience@codeup.com!\n"
     ]
    }
   ],
   "source": [
    "content = unicodedata.normalize('NFKD', content)\\\n",
    "    .encode('ascii', 'ignore')\\\n",
    "    .decode('utf-8', 'ignore')\n",
    "\n",
    "print(content)"
   ]
  },
  {
   "cell_type": "code",
   "execution_count": 7,
   "id": "58508604",
   "metadata": {},
   "outputs": [
    {
     "name": "stdout",
     "output_type": "stream",
     "text": [
      "the rumors are true the time has arrived codeup has officially opened applications to our new data science career accelerator with only 25 seats available this immersive program is one of a kind in san antonio and will help you land a job in glassdoors 1 best job in america\n",
      "data science is a method of providing actionable intelligence from data the data revolution has hit san antonio resulting in an explosion in data scientist positions across companies like usaa accenture booz allen hamilton and heb weve even seen utsa invest 70 m for a cybersecurity center and school of data science we built a program to specifically meet the growing demands of this industry\n",
      "our program will be 18 weeks long fulltime handson and projectbased our curriculum development and instruction is led by senior data scientist maggie giust who has worked at heb capital group and rackspace along with input from dozens of practitioners and hiring partners students will work with real data sets realistic problems and the entire data science pipeline from collection to deployment they will receive professional development training in resume writing interviewing and continuing education to prepare for a smooth transition to the workforce\n",
      "we focus on applied data science for immediate impact and roi in a business which is how we can back it all up with a 6 month tuition refund guarantee  just like our existing web dev program were focusing on data science with python sql and ml covered in 14 modules 1 fundamentals 2 applied statistics 3 sql 4 python 5 supervised machine learning  regression 6 supervised machine learning  classification 7 unsupervised machine learning  clustering 8 time series analysis 9 anomaly detection 10 natural language processing 11 distributed machine learning 12 advanced topics deep learning nosql cloud deployment etc 13 storytelling with data and 14 domain expertise development\n",
      "applications are now open for codeups first data science cohort which will start class on february 4 2019 hurry  there are only 25 seats available to further our mission of cultivating inclusive growth scholarships will be available to women minorities lgbtqia individuals veterans first responders and people relocating to san antonio\n",
      "if you want to learn about joining our program or hiring our graduates email datasciencecodeupcom\n"
     ]
    }
   ],
   "source": [
    "content = re.sub(r\"[^a-z0-9'\\s]\", '', content)\n",
    "print(content)"
   ]
  },
  {
   "cell_type": "code",
   "execution_count": 8,
   "id": "c71d0e73",
   "metadata": {},
   "outputs": [],
   "source": [
    "def basic_clean(content):\n",
    "    #Make lowercase\n",
    "    content = content.lower()\n",
    "    \n",
    "    #Normalize unicode characters \n",
    "    content = unicodedata.normalize('NFKD', content)\\\n",
    "    .encode('ascii', 'ignore')\\\n",
    "    .decode('utf-8', 'ignore')\n",
    "    \n",
    "    #Remove special characters\n",
    "    content = re.sub(r\"[^a-z0-9'\\s]\", '', content)\n",
    "    \n",
    "    return content"
   ]
  },
  {
   "cell_type": "markdown",
   "id": "6d7d2924",
   "metadata": {},
   "source": [
    "## Create a Function to Tokenize the Content"
   ]
  },
  {
   "cell_type": "markdown",
   "id": "c2277a55",
   "metadata": {},
   "source": [
    "Define a function named tokenize. It should take in a string and tokenize all the words in the string."
   ]
  },
  {
   "cell_type": "code",
   "execution_count": 9,
   "id": "43d51587",
   "metadata": {},
   "outputs": [
    {
     "name": "stdout",
     "output_type": "stream",
     "text": [
      "the rumors are true the time has arrived codeup has officially opened applications to our new data science career accelerator with only 25 seats available this immersive program is one of a kind in san antonio and will help you land a job in glassdoors 1 best job in america\n",
      "data science is a method of providing actionable intelligence from data the data revolution has hit san antonio resulting in an explosion in data scientist positions across companies like usaa accenture booz allen hamilton and heb weve even seen utsa invest 70 m for a cybersecurity center and school of data science we built a program to specifically meet the growing demands of this industry\n",
      "our program will be 18 weeks long fulltime handson and projectbased our curriculum development and instruction is led by senior data scientist maggie giust who has worked at heb capital group and rackspace along with input from dozens of practitioners and hiring partners students will work with real data sets realistic problems and the entire data science pipeline from collection to deployment they will receive professional development training in resume writing interviewing and continuing education to prepare for a smooth transition to the workforce\n",
      "we focus on applied data science for immediate impact and roi in a business which is how we can back it all up with a 6 month tuition refund guarantee just like our existing web dev program were focusing on data science with python sql and ml covered in 14 modules 1 fundamentals 2 applied statistics 3 sql 4 python 5 supervised machine learning regression 6 supervised machine learning classification 7 unsupervised machine learning clustering 8 time series analysis 9 anomaly detection 10 natural language processing 11 distributed machine learning 12 advanced topics deep learning nosql cloud deployment etc 13 storytelling with data and 14 domain expertise development\n",
      "applications are now open for codeups first data science cohort which will start class on february 4 2019 hurry there are only 25 seats available to further our mission of cultivating inclusive growth scholarships will be available to women minorities lgbtqia individuals veterans first responders and people relocating to san antonio\n",
      "if you want to learn about joining our program or hiring our graduates email datasciencecodeupcom\n"
     ]
    }
   ],
   "source": [
    "# Create the tokenizer\n",
    "tokenizer = nltk.tokenize.ToktokTokenizer()\n",
    "\n",
    "# Use the tokenizer\n",
    "content = tokenizer.tokenize(content, return_str = True)\n",
    "\n",
    "print(content)"
   ]
  },
  {
   "cell_type": "code",
   "execution_count": 10,
   "id": "c43e824f",
   "metadata": {},
   "outputs": [],
   "source": [
    "def tokenize(content):\n",
    "    # Create the tokenizer\n",
    "    tokenizer = nltk.tokenize.ToktokTokenizer()\n",
    "\n",
    "    # Use the tokenizer\n",
    "    content = tokenizer.tokenize(content, return_str = True)\n",
    "    \n",
    "    return content"
   ]
  },
  {
   "cell_type": "markdown",
   "id": "0caadfb7",
   "metadata": {},
   "source": [
    "## Create a Function to Stem the Content"
   ]
  },
  {
   "cell_type": "markdown",
   "id": "99edd8ce",
   "metadata": {},
   "source": [
    "Define a function named stem. It should accept some text and return the text after applying stemming to all the words."
   ]
  },
  {
   "cell_type": "code",
   "execution_count": 11,
   "id": "17b08a85",
   "metadata": {},
   "outputs": [
    {
     "name": "stdout",
     "output_type": "stream",
     "text": [
      "the rumor are true the time ha arriv codeup ha offici open applic to our new data scienc career acceler with onli 25 seat avail thi immers program is one of a kind in san antonio and will help you land a job in glassdoor 1 best job in america data scienc is a method of provid action intellig from data the data revolut ha hit san antonio result in an explos in data scientist posit across compani like usaa accentur booz allen hamilton and heb weve even seen utsa invest 70 m for a cybersecur center and school of data scienc we built a program to specif meet the grow demand of thi industri our program will be 18 week long fulltim handson and projectbas our curriculum develop and instruct is led by senior data scientist maggi giust who ha work at heb capit group and rackspac along with input from dozen of practition and hire partner student will work with real data set realist problem and the entir data scienc pipelin from collect to deploy they will receiv profession develop train in resum write interview and continu educ to prepar for a smooth transit to the workforc we focu on appli data scienc for immedi impact and roi in a busi which is how we can back it all up with a 6 month tuition refund guarante just like our exist web dev program were focus on data scienc with python sql and ml cover in 14 modul 1 fundament 2 appli statist 3 sql 4 python 5 supervis machin learn regress 6 supervis machin learn classif 7 unsupervis machin learn cluster 8 time seri analysi 9 anomali detect 10 natur languag process 11 distribut machin learn 12 advanc topic deep learn nosql cloud deploy etc 13 storytel with data and 14 domain expertis develop applic are now open for codeup first data scienc cohort which will start class on februari 4 2019 hurri there are onli 25 seat avail to further our mission of cultiv inclus growth scholarship will be avail to women minor lgbtqia individu veteran first respond and peopl reloc to san antonio if you want to learn about join our program or hire our graduat email datasciencecodeupcom\n"
     ]
    }
   ],
   "source": [
    "#Create the nltk stemmer object\n",
    "ps = nltk.porter.PorterStemmer()\n",
    "\n",
    "\n",
    "stems = [ps.stem(word) for word in content.split()]\n",
    "content_stemmed = ' '.join(stems)\n",
    "print(content_stemmed)"
   ]
  },
  {
   "cell_type": "code",
   "execution_count": 12,
   "id": "a9c16589",
   "metadata": {},
   "outputs": [],
   "source": [
    "def stem(content):\n",
    "    #Create the nltk stemmer object\n",
    "    ps = nltk.porter.PorterStemmer()\n",
    "\n",
    "\n",
    "    stems = [ps.stem(word) for word in content.split()]\n",
    "    content_stemmed = ' '.join(stems)\n",
    "    return content_stemmed"
   ]
  },
  {
   "cell_type": "markdown",
   "id": "a5374ad1",
   "metadata": {},
   "source": [
    "## Create a Function to Lemmatize the Content"
   ]
  },
  {
   "cell_type": "markdown",
   "id": "721bd2bc",
   "metadata": {},
   "source": [
    "Define a function named lemmatize. It should accept some text and return the text after applying lemmatization to each word."
   ]
  },
  {
   "cell_type": "code",
   "execution_count": 13,
   "id": "1da0026f",
   "metadata": {},
   "outputs": [
    {
     "name": "stdout",
     "output_type": "stream",
     "text": [
      "the rumor are true the time ha arrived codeup ha officially opened application to our new data science career accelerator with only 25 seat available this immersive program is one of a kind in san antonio and will help you land a job in glassdoors 1 best job in america data science is a method of providing actionable intelligence from data the data revolution ha hit san antonio resulting in an explosion in data scientist position across company like usaa accenture booz allen hamilton and heb weve even seen utsa invest 70 m for a cybersecurity center and school of data science we built a program to specifically meet the growing demand of this industry our program will be 18 week long fulltime handson and projectbased our curriculum development and instruction is led by senior data scientist maggie giust who ha worked at heb capital group and rackspace along with input from dozen of practitioner and hiring partner student will work with real data set realistic problem and the entire data science pipeline from collection to deployment they will receive professional development training in resume writing interviewing and continuing education to prepare for a smooth transition to the workforce we focus on applied data science for immediate impact and roi in a business which is how we can back it all up with a 6 month tuition refund guarantee just like our existing web dev program were focusing on data science with python sql and ml covered in 14 module 1 fundamental 2 applied statistic 3 sql 4 python 5 supervised machine learning regression 6 supervised machine learning classification 7 unsupervised machine learning clustering 8 time series analysis 9 anomaly detection 10 natural language processing 11 distributed machine learning 12 advanced topic deep learning nosql cloud deployment etc 13 storytelling with data and 14 domain expertise development application are now open for codeups first data science cohort which will start class on february 4 2019 hurry there are only 25 seat available to further our mission of cultivating inclusive growth scholarship will be available to woman minority lgbtqia individual veteran first responder and people relocating to san antonio if you want to learn about joining our program or hiring our graduate email datasciencecodeupcom\n"
     ]
    }
   ],
   "source": [
    "wnl = nltk.stem.WordNetLemmatizer()\n",
    "\n",
    "lemmas = [wnl.lemmatize(word) for word in content.split()]\n",
    "content_lemmatized = ' '.join(lemmas)\n",
    "\n",
    "print(content_lemmatized)"
   ]
  },
  {
   "cell_type": "code",
   "execution_count": 14,
   "id": "700d4ce8",
   "metadata": {},
   "outputs": [],
   "source": [
    "def lemmatize(content):\n",
    "    wnl = nltk.stem.WordNetLemmatizer()\n",
    "\n",
    "    lemmas = [wnl.lemmatize(word) for word in content.split()]\n",
    "    content_lemmatized = ' '.join(lemmas)\n",
    "\n",
    "    return content_lemmatized "
   ]
  },
  {
   "cell_type": "markdown",
   "id": "d33f59bd",
   "metadata": {},
   "source": [
    "## Create a Function to Remove Stopwords"
   ]
  },
  {
   "cell_type": "markdown",
   "id": "acbf4bad",
   "metadata": {},
   "source": [
    "Define a function named remove_stopwords. It should accept some text and return the text after removing all the stopwords.\n",
    "\n",
    "This function should define two optional parameters, extra_words and exclude_words. These parameters should define any additional stop words to include, and any words that we don't want to remove"
   ]
  },
  {
   "cell_type": "code",
   "execution_count": 15,
   "id": "dc1815ad",
   "metadata": {},
   "outputs": [
    {
     "data": {
      "text/plain": [
       "['i', 'me', 'my', 'myself', 'we', 'our', 'ours', 'ourselves', 'you', \"you're\"]"
      ]
     },
     "execution_count": 15,
     "metadata": {},
     "output_type": "execute_result"
    }
   ],
   "source": [
    "stopword_list = stopwords.words('english')\n",
    "\n",
    "stopword_list.remove('no')\n",
    "stopword_list.remove('not')\n",
    "\n",
    "stopword_list[:10]"
   ]
  },
  {
   "cell_type": "code",
   "execution_count": 16,
   "id": "a24482b4",
   "metadata": {},
   "outputs": [
    {
     "name": "stdout",
     "output_type": "stream",
     "text": [
      "Removed 122 stopwords\n",
      "---\n",
      "rumors true time arrived codeup officially opened applications new data science career accelerator 25 seats available immersive program one kind san antonio help land job glassdoors 1 best job america data science method providing actionable intelligence data data revolution hit san antonio resulting explosion data scientist positions across companies like usaa accenture booz allen hamilton heb weve even seen utsa invest 70 cybersecurity center school data science built program specifically meet growing demands industry program 18 weeks long fulltime handson projectbased curriculum development instruction led senior data scientist maggie giust worked heb capital group rackspace along input dozens practitioners hiring partners students work real data sets realistic problems entire data science pipeline collection deployment receive professional development training resume writing interviewing continuing education prepare smooth transition workforce focus applied data science immediate impact roi business back 6 month tuition refund guarantee like existing web dev program focusing data science python sql ml covered 14 modules 1 fundamentals 2 applied statistics 3 sql 4 python 5 supervised machine learning regression 6 supervised machine learning classification 7 unsupervised machine learning clustering 8 time series analysis 9 anomaly detection 10 natural language processing 11 distributed machine learning 12 advanced topics deep learning nosql cloud deployment etc 13 storytelling data 14 domain expertise development applications open codeups first data science cohort start class february 4 2019 hurry 25 seats available mission cultivating inclusive growth scholarships available women minorities lgbtqia individuals veterans first responders people relocating san antonio want learn joining program hiring graduates email datasciencecodeupcom\n"
     ]
    }
   ],
   "source": [
    "words = content.split()\n",
    "filtered_words = [w for w in words if w not in stopword_list]\n",
    "\n",
    "print('Removed {} stopwords'.format(len(words) - len(filtered_words)))\n",
    "print('---')\n",
    "\n",
    "content_without_stopwords = ' '.join(filtered_words)\n",
    "\n",
    "print(content_without_stopwords)"
   ]
  },
  {
   "cell_type": "markdown",
   "id": "2188661c",
   "metadata": {},
   "source": [
    "## Acquire News and Blog Article Data"
   ]
  },
  {
   "cell_type": "markdown",
   "id": "29ea5397",
   "metadata": {},
   "source": [
    "Use your data from the acquire to produce a dataframe of the news articles. Name the dataframe news_df."
   ]
  },
  {
   "cell_type": "code",
   "execution_count": 225,
   "id": "7240677b",
   "metadata": {},
   "outputs": [],
   "source": [
    "categories = [\"business\",\n",
    "\"sports\",\n",
    "\"technology\",\n",
    "\"entertainment\"]"
   ]
  },
  {
   "cell_type": "code",
   "execution_count": 226,
   "id": "80990095",
   "metadata": {},
   "outputs": [],
   "source": [
    "news_df = get_articles(categories)"
   ]
  },
  {
   "cell_type": "code",
   "execution_count": 227,
   "id": "a72c7f74",
   "metadata": {},
   "outputs": [
    {
     "data": {
      "text/html": [
       "<div>\n",
       "<style scoped>\n",
       "    .dataframe tbody tr th:only-of-type {\n",
       "        vertical-align: middle;\n",
       "    }\n",
       "\n",
       "    .dataframe tbody tr th {\n",
       "        vertical-align: top;\n",
       "    }\n",
       "\n",
       "    .dataframe thead th {\n",
       "        text-align: right;\n",
       "    }\n",
       "</style>\n",
       "<table border=\"1\" class=\"dataframe\">\n",
       "  <thead>\n",
       "    <tr style=\"text-align: right;\">\n",
       "      <th></th>\n",
       "      <th>title</th>\n",
       "      <th>contents</th>\n",
       "      <th>category</th>\n",
       "    </tr>\n",
       "  </thead>\n",
       "  <tbody>\n",
       "    <tr>\n",
       "      <th>0</th>\n",
       "      <td>Navi Mutual Fund offers SIPs starting at ₹500</td>\n",
       "      <td>Navi Mutual Fund is offering investors the opt...</td>\n",
       "      <td>business</td>\n",
       "    </tr>\n",
       "    <tr>\n",
       "      <th>1</th>\n",
       "      <td>'Man who takes 6 months parental leave is a lo...</td>\n",
       "      <td>Several Twitter users criticised US-based Pala...</td>\n",
       "      <td>business</td>\n",
       "    </tr>\n",
       "    <tr>\n",
       "      <th>2</th>\n",
       "      <td>Cognizant had to choose clients to serve: CEO ...</td>\n",
       "      <td>Cognizant CEO Brian Humphries has said the fir...</td>\n",
       "      <td>business</td>\n",
       "    </tr>\n",
       "    <tr>\n",
       "      <th>3</th>\n",
       "      <td>Delhi HC notice to RBI, SBI over banning UPI p...</td>\n",
       "      <td>The Delhi High Court on Thursday issued notice...</td>\n",
       "      <td>business</td>\n",
       "    </tr>\n",
       "    <tr>\n",
       "      <th>4</th>\n",
       "      <td>Elon Musk and Jeff Bezos are now worth nearly ...</td>\n",
       "      <td>The combined net worth of the world's two rich...</td>\n",
       "      <td>business</td>\n",
       "    </tr>\n",
       "  </tbody>\n",
       "</table>\n",
       "</div>"
      ],
      "text/plain": [
       "                                               title  \\\n",
       "0      Navi Mutual Fund offers SIPs starting at ₹500   \n",
       "1  'Man who takes 6 months parental leave is a lo...   \n",
       "2  Cognizant had to choose clients to serve: CEO ...   \n",
       "3  Delhi HC notice to RBI, SBI over banning UPI p...   \n",
       "4  Elon Musk and Jeff Bezos are now worth nearly ...   \n",
       "\n",
       "                                            contents  category  \n",
       "0  Navi Mutual Fund is offering investors the opt...  business  \n",
       "1  Several Twitter users criticised US-based Pala...  business  \n",
       "2  Cognizant CEO Brian Humphries has said the fir...  business  \n",
       "3  The Delhi High Court on Thursday issued notice...  business  \n",
       "4  The combined net worth of the world's two rich...  business  "
      ]
     },
     "execution_count": 227,
     "metadata": {},
     "output_type": "execute_result"
    }
   ],
   "source": [
    "news_df.head()"
   ]
  },
  {
   "cell_type": "markdown",
   "id": "e498ee68",
   "metadata": {},
   "source": [
    "Make another dataframe for the Codeup blog posts. Name the dataframe codeup_df."
   ]
  },
  {
   "cell_type": "code",
   "execution_count": 228,
   "id": "e976a344",
   "metadata": {},
   "outputs": [],
   "source": [
    "codeup_df = get_blog_df()"
   ]
  },
  {
   "cell_type": "code",
   "execution_count": 229,
   "id": "9df0688f",
   "metadata": {},
   "outputs": [
    {
     "data": {
      "text/html": [
       "<div>\n",
       "<style scoped>\n",
       "    .dataframe tbody tr th:only-of-type {\n",
       "        vertical-align: middle;\n",
       "    }\n",
       "\n",
       "    .dataframe tbody tr th {\n",
       "        vertical-align: top;\n",
       "    }\n",
       "\n",
       "    .dataframe thead th {\n",
       "        text-align: right;\n",
       "    }\n",
       "</style>\n",
       "<table border=\"1\" class=\"dataframe\">\n",
       "  <thead>\n",
       "    <tr style=\"text-align: right;\">\n",
       "      <th></th>\n",
       "      <th>title</th>\n",
       "      <th>contents</th>\n",
       "    </tr>\n",
       "  </thead>\n",
       "  <tbody>\n",
       "    <tr>\n",
       "      <th>0</th>\n",
       "      <td>Codeup’s Data Science Career Accelerator is Here!</td>\n",
       "      <td>The rumors are true! The time has arrived. Cod...</td>\n",
       "    </tr>\n",
       "    <tr>\n",
       "      <th>1</th>\n",
       "      <td>Data Science Myths</td>\n",
       "      <td>By Dimitri Antoniou and Maggie Giust\\nData Sci...</td>\n",
       "    </tr>\n",
       "    <tr>\n",
       "      <th>2</th>\n",
       "      <td>Data Science VS Data Analytics: What’s The Dif...</td>\n",
       "      <td>By Dimitri Antoniou\\nA week ago, Codeup launch...</td>\n",
       "    </tr>\n",
       "    <tr>\n",
       "      <th>3</th>\n",
       "      <td>10 Tips to Crush It at the SA Tech Job Fair</td>\n",
       "      <td>SA Tech Job Fair\\nThe third bi-annual San Anto...</td>\n",
       "    </tr>\n",
       "    <tr>\n",
       "      <th>4</th>\n",
       "      <td>Competitor Bootcamps Are Closing. Is the Model...</td>\n",
       "      <td>Competitor Bootcamps Are Closing. Is the Model...</td>\n",
       "    </tr>\n",
       "  </tbody>\n",
       "</table>\n",
       "</div>"
      ],
      "text/plain": [
       "                                               title  \\\n",
       "0  Codeup’s Data Science Career Accelerator is Here!   \n",
       "1                                 Data Science Myths   \n",
       "2  Data Science VS Data Analytics: What’s The Dif...   \n",
       "3        10 Tips to Crush It at the SA Tech Job Fair   \n",
       "4  Competitor Bootcamps Are Closing. Is the Model...   \n",
       "\n",
       "                                            contents  \n",
       "0  The rumors are true! The time has arrived. Cod...  \n",
       "1  By Dimitri Antoniou and Maggie Giust\\nData Sci...  \n",
       "2  By Dimitri Antoniou\\nA week ago, Codeup launch...  \n",
       "3  SA Tech Job Fair\\nThe third bi-annual San Anto...  \n",
       "4  Competitor Bootcamps Are Closing. Is the Model...  "
      ]
     },
     "execution_count": 229,
     "metadata": {},
     "output_type": "execute_result"
    }
   ],
   "source": [
    "codeup_df"
   ]
  },
  {
   "cell_type": "markdown",
   "id": "b9bb3b27",
   "metadata": {},
   "source": [
    "## Create a Function that Cleans, Stems, and Lemmatizes the DataFrames"
   ]
  },
  {
   "cell_type": "markdown",
   "id": "174c91e6",
   "metadata": {},
   "source": [
    "For each dataframe, produce the following columns:\n",
    "\n",
    " - title to hold the title\n",
    " - original to hold the original article/post content\n",
    " - clean to hold the normalized and tokenized original with the stopwords removed.\n",
    " - stemmed to hold the stemmed version of the cleaned data.\n",
    " - lemmatized to hold the lemmatized version of the cleaned data."
   ]
  },
  {
   "cell_type": "code",
   "execution_count": 230,
   "id": "91806a4f",
   "metadata": {},
   "outputs": [],
   "source": [
    "news_df = news_df.rename(columns = {'contents': 'original'})"
   ]
  },
  {
   "cell_type": "code",
   "execution_count": 231,
   "id": "c09f0f0b",
   "metadata": {},
   "outputs": [],
   "source": [
    "codeup_df = codeup_df.rename(columns = {'contents': 'original'})"
   ]
  },
  {
   "cell_type": "code",
   "execution_count": 232,
   "id": "42e5f5f8",
   "metadata": {
    "scrolled": true
   },
   "outputs": [
    {
     "data": {
      "text/html": [
       "<div>\n",
       "<style scoped>\n",
       "    .dataframe tbody tr th:only-of-type {\n",
       "        vertical-align: middle;\n",
       "    }\n",
       "\n",
       "    .dataframe tbody tr th {\n",
       "        vertical-align: top;\n",
       "    }\n",
       "\n",
       "    .dataframe thead th {\n",
       "        text-align: right;\n",
       "    }\n",
       "</style>\n",
       "<table border=\"1\" class=\"dataframe\">\n",
       "  <thead>\n",
       "    <tr style=\"text-align: right;\">\n",
       "      <th></th>\n",
       "      <th>title</th>\n",
       "      <th>original</th>\n",
       "      <th>category</th>\n",
       "    </tr>\n",
       "  </thead>\n",
       "  <tbody>\n",
       "    <tr>\n",
       "      <th>0</th>\n",
       "      <td>Navi Mutual Fund offers SIPs starting at ₹500</td>\n",
       "      <td>Navi Mutual Fund is offering investors the opt...</td>\n",
       "      <td>business</td>\n",
       "    </tr>\n",
       "    <tr>\n",
       "      <th>1</th>\n",
       "      <td>'Man who takes 6 months parental leave is a lo...</td>\n",
       "      <td>Several Twitter users criticised US-based Pala...</td>\n",
       "      <td>business</td>\n",
       "    </tr>\n",
       "    <tr>\n",
       "      <th>2</th>\n",
       "      <td>Cognizant had to choose clients to serve: CEO ...</td>\n",
       "      <td>Cognizant CEO Brian Humphries has said the fir...</td>\n",
       "      <td>business</td>\n",
       "    </tr>\n",
       "    <tr>\n",
       "      <th>3</th>\n",
       "      <td>Delhi HC notice to RBI, SBI over banning UPI p...</td>\n",
       "      <td>The Delhi High Court on Thursday issued notice...</td>\n",
       "      <td>business</td>\n",
       "    </tr>\n",
       "    <tr>\n",
       "      <th>4</th>\n",
       "      <td>Elon Musk and Jeff Bezos are now worth nearly ...</td>\n",
       "      <td>The combined net worth of the world's two rich...</td>\n",
       "      <td>business</td>\n",
       "    </tr>\n",
       "  </tbody>\n",
       "</table>\n",
       "</div>"
      ],
      "text/plain": [
       "                                               title  \\\n",
       "0      Navi Mutual Fund offers SIPs starting at ₹500   \n",
       "1  'Man who takes 6 months parental leave is a lo...   \n",
       "2  Cognizant had to choose clients to serve: CEO ...   \n",
       "3  Delhi HC notice to RBI, SBI over banning UPI p...   \n",
       "4  Elon Musk and Jeff Bezos are now worth nearly ...   \n",
       "\n",
       "                                            original  category  \n",
       "0  Navi Mutual Fund is offering investors the opt...  business  \n",
       "1  Several Twitter users criticised US-based Pala...  business  \n",
       "2  Cognizant CEO Brian Humphries has said the fir...  business  \n",
       "3  The Delhi High Court on Thursday issued notice...  business  \n",
       "4  The combined net worth of the world's two rich...  business  "
      ]
     },
     "execution_count": 232,
     "metadata": {},
     "output_type": "execute_result"
    }
   ],
   "source": [
    "news_df.head()"
   ]
  },
  {
   "cell_type": "code",
   "execution_count": 196,
   "id": "3d3067b0",
   "metadata": {},
   "outputs": [
    {
     "data": {
      "text/html": [
       "<div>\n",
       "<style scoped>\n",
       "    .dataframe tbody tr th:only-of-type {\n",
       "        vertical-align: middle;\n",
       "    }\n",
       "\n",
       "    .dataframe tbody tr th {\n",
       "        vertical-align: top;\n",
       "    }\n",
       "\n",
       "    .dataframe thead th {\n",
       "        text-align: right;\n",
       "    }\n",
       "</style>\n",
       "<table border=\"1\" class=\"dataframe\">\n",
       "  <thead>\n",
       "    <tr style=\"text-align: right;\">\n",
       "      <th></th>\n",
       "      <th>title</th>\n",
       "      <th>original</th>\n",
       "      <th>stemmed</th>\n",
       "    </tr>\n",
       "  </thead>\n",
       "  <tbody>\n",
       "    <tr>\n",
       "      <th>0</th>\n",
       "      <td>Codeup’s Data Science Career Accelerator is Here!</td>\n",
       "      <td>The rumors are true! The time has arrived. Cod...</td>\n",
       "      <td>the rumor are true! the time ha arrived. codeu...</td>\n",
       "    </tr>\n",
       "    <tr>\n",
       "      <th>1</th>\n",
       "      <td>Data Science Myths</td>\n",
       "      <td>By Dimitri Antoniou and Maggie Giust\\nData Sci...</td>\n",
       "      <td>by dimitri antoni and maggi giust data science...</td>\n",
       "    </tr>\n",
       "    <tr>\n",
       "      <th>2</th>\n",
       "      <td>Data Science VS Data Analytics: What’s The Dif...</td>\n",
       "      <td>By Dimitri Antoniou\\nA week ago, Codeup launch...</td>\n",
       "      <td>by dimitri antoni a week ago, codeup launch ou...</td>\n",
       "    </tr>\n",
       "    <tr>\n",
       "      <th>3</th>\n",
       "      <td>10 Tips to Crush It at the SA Tech Job Fair</td>\n",
       "      <td>SA Tech Job Fair\\nThe third bi-annual San Anto...</td>\n",
       "      <td>sa tech job fair the third bi-annu san antonio...</td>\n",
       "    </tr>\n",
       "    <tr>\n",
       "      <th>4</th>\n",
       "      <td>Competitor Bootcamps Are Closing. Is the Model...</td>\n",
       "      <td>Competitor Bootcamps Are Closing. Is the Model...</td>\n",
       "      <td>competitor bootcamp are closing. is the model ...</td>\n",
       "    </tr>\n",
       "  </tbody>\n",
       "</table>\n",
       "</div>"
      ],
      "text/plain": [
       "                                               title  \\\n",
       "0  Codeup’s Data Science Career Accelerator is Here!   \n",
       "1                                 Data Science Myths   \n",
       "2  Data Science VS Data Analytics: What’s The Dif...   \n",
       "3        10 Tips to Crush It at the SA Tech Job Fair   \n",
       "4  Competitor Bootcamps Are Closing. Is the Model...   \n",
       "\n",
       "                                            original  \\\n",
       "0  The rumors are true! The time has arrived. Cod...   \n",
       "1  By Dimitri Antoniou and Maggie Giust\\nData Sci...   \n",
       "2  By Dimitri Antoniou\\nA week ago, Codeup launch...   \n",
       "3  SA Tech Job Fair\\nThe third bi-annual San Anto...   \n",
       "4  Competitor Bootcamps Are Closing. Is the Model...   \n",
       "\n",
       "                                             stemmed  \n",
       "0  the rumor are true! the time ha arrived. codeu...  \n",
       "1  by dimitri antoni and maggi giust data science...  \n",
       "2  by dimitri antoni a week ago, codeup launch ou...  \n",
       "3  sa tech job fair the third bi-annu san antonio...  \n",
       "4  competitor bootcamp are closing. is the model ...  "
      ]
     },
     "execution_count": 196,
     "metadata": {},
     "output_type": "execute_result"
    }
   ],
   "source": [
    "codeup_df"
   ]
  },
  {
   "cell_type": "code",
   "execution_count": 233,
   "id": "0104fce8",
   "metadata": {},
   "outputs": [],
   "source": [
    "def clean_dataframe(df):\n",
    "    clean = []\n",
    "    for i in df.original:\n",
    "    \n",
    "        normalized_data = basic_clean(i)\n",
    "    \n",
    "        clean.append(tokenize(normalized_data))\n",
    "    \n",
    "    clean_df = pd.DataFrame(clean)\n",
    "    \n",
    "    clean_df = clean_df.rename(columns = {0: \"clean\"})\n",
    "    \n",
    "    df = pd.concat([df, clean_df], axis=1)\n",
    "    \n",
    "    return df"
   ]
  },
  {
   "cell_type": "code",
   "execution_count": 234,
   "id": "ab294495",
   "metadata": {},
   "outputs": [],
   "source": [
    "def stem_dataframe(df):\n",
    "    stemmed = []\n",
    "    for i in df.clean:\n",
    "    \n",
    "        stemmed.append(stem(i))\n",
    "    \n",
    "    stemmed_df = pd.DataFrame(stemmed)\n",
    "    \n",
    "    stemmed_df = stemmed_df.rename(columns = {0: \"stemmed\"})\n",
    "    \n",
    "    df = pd.concat([df, stemmed_df], axis=1)\n",
    "    \n",
    "    return df"
   ]
  },
  {
   "cell_type": "code",
   "execution_count": 235,
   "id": "6ab960d0",
   "metadata": {},
   "outputs": [],
   "source": [
    "def lemmatize_dataframe(df):\n",
    "    lemmatized = []\n",
    "    \n",
    "    for i in df.clean:\n",
    "    \n",
    "        lemmatized.append(lemmatize(i))\n",
    "    \n",
    "    lemmatized_df = pd.DataFrame(lemmatized)\n",
    "    \n",
    "    lemmatized_df = lemmatized_df.rename(columns = {0: \"lemmatized\"})\n",
    "    \n",
    "    df = pd.concat([df, lemmatized_df], axis=1)\n",
    "    \n",
    "    return df"
   ]
  },
  {
   "cell_type": "code",
   "execution_count": 236,
   "id": "88ccc4fe",
   "metadata": {},
   "outputs": [],
   "source": [
    "codeup_df = clean_dataframe(codeup_df)\n",
    "codeup_df = stem_dataframe(codeup_df)\n",
    "codeup_df = lemmatize_dataframe(codeup_df)"
   ]
  },
  {
   "cell_type": "code",
   "execution_count": 237,
   "id": "6400ff11",
   "metadata": {},
   "outputs": [
    {
     "data": {
      "text/html": [
       "<div>\n",
       "<style scoped>\n",
       "    .dataframe tbody tr th:only-of-type {\n",
       "        vertical-align: middle;\n",
       "    }\n",
       "\n",
       "    .dataframe tbody tr th {\n",
       "        vertical-align: top;\n",
       "    }\n",
       "\n",
       "    .dataframe thead th {\n",
       "        text-align: right;\n",
       "    }\n",
       "</style>\n",
       "<table border=\"1\" class=\"dataframe\">\n",
       "  <thead>\n",
       "    <tr style=\"text-align: right;\">\n",
       "      <th></th>\n",
       "      <th>title</th>\n",
       "      <th>original</th>\n",
       "      <th>clean</th>\n",
       "      <th>stemmed</th>\n",
       "      <th>lemmatized</th>\n",
       "    </tr>\n",
       "  </thead>\n",
       "  <tbody>\n",
       "    <tr>\n",
       "      <th>0</th>\n",
       "      <td>Codeup’s Data Science Career Accelerator is Here!</td>\n",
       "      <td>The rumors are true! The time has arrived. Cod...</td>\n",
       "      <td>the rumors are true the time has arrived codeu...</td>\n",
       "      <td>the rumor are true the time ha arriv codeup ha...</td>\n",
       "      <td>the rumor are true the time ha arrived codeup ...</td>\n",
       "    </tr>\n",
       "    <tr>\n",
       "      <th>1</th>\n",
       "      <td>Data Science Myths</td>\n",
       "      <td>By Dimitri Antoniou and Maggie Giust\\nData Sci...</td>\n",
       "      <td>by dimitri antoniou and maggie giust\\ndata sci...</td>\n",
       "      <td>by dimitri antoni and maggi giust data scienc ...</td>\n",
       "      <td>by dimitri antoniou and maggie giust data scie...</td>\n",
       "    </tr>\n",
       "    <tr>\n",
       "      <th>2</th>\n",
       "      <td>Data Science VS Data Analytics: What’s The Dif...</td>\n",
       "      <td>By Dimitri Antoniou\\nA week ago, Codeup launch...</td>\n",
       "      <td>by dimitri antoniou\\na week ago codeup launche...</td>\n",
       "      <td>by dimitri antoni a week ago codeup launch our...</td>\n",
       "      <td>by dimitri antoniou a week ago codeup launched...</td>\n",
       "    </tr>\n",
       "    <tr>\n",
       "      <th>3</th>\n",
       "      <td>10 Tips to Crush It at the SA Tech Job Fair</td>\n",
       "      <td>SA Tech Job Fair\\nThe third bi-annual San Anto...</td>\n",
       "      <td>sa tech job fair\\nthe third biannual san anton...</td>\n",
       "      <td>sa tech job fair the third biannual san antoni...</td>\n",
       "      <td>sa tech job fair the third biannual san antoni...</td>\n",
       "    </tr>\n",
       "    <tr>\n",
       "      <th>4</th>\n",
       "      <td>Competitor Bootcamps Are Closing. Is the Model...</td>\n",
       "      <td>Competitor Bootcamps Are Closing. Is the Model...</td>\n",
       "      <td>competitor bootcamps are closing is the model ...</td>\n",
       "      <td>competitor bootcamp are close is the model in ...</td>\n",
       "      <td>competitor bootcamps are closing is the model ...</td>\n",
       "    </tr>\n",
       "  </tbody>\n",
       "</table>\n",
       "</div>"
      ],
      "text/plain": [
       "                                               title  \\\n",
       "0  Codeup’s Data Science Career Accelerator is Here!   \n",
       "1                                 Data Science Myths   \n",
       "2  Data Science VS Data Analytics: What’s The Dif...   \n",
       "3        10 Tips to Crush It at the SA Tech Job Fair   \n",
       "4  Competitor Bootcamps Are Closing. Is the Model...   \n",
       "\n",
       "                                            original  \\\n",
       "0  The rumors are true! The time has arrived. Cod...   \n",
       "1  By Dimitri Antoniou and Maggie Giust\\nData Sci...   \n",
       "2  By Dimitri Antoniou\\nA week ago, Codeup launch...   \n",
       "3  SA Tech Job Fair\\nThe third bi-annual San Anto...   \n",
       "4  Competitor Bootcamps Are Closing. Is the Model...   \n",
       "\n",
       "                                               clean  \\\n",
       "0  the rumors are true the time has arrived codeu...   \n",
       "1  by dimitri antoniou and maggie giust\\ndata sci...   \n",
       "2  by dimitri antoniou\\na week ago codeup launche...   \n",
       "3  sa tech job fair\\nthe third biannual san anton...   \n",
       "4  competitor bootcamps are closing is the model ...   \n",
       "\n",
       "                                             stemmed  \\\n",
       "0  the rumor are true the time ha arriv codeup ha...   \n",
       "1  by dimitri antoni and maggi giust data scienc ...   \n",
       "2  by dimitri antoni a week ago codeup launch our...   \n",
       "3  sa tech job fair the third biannual san antoni...   \n",
       "4  competitor bootcamp are close is the model in ...   \n",
       "\n",
       "                                          lemmatized  \n",
       "0  the rumor are true the time ha arrived codeup ...  \n",
       "1  by dimitri antoniou and maggie giust data scie...  \n",
       "2  by dimitri antoniou a week ago codeup launched...  \n",
       "3  sa tech job fair the third biannual san antoni...  \n",
       "4  competitor bootcamps are closing is the model ...  "
      ]
     },
     "execution_count": 237,
     "metadata": {},
     "output_type": "execute_result"
    }
   ],
   "source": [
    "codeup_df"
   ]
  },
  {
   "cell_type": "code",
   "execution_count": 238,
   "id": "fd2c354a",
   "metadata": {},
   "outputs": [],
   "source": [
    "news_df = clean_dataframe(news_df)\n",
    "news_df = stem_dataframe(news_df)\n",
    "news_df = lemmatize_dataframe(news_df)"
   ]
  },
  {
   "cell_type": "code",
   "execution_count": 240,
   "id": "be34bf6e",
   "metadata": {},
   "outputs": [
    {
     "data": {
      "text/html": [
       "<div>\n",
       "<style scoped>\n",
       "    .dataframe tbody tr th:only-of-type {\n",
       "        vertical-align: middle;\n",
       "    }\n",
       "\n",
       "    .dataframe tbody tr th {\n",
       "        vertical-align: top;\n",
       "    }\n",
       "\n",
       "    .dataframe thead th {\n",
       "        text-align: right;\n",
       "    }\n",
       "</style>\n",
       "<table border=\"1\" class=\"dataframe\">\n",
       "  <thead>\n",
       "    <tr style=\"text-align: right;\">\n",
       "      <th></th>\n",
       "      <th>title</th>\n",
       "      <th>original</th>\n",
       "      <th>category</th>\n",
       "      <th>clean</th>\n",
       "      <th>stemmed</th>\n",
       "      <th>lemmatized</th>\n",
       "    </tr>\n",
       "  </thead>\n",
       "  <tbody>\n",
       "    <tr>\n",
       "      <th>0</th>\n",
       "      <td>Navi Mutual Fund offers SIPs starting at ₹500</td>\n",
       "      <td>Navi Mutual Fund is offering investors the opt...</td>\n",
       "      <td>business</td>\n",
       "      <td>navi mutual fund is offering investors the opt...</td>\n",
       "      <td>navi mutual fund is offer investor the option ...</td>\n",
       "      <td>navi mutual fund is offering investor the opti...</td>\n",
       "    </tr>\n",
       "    <tr>\n",
       "      <th>1</th>\n",
       "      <td>'Man who takes 6 months parental leave is a lo...</td>\n",
       "      <td>Several Twitter users criticised US-based Pala...</td>\n",
       "      <td>business</td>\n",
       "      <td>several twitter users criticised usbased palan...</td>\n",
       "      <td>sever twitter user criticis usbas palantir tec...</td>\n",
       "      <td>several twitter user criticised usbased palant...</td>\n",
       "    </tr>\n",
       "    <tr>\n",
       "      <th>2</th>\n",
       "      <td>Cognizant had to choose clients to serve: CEO ...</td>\n",
       "      <td>Cognizant CEO Brian Humphries has said the fir...</td>\n",
       "      <td>business</td>\n",
       "      <td>cognizant ceo brian humphries has said the fir...</td>\n",
       "      <td>cogniz ceo brian humphri ha said the firm doe ...</td>\n",
       "      <td>cognizant ceo brian humphries ha said the firm...</td>\n",
       "    </tr>\n",
       "    <tr>\n",
       "      <th>3</th>\n",
       "      <td>Delhi HC notice to RBI, SBI over banning UPI p...</td>\n",
       "      <td>The Delhi High Court on Thursday issued notice...</td>\n",
       "      <td>business</td>\n",
       "      <td>the delhi high court on thursday issued notice...</td>\n",
       "      <td>the delhi high court on thursday issu notic to...</td>\n",
       "      <td>the delhi high court on thursday issued notice...</td>\n",
       "    </tr>\n",
       "    <tr>\n",
       "      <th>4</th>\n",
       "      <td>Elon Musk and Jeff Bezos are now worth nearly ...</td>\n",
       "      <td>The combined net worth of the world's two rich...</td>\n",
       "      <td>business</td>\n",
       "      <td>the combined net worth of the world ' s two ri...</td>\n",
       "      <td>the combin net worth of the world ' s two rich...</td>\n",
       "      <td>the combined net worth of the world ' s two ri...</td>\n",
       "    </tr>\n",
       "  </tbody>\n",
       "</table>\n",
       "</div>"
      ],
      "text/plain": [
       "                                               title  \\\n",
       "0      Navi Mutual Fund offers SIPs starting at ₹500   \n",
       "1  'Man who takes 6 months parental leave is a lo...   \n",
       "2  Cognizant had to choose clients to serve: CEO ...   \n",
       "3  Delhi HC notice to RBI, SBI over banning UPI p...   \n",
       "4  Elon Musk and Jeff Bezos are now worth nearly ...   \n",
       "\n",
       "                                            original  category  \\\n",
       "0  Navi Mutual Fund is offering investors the opt...  business   \n",
       "1  Several Twitter users criticised US-based Pala...  business   \n",
       "2  Cognizant CEO Brian Humphries has said the fir...  business   \n",
       "3  The Delhi High Court on Thursday issued notice...  business   \n",
       "4  The combined net worth of the world's two rich...  business   \n",
       "\n",
       "                                               clean  \\\n",
       "0  navi mutual fund is offering investors the opt...   \n",
       "1  several twitter users criticised usbased palan...   \n",
       "2  cognizant ceo brian humphries has said the fir...   \n",
       "3  the delhi high court on thursday issued notice...   \n",
       "4  the combined net worth of the world ' s two ri...   \n",
       "\n",
       "                                             stemmed  \\\n",
       "0  navi mutual fund is offer investor the option ...   \n",
       "1  sever twitter user criticis usbas palantir tec...   \n",
       "2  cogniz ceo brian humphri ha said the firm doe ...   \n",
       "3  the delhi high court on thursday issu notic to...   \n",
       "4  the combin net worth of the world ' s two rich...   \n",
       "\n",
       "                                          lemmatized  \n",
       "0  navi mutual fund is offering investor the opti...  \n",
       "1  several twitter user criticised usbased palant...  \n",
       "2  cognizant ceo brian humphries ha said the firm...  \n",
       "3  the delhi high court on thursday issued notice...  \n",
       "4  the combined net worth of the world ' s two ri...  "
      ]
     },
     "execution_count": 240,
     "metadata": {},
     "output_type": "execute_result"
    }
   ],
   "source": [
    "news_df.head()"
   ]
  }
 ],
 "metadata": {
  "kernelspec": {
   "display_name": "Python 3",
   "language": "python",
   "name": "python3"
  },
  "language_info": {
   "codemirror_mode": {
    "name": "ipython",
    "version": 3
   },
   "file_extension": ".py",
   "mimetype": "text/x-python",
   "name": "python",
   "nbconvert_exporter": "python",
   "pygments_lexer": "ipython3",
   "version": "3.8.8"
  }
 },
 "nbformat": 4,
 "nbformat_minor": 5
}
