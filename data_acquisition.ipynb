{
 "cells": [
  {
   "cell_type": "code",
   "execution_count": null,
   "id": "49ffcd15",
   "metadata": {},
   "outputs": [],
   "source": [
    "from requests import get\n",
    "from bs4 import BeautifulSoup\n",
    "import os\n",
    "import pandas as pd"
   ]
  },
  {
   "cell_type": "code",
   "execution_count": 2,
   "id": "d0189c05",
   "metadata": {},
   "outputs": [],
   "source": [
    "url = 'https://web-scraping-demo.zgulde.net/news'\n",
    "response = get(url)"
   ]
  },
  {
   "cell_type": "code",
   "execution_count": 3,
   "id": "a8252384",
   "metadata": {},
   "outputs": [
    {
     "name": "stdout",
     "output_type": "stream",
     "text": [
      "<!DOCTYPE html>\n",
      "<html lang=\"en\">\n",
      "<head>\n",
      "    <meta charset=\"UTF-8\">\n",
      "    <meta http-equiv=\"X-UA-Compatible\" content=\"IE=edge\">\n",
      "    <meta name=\"viewport\" content=\"width=device-width, initial-scale=1.0\">\n",
      "    <title>News Example Page</title>\n",
      "    <link href=\"https://unpkg.com/tailwindcss@^2/dist/tailwind.min.css\" rel=\"stylesheet\" />\n",
      "    <link rel=\"stylesheet\" href=\"https://cdn.jsdelivr.net/npm/bootstrap\n"
     ]
    }
   ],
   "source": [
    "print(response.text[:400])"
   ]
  },
  {
   "cell_type": "code",
   "execution_count": 4,
   "id": "0d16ff5a",
   "metadata": {},
   "outputs": [],
   "source": [
    "# Make a soup variable holding the response content\n",
    "soup = BeautifulSoup(response.content, 'html.parser')"
   ]
  },
  {
   "cell_type": "code",
   "execution_count": 9,
   "id": "ab5b6394",
   "metadata": {},
   "outputs": [
    {
     "data": {
      "text/plain": [
       "'News Example Page'"
      ]
     },
     "execution_count": 9,
     "metadata": {},
     "output_type": "execute_result"
    }
   ],
   "source": [
    "soup.title.string"
   ]
  },
  {
   "cell_type": "code",
   "execution_count": 10,
   "id": "9cdfec5d",
   "metadata": {},
   "outputs": [
    {
     "data": {
      "text/plain": [
       "'<!DOCTYPE html>\\n<html lang=\"en\">\\n <head>\\n  <meta charset=\"utf-8\"/>\\n  <meta content=\"IE=edge\" http-equiv=\"X-UA-Compatible\"/>\\n  <meta content=\"width=device-width, initial-scale=1.0\" name=\"viewport\"/>\\n  <title>\\n   News Example Page\\n  </title>\\n  <link href=\"https://unpkg.com/tailwindcss@^2/dist/tailwind.min.css\" rel=\"stylesheet\"/>\\n  <link href=\"https://cdn.jsdelivr.net/npm/bootstrap-icons@1.4.1/font/bootstrap-icons.css\" rel=\"stylesheet\"/>\\n </head>\\n <body class=\"mx-auto max-w-screen-lg pb-32\">\\n  <h1 class=\"my-5 text-4xl text-center\">\\n   News!\\n  </h1>\\n  <div class=\"my-5 text-red-800 px-5 py-3 bg-red-100 font-bold\">\\n   <p>\\n    <i class=\"bi bi-exclamation-circle text-xl\">\\n    </i>\\n    All data on this page is strictly for demonstration purposes and fake.\\n   </p>\\n  </div>\\n  <div class=\"grid gap-y-12\">\\n   <div class=\"grid grid-cols-4 gap-x-4 border rounded pr-3 bg-green-50 hover:shadow-lg transition duration-500\">\\n    <img src=\"/static/placeholder.png\"/>\\n    <div class=\"col-span-3 space-y-3 py-3\">\\n     <h2 class=\"text-2xl text-green-900\">\\n      majority north some\\n     </h2>\\n     <div class=\"grid grid-cols-2 italic\">\\n      <p>\\n       1986-12-27\\n      </p>\\n      <p class=\"text-right\">\\n       By Gary White\\n      </p>\\n     </div>\\n     <p>\\n      Together design number into region. Too he its sport relate. Future sea heart role avoid cut Republican.\\nScience remain force six story election. Thought maintain tonight management look.\\n     </p>\\n    </div>\\n   </div>\\n   <div class=\"grid grid-cols-4 gap-x-4 border rounded pr-3 bg-green-50 hover:shadow-lg transition duration-500\">\\n    <img src=\"/static/placeholder.png\"/>\\n    <div class=\"col-span-3 space-y-3 py-3\">\\n     <h2 class=\"text-2xl text-green-900\">\\n      box executive type\\n     </h2>\\n     <div class=\"grid grid-cols-2 italic\">\\n      <p>\\n       2011-12-26\\n      </p>\\n      <p class=\"text-right\">\\n       By Rodney Yang\\n      </p>\\n     </div>\\n     <p>\\n      Even suggest must anyone down simply history. Institution every face top.\\nModel interesting close. Clearly chance PM court small. Full health situation bank after serious first.\\n     </p>\\n    </div>\\n   </div>\\n   <div class=\"grid grid-cols-4 gap-x-4 border rounded pr-3 bg-green-50 hover:shadow-lg transition duration-500\">\\n    <img src=\"/static/placeholder.png\"/>\\n    <div class=\"col-span-3 space-y-3 py-3\">\\n     <h2 class=\"text-2xl text-green-900\">\\n      street create sit\\n     </h2>\\n     <div class=\"grid grid-cols-2 italic\">\\n      <p>\\n       1974-09-30\\n      </p>\\n      <p class=\"text-right\">\\n       By Scott Jimenez\\n      </p>\\n     </div>\\n     <p>\\n      Send per life huge similar beautiful.\\nYet store middle again watch. Cold interview coach. It full avoid PM station.\\n     </p>\\n    </div>\\n   </div>\\n   <div class=\"grid grid-cols-4 gap-x-4 border rounded pr-3 bg-green-50 hover:shadow-lg transition duration-500\">\\n    <img src=\"/static/placeholder.png\"/>\\n    <div class=\"col-span-3 space-y-3 py-3\">\\n     <h2 class=\"text-2xl text-green-900\">\\n      forget sign have\\n     </h2>\\n     <div class=\"grid grid-cols-2 italic\">\\n      <p>\\n       2013-01-29\\n      </p>\\n      <p class=\"text-right\">\\n       By Michael Perkins\\n      </p>\\n     </div>\\n     <p>\\n      Across their possible turn brother ok debate. Theory seat meet everybody garden American tree.\\nStation person character low seven police enjoy. State chair media like job against.\\n     </p>\\n    </div>\\n   </div>\\n   <div class=\"grid grid-cols-4 gap-x-4 border rounded pr-3 bg-green-50 hover:shadow-lg transition duration-500\">\\n    <img src=\"/static/placeholder.png\"/>\\n    <div class=\"col-span-3 space-y-3 py-3\">\\n     <h2 class=\"text-2xl text-green-900\">\\n      son read work\\n     </h2>\\n     <div class=\"grid grid-cols-2 italic\">\\n      <p>\\n       2014-07-11\\n      </p>\\n      <p class=\"text-right\">\\n       By Dana Short\\n      </p>\\n     </div>\\n     <p>\\n      Which middle time past some three election live. Beat fall commercial arm born carry. Deal include yet usually computer miss.\\nLeg personal task central. Though place traditional your feeling. Writer fall street coach certainly help address suddenly.\\n     </p>\\n    </div>\\n   </div>\\n   <div class=\"grid grid-cols-4 gap-x-4 border rounded pr-3 bg-green-50 hover:shadow-lg transition duration-500\">\\n    <img src=\"/static/placeholder.png\"/>\\n    <div class=\"col-span-3 space-y-3 py-3\">\\n     <h2 class=\"text-2xl text-green-900\">\\n      important work guy\\n     </h2>\\n     <div class=\"grid grid-cols-2 italic\">\\n      <p>\\n       1975-05-16\\n      </p>\\n      <p class=\"text-right\">\\n       By Samantha David\\n      </p>\\n     </div>\\n     <p>\\n      Reason street evidence each language left. Clearly build whatever attention law. Cold simply however value worry.\\nDifficult increase mission drop maintain today box. Smile employee mouth accept throughout analysis television expert. Serious onto either computer tree. World recently language investment.\\n     </p>\\n    </div>\\n   </div>\\n   <div class=\"grid grid-cols-4 gap-x-4 border rounded pr-3 bg-green-50 hover:shadow-lg transition duration-500\">\\n    <img src=\"/static/placeholder.png\"/>\\n    <div class=\"col-span-3 space-y-3 py-3\">\\n     <h2 class=\"text-2xl text-green-900\">\\n      debate break political\\n     </h2>\\n     <div class=\"grid grid-cols-2 italic\">\\n      <p>\\n       1995-03-23\\n      </p>\\n      <p class=\"text-right\">\\n       By Carla Jones\\n      </p>\\n     </div>\\n     <p>\\n      Answer help fish thus rest thousand condition peace.\\nMorning else three total focus for.\\n     </p>\\n    </div>\\n   </div>\\n   <div class=\"grid grid-cols-4 gap-x-4 border rounded pr-3 bg-green-50 hover:shadow-lg transition duration-500\">\\n    <img src=\"/static/placeholder.png\"/>\\n    <div class=\"col-span-3 space-y-3 py-3\">\\n     <h2 class=\"text-2xl text-green-900\">\\n      someone successful already\\n     </h2>\\n     <div class=\"grid grid-cols-2 italic\">\\n      <p>\\n       2016-10-22\\n      </p>\\n      <p class=\"text-right\">\\n       By Stephen Escobar\\n      </p>\\n     </div>\\n     <p>\\n      Economic see million couple.\\nSection few student heavy marriage nor. Clearly ahead interesting something finish sound interesting.\\n     </p>\\n    </div>\\n   </div>\\n   <div class=\"grid grid-cols-4 gap-x-4 border rounded pr-3 bg-green-50 hover:shadow-lg transition duration-500\">\\n    <img src=\"/static/placeholder.png\"/>\\n    <div class=\"col-span-3 space-y-3 py-3\">\\n     <h2 class=\"text-2xl text-green-900\">\\n      car I example\\n     </h2>\\n     <div class=\"grid grid-cols-2 italic\">\\n      <p>\\n       2006-09-18\\n      </p>\\n      <p class=\"text-right\">\\n       By Brian Stafford\\n      </p>\\n     </div>\\n     <p>\\n      After grow total deal money. Radio almost none identify above close party alone.\\nShare certainly work they through price others. Cup say check not employee.\\n     </p>\\n    </div>\\n   </div>\\n   <div class=\"grid grid-cols-4 gap-x-4 border rounded pr-3 bg-green-50 hover:shadow-lg transition duration-500\">\\n    <img src=\"/static/placeholder.png\"/>\\n    <div class=\"col-span-3 space-y-3 py-3\">\\n     <h2 class=\"text-2xl text-green-900\">\\n      risk animal usually\\n     </h2>\\n     <div class=\"grid grid-cols-2 italic\">\\n      <p>\\n       2012-08-17\\n      </p>\\n      <p class=\"text-right\">\\n       By Benjamin Luna\\n      </p>\\n     </div>\\n     <p>\\n      Later determine rise that customer full best. Third ever entire activity. Series how mission require.\\nThrow low above born few smile condition. Group each my Mr.\\n     </p>\\n    </div>\\n   </div>\\n   <div class=\"grid grid-cols-4 gap-x-4 border rounded pr-3 bg-green-50 hover:shadow-lg transition duration-500\">\\n    <img src=\"/static/placeholder.png\"/>\\n    <div class=\"col-span-3 space-y-3 py-3\">\\n     <h2 class=\"text-2xl text-green-900\">\\n      pretty newspaper language\\n     </h2>\\n     <div class=\"grid grid-cols-2 italic\">\\n      <p>\\n       1981-07-12\\n      </p>\\n      <p class=\"text-right\">\\n       By Stacey Petersen\\n      </p>\\n     </div>\\n     <p>\\n      Finally this in treatment really democratic all. Bring physical investment listen million.\\nExecutive production against last down guy too feeling. Market sister nor new than.\\n     </p>\\n    </div>\\n   </div>\\n   <div class=\"grid grid-cols-4 gap-x-4 border rounded pr-3 bg-green-50 hover:shadow-lg transition duration-500\">\\n    <img src=\"/static/placeholder.png\"/>\\n    <div class=\"col-span-3 space-y-3 py-3\">\\n     <h2 class=\"text-2xl text-green-900\">\\n      significant image think\\n     </h2>\\n     <div class=\"grid grid-cols-2 italic\">\\n      <p>\\n       1992-02-25\\n      </p>\\n      <p class=\"text-right\">\\n       By Jasmine Martin\\n      </p>\\n     </div>\\n     <p>\\n      Radio buy natural rate. Manager federal ability. Under tree treat traditional laugh everyone cell.\\nKey plant agreement. Challenge concern democratic near one any.\\n     </p>\\n    </div>\\n   </div>\\n  </div>\\n </body>\\n</html>'"
      ]
     },
     "execution_count": 10,
     "metadata": {},
     "output_type": "execute_result"
    }
   ],
   "source": [
    "soup.prettify()"
   ]
  },
  {
   "cell_type": "code",
   "execution_count": 11,
   "id": "36cb1623",
   "metadata": {},
   "outputs": [
    {
     "data": {
      "text/plain": [
       "[]"
      ]
     },
     "execution_count": 11,
     "metadata": {},
     "output_type": "execute_result"
    }
   ],
   "source": [
    "soup.find_all(\"a\")"
   ]
  },
  {
   "cell_type": "code",
   "execution_count": 13,
   "id": "f41e7209",
   "metadata": {},
   "outputs": [
    {
     "data": {
      "text/plain": [
       "<h1 class=\"my-5 text-4xl text-center\">News!</h1>"
      ]
     },
     "execution_count": 13,
     "metadata": {},
     "output_type": "execute_result"
    }
   ],
   "source": [
    "soup.find(\"h1\")"
   ]
  },
  {
   "cell_type": "code",
   "execution_count": 14,
   "id": "110100f9",
   "metadata": {},
   "outputs": [
    {
     "data": {
      "text/plain": [
       "'\\n\\n\\n\\n\\n\\nNews Example Page\\n\\n\\n\\n\\nNews!\\n\\n\\n\\n        All data on this page is strictly for demonstration purposes and fake.\\n    \\n\\n\\n\\n\\n\\nmajority north some\\n\\n 1986-12-27 \\nBy Gary White \\n\\nTogether design number into region. Too he its sport relate. Future sea heart role avoid cut Republican.\\nScience remain force six story election. Thought maintain tonight management look.\\n\\n\\n\\n\\n\\nbox executive type\\n\\n 2011-12-26 \\nBy Rodney Yang \\n\\nEven suggest must anyone down simply history. Institution every face top.\\nModel interesting close. Clearly chance PM court small. Full health situation bank after serious first.\\n\\n\\n\\n\\n\\nstreet create sit\\n\\n 1974-09-30 \\nBy Scott Jimenez \\n\\nSend per life huge similar beautiful.\\nYet store middle again watch. Cold interview coach. It full avoid PM station.\\n\\n\\n\\n\\n\\nforget sign have\\n\\n 2013-01-29 \\nBy Michael Perkins \\n\\nAcross their possible turn brother ok debate. Theory seat meet everybody garden American tree.\\nStation person character low seven police enjoy. State chair media like job against.\\n\\n\\n\\n\\n\\nson read work\\n\\n 2014-07-11 \\nBy Dana Short \\n\\nWhich middle time past some three election live. Beat fall commercial arm born carry. Deal include yet usually computer miss.\\nLeg personal task central. Though place traditional your feeling. Writer fall street coach certainly help address suddenly.\\n\\n\\n\\n\\n\\nimportant work guy\\n\\n 1975-05-16 \\nBy Samantha David \\n\\nReason street evidence each language left. Clearly build whatever attention law. Cold simply however value worry.\\nDifficult increase mission drop maintain today box. Smile employee mouth accept throughout analysis television expert. Serious onto either computer tree. World recently language investment.\\n\\n\\n\\n\\n\\ndebate break political\\n\\n 1995-03-23 \\nBy Carla Jones \\n\\nAnswer help fish thus rest thousand condition peace.\\nMorning else three total focus for.\\n\\n\\n\\n\\n\\nsomeone successful already\\n\\n 2016-10-22 \\nBy Stephen Escobar \\n\\nEconomic see million couple.\\nSection few student heavy marriage nor. Clearly ahead interesting something finish sound interesting.\\n\\n\\n\\n\\n\\ncar I example\\n\\n 2006-09-18 \\nBy Brian Stafford \\n\\nAfter grow total deal money. Radio almost none identify above close party alone.\\nShare certainly work they through price others. Cup say check not employee.\\n\\n\\n\\n\\n\\nrisk animal usually\\n\\n 2012-08-17 \\nBy Benjamin Luna \\n\\nLater determine rise that customer full best. Third ever entire activity. Series how mission require.\\nThrow low above born few smile condition. Group each my Mr.\\n\\n\\n\\n\\n\\npretty newspaper language\\n\\n 1981-07-12 \\nBy Stacey Petersen \\n\\nFinally this in treatment really democratic all. Bring physical investment listen million.\\nExecutive production against last down guy too feeling. Market sister nor new than.\\n\\n\\n\\n\\n\\nsignificant image think\\n\\n 1992-02-25 \\nBy Jasmine Martin \\n\\nRadio buy natural rate. Manager federal ability. Under tree treat traditional laugh everyone cell.\\nKey plant agreement. Challenge concern democratic near one any.\\n\\n\\n\\n\\n'"
      ]
     },
     "execution_count": 14,
     "metadata": {},
     "output_type": "execute_result"
    }
   ],
   "source": [
    "soup.get_text()"
   ]
  },
  {
   "cell_type": "code",
   "execution_count": 17,
   "id": "c585f132",
   "metadata": {},
   "outputs": [
    {
     "data": {
      "text/plain": [
       "'\\n\\n\\n\\n\\n\\nNews Example Page\\n\\n\\n\\n\\nNews!\\n\\n\\n\\n        All data on this page is strictly for demonstration purposes and fake.\\n    \\n\\n\\n\\n\\n\\nmajority north some\\n\\n 1986-12-27 \\nBy Gary White \\n\\nTogether design number into region. Too he its sport relate. Future sea heart role avoid cut Republican.\\nScience remain force six story election. Thought maintain tonight management look.\\n\\n\\n\\n\\n\\nbox executive type\\n\\n 2011-12-26 \\nBy Rodney Yang \\n\\nEven suggest must anyone down simply history. Institution every face top.\\nModel interesting close. Clearly chance PM court small. Full health situation bank after serious first.\\n\\n\\n\\n\\n\\nstreet create sit\\n\\n 1974-09-30 \\nBy Scott Jimenez \\n\\nSend per life huge similar beautiful.\\nYet store middle again watch. Cold interview coach. It full avoid PM station.\\n\\n\\n\\n\\n\\nforget sign have\\n\\n 2013-01-29 \\nBy Michael Perkins \\n\\nAcross their possible turn brother ok debate. Theory seat meet everybody garden American tree.\\nStation person character low seven police enjoy. State chair media like job against.\\n\\n\\n\\n\\n\\nson read work\\n\\n 2014-07-11 \\nBy Dana Short \\n\\nWhich middle time past some three election live. Beat fall commercial arm born carry. Deal include yet usually computer miss.\\nLeg personal task central. Though place traditional your feeling. Writer fall street coach certainly help address suddenly.\\n\\n\\n\\n\\n\\nimportant work guy\\n\\n 1975-05-16 \\nBy Samantha David \\n\\nReason street evidence each language left. Clearly build whatever attention law. Cold simply however value worry.\\nDifficult increase mission drop maintain today box. Smile employee mouth accept throughout analysis television expert. Serious onto either computer tree. World recently language investment.\\n\\n\\n\\n\\n\\ndebate break political\\n\\n 1995-03-23 \\nBy Carla Jones \\n\\nAnswer help fish thus rest thousand condition peace.\\nMorning else three total focus for.\\n\\n\\n\\n\\n\\nsomeone successful already\\n\\n 2016-10-22 \\nBy Stephen Escobar \\n\\nEconomic see million couple.\\nSection few student heavy marriage nor. Clearly ahead interesting something finish sound interesting.\\n\\n\\n\\n\\n\\ncar I example\\n\\n 2006-09-18 \\nBy Brian Stafford \\n\\nAfter grow total deal money. Radio almost none identify above close party alone.\\nShare certainly work they through price others. Cup say check not employee.\\n\\n\\n\\n\\n\\nrisk animal usually\\n\\n 2012-08-17 \\nBy Benjamin Luna \\n\\nLater determine rise that customer full best. Third ever entire activity. Series how mission require.\\nThrow low above born few smile condition. Group each my Mr.\\n\\n\\n\\n\\n\\npretty newspaper language\\n\\n 1981-07-12 \\nBy Stacey Petersen \\n\\nFinally this in treatment really democratic all. Bring physical investment listen million.\\nExecutive production against last down guy too feeling. Market sister nor new than.\\n\\n\\n\\n\\n\\nsignificant image think\\n\\n 1992-02-25 \\nBy Jasmine Martin \\n\\nRadio buy natural rate. Manager federal ability. Under tree treat traditional laugh everyone cell.\\nKey plant agreement. Challenge concern democratic near one any.\\n\\n\\n\\n\\n'"
      ]
     },
     "execution_count": 17,
     "metadata": {},
     "output_type": "execute_result"
    }
   ],
   "source": [
    "article = soup.get_text()\n",
    "article"
   ]
  },
  {
   "cell_type": "code",
   "execution_count": 18,
   "id": "373fe553",
   "metadata": {},
   "outputs": [],
   "source": [
    "with open('article.txt', 'w') as f:\n",
    "    f.write(article)"
   ]
  },
  {
   "cell_type": "code",
   "execution_count": 19,
   "id": "971b44f1",
   "metadata": {},
   "outputs": [],
   "source": [
    "def get_article_text():\n",
    "    # if we already have the data, read it locally\n",
    "    if path.exists('article.txt'):\n",
    "        with open('article.txt') as f:\n",
    "            return f.read()\n",
    "\n",
    "    # otherwise go fetch the data\n",
    "    url = 'https://codeup.com/data-science/math-in-data-science/'\n",
    "    headers = {'User-Agent': 'Codeup Data Science'}\n",
    "    response = get(url, headers=headers)\n",
    "    soup = BeautifulSoup(response.text)\n",
    "    article = soup.find('div', id='main-content')\n",
    "\n",
    "    # save it for next time\n",
    "    with open('article.txt', 'w') as f:\n",
    "        f.write(article.text)\n",
    "\n",
    "    return article.text"
   ]
  },
  {
   "cell_type": "code",
   "execution_count": 21,
   "id": "affff79d",
   "metadata": {},
   "outputs": [],
   "source": [
    "def parse_news_article(article):\n",
    "    title = article.h2.text\n",
    "    date, author = article.select('.italic')"
   ]
  },
  {
   "cell_type": "code",
   "execution_count": 24,
   "id": "7790c477",
   "metadata": {},
   "outputs": [
    {
     "ename": "SyntaxError",
     "evalue": "'return' outside function (<ipython-input-24-f495a34e0f82>, line 2)",
     "output_type": "error",
     "traceback": [
      "\u001b[0;36m  File \u001b[0;32m\"<ipython-input-24-f495a34e0f82>\"\u001b[0;36m, line \u001b[0;32m2\u001b[0m\n\u001b[0;31m    return {'title': title, 'date': date.text, 'author': author.text}\u001b[0m\n\u001b[0m    ^\u001b[0m\n\u001b[0;31mSyntaxError\u001b[0m\u001b[0;31m:\u001b[0m 'return' outside function\n"
     ]
    }
   ],
   "source": [
    "soup.find_all('p')\n",
    "return {'title': title, 'date': date.text, 'author': author.text}"
   ]
  },
  {
   "cell_type": "code",
   "execution_count": 25,
   "id": "e0906cc1",
   "metadata": {},
   "outputs": [
    {
     "ename": "NameError",
     "evalue": "name 'pd' is not defined",
     "output_type": "error",
     "traceback": [
      "\u001b[0;31m---------------------------------------------------------------------------\u001b[0m",
      "\u001b[0;31mNameError\u001b[0m                                 Traceback (most recent call last)",
      "\u001b[0;32m<ipython-input-25-137edb0c34dc>\u001b[0m in \u001b[0;36m<module>\u001b[0;34m\u001b[0m\n\u001b[1;32m      1\u001b[0m \u001b[0msoup\u001b[0m \u001b[0;34m=\u001b[0m \u001b[0mBeautifulSoup\u001b[0m\u001b[0;34m(\u001b[0m\u001b[0mresponse\u001b[0m\u001b[0;34m.\u001b[0m\u001b[0mtext\u001b[0m\u001b[0;34m)\u001b[0m\u001b[0;34m\u001b[0m\u001b[0;34m\u001b[0m\u001b[0m\n\u001b[1;32m      2\u001b[0m \u001b[0marticles\u001b[0m \u001b[0;34m=\u001b[0m \u001b[0msoup\u001b[0m\u001b[0;34m.\u001b[0m\u001b[0mselect\u001b[0m\u001b[0;34m(\u001b[0m\u001b[0;34m'.grid.gap-y-12 > div'\u001b[0m\u001b[0;34m)\u001b[0m\u001b[0;34m\u001b[0m\u001b[0;34m\u001b[0m\u001b[0m\n\u001b[0;32m----> 3\u001b[0;31m \u001b[0mpd\u001b[0m\u001b[0;34m.\u001b[0m\u001b[0mDataFrame\u001b[0m\u001b[0;34m(\u001b[0m\u001b[0;34m[\u001b[0m\u001b[0mparse_news_article\u001b[0m\u001b[0;34m(\u001b[0m\u001b[0marticle\u001b[0m\u001b[0;34m)\u001b[0m \u001b[0;32mfor\u001b[0m \u001b[0marticle\u001b[0m \u001b[0;32min\u001b[0m \u001b[0marticles\u001b[0m\u001b[0;34m]\u001b[0m\u001b[0;34m)\u001b[0m\u001b[0;34m\u001b[0m\u001b[0;34m\u001b[0m\u001b[0m\n\u001b[0m",
      "\u001b[0;31mNameError\u001b[0m: name 'pd' is not defined"
     ]
    }
   ],
   "source": [
    "soup = BeautifulSoup(response.text)\n",
    "articles = soup.select('.grid.gap-y-12 > div')\n",
    "pd.DataFrame([parse_news_article(article) for article in articles])"
   ]
  },
  {
   "cell_type": "code",
   "execution_count": null,
   "id": "3f224862",
   "metadata": {},
   "outputs": [],
   "source": []
  }
 ],
 "metadata": {
  "kernelspec": {
   "display_name": "Python 3",
   "language": "python",
   "name": "python3"
  },
  "language_info": {
   "codemirror_mode": {
    "name": "ipython",
    "version": 3
   },
   "file_extension": ".py",
   "mimetype": "text/x-python",
   "name": "python",
   "nbconvert_exporter": "python",
   "pygments_lexer": "ipython3",
   "version": "3.8.8"
  }
 },
 "nbformat": 4,
 "nbformat_minor": 5
}
